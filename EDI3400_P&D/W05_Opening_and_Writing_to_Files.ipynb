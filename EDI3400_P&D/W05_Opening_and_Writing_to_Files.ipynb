{
 "cells": [
  {
   "cell_type": "markdown",
   "metadata": {},
   "source": [
    "## Command-promt/terminal/system-commands\n",
    "\n",
    "- `pwd` is a command that can be used to print the directory where you are currently standing\n",
    "- `ls` lists the content of the working directory\n",
    "- `less` show the content of a file\n",
    "\n",
    "**Note:** *These commands are not Python code but 'system'-commands. You may have to run them in a code cell with no other input on the first line in the cell. You can run all types of 'system'-commands if you start a line with the !-symbol. Windows and Unix have different system commands, but some standard Unix commands like 'pwd', 'ls' and 'less' is built into the Jupyter Notebook.*"
   ]
  },
  {
   "cell_type": "code",
   "execution_count": 1,
   "metadata": {},
   "outputs": [
    {
     "data": {
      "text/plain": [
       "'c:\\\\Users\\\\Chiaki Nishihara\\\\OneDrive\\\\ドキュメント\\\\GitHub\\\\Note\\\\EDI3400_P&D'"
      ]
     },
     "execution_count": 1,
     "metadata": {},
     "output_type": "execute_result"
    }
   ],
   "source": [
    "pwd"
   ]
  },
  {
   "cell_type": "code",
   "execution_count": 1,
   "metadata": {},
   "outputs": [
    {
     "name": "stderr",
     "output_type": "stream",
     "text": [
      "UsageError: Missing filename.\n"
     ]
    }
   ],
   "source": [
    "less"
   ]
  },
  {
   "cell_type": "code",
   "execution_count": 5,
   "metadata": {},
   "outputs": [
    {
     "ename": "NameError",
     "evalue": "name 'Test' is not defined",
     "output_type": "error",
     "traceback": [
      "\u001b[1;31m---------------------------------------------------------------------------\u001b[0m",
      "\u001b[1;31mNameError\u001b[0m                                 Traceback (most recent call last)",
      "\u001b[1;32mc:\\Users\\Chiaki Nishihara\\OneDrive\\ドキュメント\\GitHub\\Note\\EDI3400_P&D\\W05_Opening_and_Writing_to_Files.ipynb Cell 4\u001b[0m line \u001b[0;36m1\n\u001b[1;32m----> <a href='vscode-notebook-cell:/c%3A/Users/Chiaki%20Nishihara/OneDrive/%E3%83%89%E3%82%AD%E3%83%A5%E3%83%A1%E3%83%B3%E3%83%88/GitHub/Note/EDI3400_P%26D/W05_Opening_and_Writing_to_Files.ipynb#W5sZmlsZQ%3D%3D?line=0'>1</a>\u001b[0m reader \u001b[39m=\u001b[39m \u001b[39mopen\u001b[39m(Test\u001b[39m.\u001b[39mtxt)\n",
      "\u001b[1;31mNameError\u001b[0m: name 'Test' is not defined"
     ]
    }
   ],
   "source": [
    "reader = open(Test.txt)"
   ]
  },
  {
   "cell_type": "code",
   "execution_count": null,
   "metadata": {},
   "outputs": [],
   "source": []
  }
 ],
 "metadata": {
  "kernelspec": {
   "display_name": "Python 3",
   "language": "python",
   "name": "python3"
  },
  "language_info": {
   "codemirror_mode": {
    "name": "ipython",
    "version": 3
   },
   "file_extension": ".py",
   "mimetype": "text/x-python",
   "name": "python",
   "nbconvert_exporter": "python",
   "pygments_lexer": "ipython3",
   "version": "3.11.2"
  },
  "orig_nbformat": 4
 },
 "nbformat": 4,
 "nbformat_minor": 2
}
