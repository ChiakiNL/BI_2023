{
 "cells": [
  {
   "cell_type": "code",
   "execution_count": 1,
   "metadata": {},
   "outputs": [
    {
     "name": "stdout",
     "output_type": "stream",
     "text": [
      "3.11.2\n"
     ]
    }
   ],
   "source": [
    "# platform is part of the Python Standard Library and gives \n",
    "# access to the underlying identifying data of the platform\n",
    "from platform import python_version\n",
    "print(python_version()) "
   ]
  },
  {
   "cell_type": "code",
   "execution_count": 3,
   "metadata": {},
   "outputs": [
    {
     "name": "stdout",
     "output_type": "stream",
     "text": [
      "The fruit is Yellow\n"
     ]
    }
   ],
   "source": [
    "# We want the code to print out the most common color of a fruit\n",
    "fruit = 'Banana'\n",
    "\n",
    "match fruit:\n",
    "    case 'Banana':\n",
    "        print('The fruit is Yellow')\n",
    "    case 'Apple':\n",
    "        print('The fruit is Red')\n",
    "    case 'Pear':\n",
    "        print('The fruit is Green')\n",
    "    case _:\n",
    "        # This is executed if nothing else is executed, must be placed at the end\n",
    "        print(\"I don't know the color of the fruit\")"
   ]
  },
  {
   "cell_type": "markdown",
   "metadata": {},
   "source": [
    "## The for loop"
   ]
  },
  {
   "cell_type": "code",
   "execution_count": null,
   "metadata": {},
   "outputs": [],
   "source": []
  }
 ],
 "metadata": {
  "kernelspec": {
   "display_name": "Python 3",
   "language": "python",
   "name": "python3"
  },
  "language_info": {
   "codemirror_mode": {
    "name": "ipython",
    "version": 3
   },
   "file_extension": ".py",
   "mimetype": "text/x-python",
   "name": "python",
   "nbconvert_exporter": "python",
   "pygments_lexer": "ipython3",
   "version": "3.11.2"
  },
  "orig_nbformat": 4
 },
 "nbformat": 4,
 "nbformat_minor": 2
}
