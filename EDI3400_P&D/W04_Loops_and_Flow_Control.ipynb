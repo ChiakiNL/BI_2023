{
 "cells": [
  {
   "cell_type": "code",
   "execution_count": null,
   "metadata": {},
   "outputs": [
    {
     "name": "stdout",
     "output_type": "stream",
     "text": [
      "3.11.2\n"
     ]
    }
   ],
   "source": [
    "# platform is part of the Python Standard Library and gives \n",
    "# access to the underlying identifying data of the platform\n",
    "from platform import python_version\n",
    "print(python_version()) "
   ]
  },
  {
   "cell_type": "code",
   "execution_count": null,
   "metadata": {},
   "outputs": [
    {
     "name": "stdout",
     "output_type": "stream",
     "text": [
      "The fruit is Yellow\n"
     ]
    }
   ],
   "source": [
    "# We want the code to print out the most common color of a fruit\n",
    "fruit = 'Banana'\n",
    "\n",
    "match fruit:\n",
    "    case 'Banana':\n",
    "        print('The fruit is Yellow')\n",
    "    case 'Apple':\n",
    "        print('The fruit is Red')\n",
    "    case 'Pear':\n",
    "        print('The fruit is Green')\n",
    "    case _:\n",
    "        # This is executed if nothing else is executed, must be placed at the end\n",
    "        print(\"I don't know the color of the fruit\")"
   ]
  },
  {
   "cell_type": "markdown",
   "metadata": {},
   "source": [
    "## The for loop"
   ]
  },
  {
   "cell_type": "code",
   "execution_count": null,
   "metadata": {},
   "outputs": [
    {
     "name": "stdout",
     "output_type": "stream",
     "text": [
      "1\n",
      "4\n",
      "9\n",
      "16\n",
      "25\n"
     ]
    }
   ],
   "source": [
    "numbers = (1, 2, 3, 4, 5)  # Create a list of fruits that we will loop through\n",
    "\n",
    "for number in numbers:                     # Syntax: for item in iterable_object:\n",
    "    print(number**2)                         # This code block will be repeated (** is exponent)"
   ]
  },
  {
   "cell_type": "markdown",
   "metadata": {},
   "source": [
    "## The range() function"
   ]
  },
  {
   "cell_type": "code",
   "execution_count": null,
   "metadata": {},
   "outputs": [
    {
     "name": "stdout",
     "output_type": "stream",
     "text": [
      "0\n",
      "1\n",
      "2\n",
      "3\n"
     ]
    }
   ],
   "source": [
    "# Print out the numbers from 0 to 3 (3 included) \n",
    "\n",
    "for index in range(4):\n",
    "    print(index)"
   ]
  },
  {
   "cell_type": "code",
   "execution_count": null,
   "metadata": {},
   "outputs": [
    {
     "name": "stdout",
     "output_type": "stream",
     "text": [
      "0\n",
      "3\n",
      "6\n",
      "9\n"
     ]
    }
   ],
   "source": [
    "# We can specify different start and stop, and what step to use\n",
    "\n",
    "for x in range(0, 10, 3):\n",
    "    print(x)"
   ]
  },
  {
   "cell_type": "code",
   "execution_count": null,
   "metadata": {},
   "outputs": [
    {
     "name": "stdout",
     "output_type": "stream",
     "text": [
      "[0, 1, 2, 3, 4, 5, 6, 7, 8, 9, 10, 11, 12, 13, 14, 15, 16, 17, 18, 19, 20]\n"
     ]
    }
   ],
   "source": [
    "# range is its own type\n",
    "\n",
    "print(list(range(21)))"
   ]
  },
  {
   "cell_type": "code",
   "execution_count": null,
   "metadata": {},
   "outputs": [
    {
     "name": "stdout",
     "output_type": "stream",
     "text": [
      "a\n",
      "d\n",
      "g\n",
      "j\n",
      "m\n",
      "p\n",
      "s\n",
      "u\n",
      "y\n"
     ]
    }
   ],
   "source": [
    "# Use the list function to create a list of letters\n",
    "\n",
    "letters = list('abcdefghijklmnopqrstvuwxyz')\n",
    "\n",
    "# Code that prints every third letter\n",
    "\n",
    "for i in range(0,26,3):\n",
    "    print(letters[i])"
   ]
  },
  {
   "cell_type": "markdown",
   "metadata": {},
   "source": [
    "## Nested loops"
   ]
  },
  {
   "cell_type": "code",
   "execution_count": null,
   "metadata": {},
   "outputs": [
    {
     "name": "stdout",
     "output_type": "stream",
     "text": [
      "['Monday_week_one', 'Tuesday_week_one', 'Wednesday_week_one', 'Thursday_week_one', 'Friday_week_one', 'Monday_week_two', 'Tuesday_week_two', 'Wednesday_week_two', 'Thursday_week_two', 'Friday_week_two', 'Monday_week_three', 'Tuesday_week_three', 'Wednesday_week_three', 'Thursday_week_three', 'Friday_week_three', 'Monday_week_four', 'Tuesday_week_four', 'Wednesday_week_four', 'Thursday_week_four', 'Friday_week_four']\n"
     ]
    }
   ],
   "source": [
    "# Create two lists one with days and one with weeks\n",
    "\n",
    "days = ['Monday', 'Tuesday', 'Wednesday', 'Thursday', 'Friday']\n",
    "weeks = ['week_one', 'week_two', 'week_three', 'week_four']\n",
    "\n",
    "days_and_weeks = [] # A new list that will have both days and weeks ['Monday_week_one'...]\n",
    "\n",
    "# We run a loop within a loop to combine the two lists days and weeks \n",
    "for week in weeks:\n",
    "    #print(week)\n",
    "    for day in days:\n",
    "        #print(day)\n",
    "        days_and_weeks.append(day + '_' + week)\n",
    "\n",
    "print(days_and_weeks)"
   ]
  },
  {
   "cell_type": "markdown",
   "metadata": {},
   "source": [
    "## Exercise 1: Counting Numbers\n",
    "Objective: Write a Python program that uses a for loop to count from 1 to 10 and prints each number."
   ]
  },
  {
   "cell_type": "code",
   "execution_count": null,
   "metadata": {},
   "outputs": [
    {
     "name": "stdout",
     "output_type": "stream",
     "text": [
      "1\n",
      "2\n",
      "3\n",
      "4\n",
      "5\n",
      "6\n",
      "7\n",
      "8\n",
      "9\n",
      "10\n"
     ]
    }
   ],
   "source": [
    "# Your code goes here\n",
    "numbers = (1, 2, 3, 4, 5, 6, 7, 8, 9, 10)\n",
    "for number in numbers:\n",
    "    print(number)"
   ]
  },
  {
   "cell_type": "markdown",
   "metadata": {},
   "source": [
    "### What professor did:"
   ]
  },
  {
   "cell_type": "code",
   "execution_count": null,
   "metadata": {},
   "outputs": [
    {
     "name": "stdout",
     "output_type": "stream",
     "text": [
      "1\n",
      "2\n",
      "3\n",
      "4\n",
      "5\n",
      "6\n",
      "7\n",
      "8\n",
      "9\n",
      "10\n"
     ]
    }
   ],
   "source": [
    "for number in range(1, 11):\n",
    "    print(number)"
   ]
  },
  {
   "cell_type": "markdown",
   "metadata": {},
   "source": [
    "## Back to lecture...\n",
    "## List comprehension"
   ]
  },
  {
   "cell_type": "code",
   "execution_count": null,
   "metadata": {},
   "outputs": [
    {
     "name": "stdout",
     "output_type": "stream",
     "text": [
      "['MONDAY', 'TUESDAY', 'WEDNESDAY', 'THURSDAY', 'FRIDAY']\n"
     ]
    }
   ],
   "source": [
    "days = ['Monday', 'Tuesday', 'Wednesday', 'Thursday', 'Friday'] \n",
    "\n",
    "# Using a standard for-loop to make the days into uppercase (in three lines of code)\n",
    "\n",
    "DAYS  = []\n",
    "for day in days: \n",
    "    DAYS.append(day.upper())\n",
    "print(DAYS)"
   ]
  },
  {
   "cell_type": "code",
   "execution_count": null,
   "metadata": {},
   "outputs": [
    {
     "name": "stdout",
     "output_type": "stream",
     "text": [
      "[0, 1, 4, 9, 16]\n"
     ]
    }
   ],
   "source": [
    "# Using list comprehension (one line of code) to do the same\n",
    "\n",
    "numbers_squared = [number**2 for number in range(5)]\n",
    "print(numbers_squared)"
   ]
  },
  {
   "cell_type": "code",
   "execution_count": null,
   "metadata": {},
   "outputs": [],
   "source": [
    "new_list = [day_upper.upper() for day_upper in days] "
   ]
  },
  {
   "cell_type": "code",
   "execution_count": null,
   "metadata": {},
   "outputs": [
    {
     "data": {
      "text/plain": [
       "['MONDAY', 'TUESDAY', 'WEDNESDAY', 'THURSDAY', 'FRIDAY']"
      ]
     },
     "execution_count": 36,
     "metadata": {},
     "output_type": "execute_result"
    }
   ],
   "source": [
    "new_list"
   ]
  },
  {
   "cell_type": "markdown",
   "metadata": {},
   "source": [
    "## General syntax for list comprehension    "
   ]
  },
  {
   "cell_type": "code",
   "execution_count": null,
   "metadata": {},
   "outputs": [],
   "source": [
    "# Adding an if statement\n",
    "# Note that this added condition is evaluated \n",
    "# for the initial list of days not the new one\n",
    "\n",
    "days_c = [day.upper() for day in days if day != 'Monday']"
   ]
  },
  {
   "cell_type": "code",
   "execution_count": null,
   "metadata": {},
   "outputs": [
    {
     "name": "stdout",
     "output_type": "stream",
     "text": [
      "The index is: 0\n",
      "Then the value is: a\n",
      "\n",
      "The index is: 1\n",
      "Then the value is: b\n",
      "\n",
      "The index is: 2\n",
      "Then the value is: c\n",
      "\n"
     ]
    }
   ],
   "source": [
    "for index, value in enumerate(['a', 'b', 'c']):\n",
    "    print(f'The index is: {index}')\n",
    "    print(f'Then the value is: {value}\\n')"
   ]
  },
  {
   "cell_type": "markdown",
   "metadata": {},
   "source": [
    "## The while loop\n",
    "Conditional loop"
   ]
  },
  {
   "cell_type": "code",
   "execution_count": null,
   "metadata": {},
   "outputs": [
    {
     "name": "stdout",
     "output_type": "stream",
     "text": [
      "10\n",
      "9\n",
      "8\n",
      "7\n",
      "6\n"
     ]
    }
   ],
   "source": [
    "x = 10\n",
    "while x > 5:     # The head of the while loop runs as long as a condition is True\n",
    "    print(x)     # As in the for loop we need to make an indentation to define the code block\n",
    "    x = x - 1    "
   ]
  },
  {
   "cell_type": "markdown",
   "metadata": {},
   "source": [
    "## Exercise 2 Sum of numbers"
   ]
  },
  {
   "cell_type": "code",
   "execution_count": 4,
   "metadata": {},
   "outputs": [
    {
     "name": "stdout",
     "output_type": "stream",
     "text": [
      "The sum of numbers from 1 to 6 is 21.\n"
     ]
    }
   ],
   "source": [
    "# Your code goes here\n",
    "\n",
    "user_input = int(input(\"Enter a number: \"))\n",
    "total = 0\n",
    "number = 1\n",
    "\n",
    "while number <= user_input:\n",
    "    total += number\n",
    "    number += 1\n",
    "\n",
    "print(f\"The sum of numbers from 1 to {user_input} is {total}.\")"
   ]
  },
  {
   "cell_type": "markdown",
   "metadata": {},
   "source": [
    "## Exercise3 Multiplication Table"
   ]
  },
  {
   "cell_type": "code",
   "execution_count": 6,
   "metadata": {},
   "outputs": [
    {
     "name": "stdout",
     "output_type": "stream",
     "text": [
      "1 2 3 4 5 \n",
      "2 4 6 8 10 \n",
      "3 6 9 12 15 \n",
      "4 8 12 16 20 \n",
      "5 10 15 20 25 \n"
     ]
    }
   ],
   "source": [
    "# Your code goes here\n",
    "for horizontal in range(1, 6):\n",
    "    for vertical in range(1, 6):\n",
    "        result = horizontal * vertical\n",
    "\n",
    "        print(result, end = \" \") # 文字の隣にスペースを作る役割\n",
    "    print() # 改行の役割"
   ]
  }
 ],
 "metadata": {
  "kernelspec": {
   "display_name": "Python 3",
   "language": "python",
   "name": "python3"
  },
  "language_info": {
   "codemirror_mode": {
    "name": "ipython",
    "version": 3
   },
   "file_extension": ".py",
   "mimetype": "text/x-python",
   "name": "python",
   "nbconvert_exporter": "python",
   "pygments_lexer": "ipython3",
   "version": "3.11.2"
  },
  "orig_nbformat": 4
 },
 "nbformat": 4,
 "nbformat_minor": 2
}
