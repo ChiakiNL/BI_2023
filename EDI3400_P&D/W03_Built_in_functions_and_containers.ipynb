{
 "cells": [
  {
   "cell_type": "code",
   "execution_count": 1,
   "metadata": {},
   "outputs": [
    {
     "name": "stdout",
     "output_type": "stream",
     "text": [
      "\u001b[1;31mSignature:\u001b[0m \u001b[0mprint\u001b[0m\u001b[1;33m(\u001b[0m\u001b[1;33m*\u001b[0m\u001b[0margs\u001b[0m\u001b[1;33m,\u001b[0m \u001b[0msep\u001b[0m\u001b[1;33m=\u001b[0m\u001b[1;34m' '\u001b[0m\u001b[1;33m,\u001b[0m \u001b[0mend\u001b[0m\u001b[1;33m=\u001b[0m\u001b[1;34m'\\n'\u001b[0m\u001b[1;33m,\u001b[0m \u001b[0mfile\u001b[0m\u001b[1;33m=\u001b[0m\u001b[1;32mNone\u001b[0m\u001b[1;33m,\u001b[0m \u001b[0mflush\u001b[0m\u001b[1;33m=\u001b[0m\u001b[1;32mFalse\u001b[0m\u001b[1;33m)\u001b[0m\u001b[1;33m\u001b[0m\u001b[1;33m\u001b[0m\u001b[0m\n",
      "\u001b[1;31mDocstring:\u001b[0m\n",
      "Prints the values to a stream, or to sys.stdout by default.\n",
      "\n",
      "sep\n",
      "  string inserted between values, default a space.\n",
      "end\n",
      "  string appended after the last value, default a newline.\n",
      "file\n",
      "  a file-like object (stream); defaults to the current sys.stdout.\n",
      "flush\n",
      "  whether to forcibly flush the stream.\n",
      "\u001b[1;31mType:\u001b[0m      builtin_function_or_method"
     ]
    }
   ],
   "source": [
    "# Getting help\n",
    "print?"
   ]
  },
  {
   "cell_type": "code",
   "execution_count": null,
   "metadata": {},
   "outputs": [],
   "source": [
    "# Compute the length of a list\n",
    "len(1, 2, 3, 4)"
   ]
  },
  {
   "cell_type": "markdown",
   "metadata": {},
   "source": [
    "## Basic Functions"
   ]
  },
  {
   "cell_type": "code",
   "execution_count": 1,
   "metadata": {},
   "outputs": [
    {
     "name": "stdout",
     "output_type": "stream",
     "text": [
      "Hello there!\n",
      "Length of your first name is: 6. Have a nice day!\n"
     ]
    }
   ],
   "source": [
    "# In class exercise: Basic Functions\n",
    "\n",
    "# 1. Print a message to the console using the print() function.\n",
    "print(\"Hello there!\")\n",
    "      \n",
    "# 2. Use the input() function to ask the user for their name and print a greeting.\n",
    "user_name = input(\"Could you tell me your first name?: \")\n",
    "\n",
    "# 3. Use the len() function to find out and display the number of characters in a string provided by the user.\n",
    "length = len(user_name)\n",
    "print(f\"Length of your first name is: {length}. Have a nice day!\")\n",
    "\n",
    "#Run terminal = ctrl + alt + t"
   ]
  },
  {
   "cell_type": "markdown",
   "metadata": {},
   "source": [
    "## Type Conversion"
   ]
  },
  {
   "cell_type": "code",
   "execution_count": 2,
   "metadata": {},
   "outputs": [
    {
     "name": "stdout",
     "output_type": "stream",
     "text": [
      "You chose this number: 654\n",
      "Here it should return the integer part of the chosen number: 542\n",
      "This is the number which is randomly chosen as string: 17\n",
      "This is the combined number as string: 542.4517\n"
     ]
    }
   ],
   "source": [
    "# 1. Ask the user to input a number as a string (e.g., \"1234\") and convert it to an integer using int().\n",
    "import random\n",
    "\n",
    "# Your code goes here\n",
    "user_choice_number = int(input(\"Give me a random integer number: \"))\n",
    "print(f\"You chose this number: {user_choice_number}\")\n",
    "\n",
    "# 2. Convert a floating point number to an integer and observe the result.\n",
    "# Your code goes here\n",
    "float_number = float(input(\"Type any random floating point number: \"))\n",
    "number_as_int = int(float_number)\n",
    "print(f\"Here it should return the integer part of the chosen number: {number_as_int}\")\n",
    "\n",
    "# 3. Convert a number to a string using str() and concatenate it with another string.\n",
    "# <your code goes here>\n",
    "number_as_string_1 = str(float_number)\n",
    "\n",
    "random_int = round(random.randint(1,100))\n",
    "\n",
    "number_as_string_2 = str(random_int)\n",
    "print(f\"This is the number which is randomly chosen as string: {number_as_string_2}\")\n",
    "\n",
    "print(f\"This is the combined number as string: {number_as_string_1}{number_as_string_2}\")"
   ]
  },
  {
   "cell_type": "markdown",
   "metadata": {},
   "source": [
    "## Math Functions"
   ]
  },
  {
   "cell_type": "code",
   "execution_count": null,
   "metadata": {},
   "outputs": [],
   "source": [
    "# 1. Use max() and min() to find the largest and smallest number from a list of numbers.\n",
    "import random\n",
    "# Your code goes here\n",
    "min_value = 1\n",
    "max_value = 100\n",
    "list_size = 10\n",
    "\n",
    "random_numbers = [random.randint(min_value, max_value) for _ in range(list_size)]\n",
    "\n",
    "print(f\"This is the number randomly chosen: {random_numbers}\")\n",
    "\n",
    "largest_number = max(random_numbers)\n",
    "smallest_number = min(random_numbers)\n",
    "\n",
    "print(f\"From the list, the largest number is: {largest_number}, the smallest number is: {smallest_number}.\\n\")\n",
    "# 2. Calculate the absolute value of a negative number using abs().\n",
    "# Your code goes here\n",
    "random_negative_number = random.randint(-100, -1)\n",
    "print(f\"The randomly chosen negative number is: {random_negative_number}\")\n",
    "\n",
    "absolute_value = abs(random_negative_number)\n",
    "\n",
    "print(f\"The absolute value of randomly-chosen negative number is: {absolute_value}\\n\")\n",
    "\n",
    "\n",
    "# 3. Use the pow() function to calculate the power of a number.\n",
    "# Your code goes here\n",
    "\n",
    "power_of_number = pow(4, 3)\n",
    "print(f\"The value of 4 raised to the power 3 is: {power_of_number}\")"
   ]
  },
  {
   "cell_type": "markdown",
   "metadata": {},
   "source": [
    "## Advanced Task"
   ]
  },
  {
   "cell_type": "markdown",
   "metadata": {},
   "source": [
    "## enumerate()関数\n",
    "\n",
    "List、タプル、stringなどのイテレート可能な要素を、それらの位置やインデックスを追跡しながら反復処理するために使用される組み込み関数です。ループの中で、要素とそれに対応するインデックスの両方が必要な場合によく使われます。"
   ]
  },
  {
   "cell_type": "code",
   "execution_count": 3,
   "metadata": {},
   "outputs": [
    {
     "name": "stdout",
     "output_type": "stream",
     "text": [
      "Index 0: apple\n",
      "Index 1: cherry\n",
      "Index 2: peach\n",
      "Index 3: banana\n",
      "Index 4: pear\n",
      "Index 5: orange\n"
     ]
    }
   ],
   "source": [
    "my_list = [\"apple\", \"cherry\", \"peach\", \"banana\", \"pear\", \"orange\"]\n",
    "\n",
    "for index, fruit in enumerate(my_list):\n",
    "    print(f\"Index {index}: {fruit}\")"
   ]
  },
  {
   "cell_type": "markdown",
   "metadata": {},
   "source": [
    "## zip() 関数\n",
    "複数のイテラブル（リスト、タプル、文字列など）を受け取り、対応する要素をペアにまとめる役割を果たします。これにより、異なるリストからデータを対応させて結合し、タプルのリストを生成できます。"
   ]
  },
  {
   "cell_type": "code",
   "execution_count": 4,
   "metadata": {},
   "outputs": [
    {
     "name": "stdout",
     "output_type": "stream",
     "text": [
      "[('Japan', '1'), ('USA', '2'), ('Norway', '3'), ('Egypt', '4'), ('Thailand', '5'), ('Southkorea', '6')]\n"
     ]
    }
   ],
   "source": [
    "list_one = [\"Japan\", \"USA\", \"Norway\", \"Egypt\", \"Thailand\", \"Southkorea\"]\n",
    "list_two = [\"1\", \"2\", \"3\", \"4\", \"5\", \"6\"]\n",
    "\n",
    "combined_list = list(zip(list_one, list_two))\n",
    "\n",
    "print(combined_list)"
   ]
  },
  {
   "cell_type": "markdown",
   "metadata": {},
   "source": [
    "## filter() 関数\n",
    "イテラブル（リスト、タプル、セットなど）内の要素に対して特定の条件を適用し、条件を満たす要素だけを抽出して新しいイテラブルを生成します。この関数は、要素をフィルタリングして、特定の条件を持つ要素を選択するために使用されます。"
   ]
  },
  {
   "cell_type": "code",
   "execution_count": null,
   "metadata": {},
   "outputs": [],
   "source": [
    "# 基本構造：\n",
    "filter(function, iterable)"
   ]
  },
  {
   "cell_type": "markdown",
   "metadata": {},
   "source": [
    "function: フィルタリング条件を評価するための関数を指定します。この関数は、各要素に対して True または False を返す必要があります。条件を満たす要素が True を返す場合、その要素は結果に含まれます。\n",
    "\n",
    "iterable: フィルタリング対象のイテラブルオブジェクトを指定します。\n",
    "filter() 関数は、条件に合致する要素だけを抽出して新しいイテラブルを返します。通常、結果をリストに変換して使用します。"
   ]
  },
  {
   "cell_type": "code",
   "execution_count": 5,
   "metadata": {},
   "outputs": [
    {
     "name": "stdout",
     "output_type": "stream",
     "text": [
      "Odd numbers: [1, 3, 5, 7, 9]\n"
     ]
    }
   ],
   "source": [
    "numbers = [1, 2, 3, 4, 5, 6, 7, 8, 9, 10]\n",
    "def is_odd(num):\n",
    "    return num % 2 != 0\n",
    "\n",
    "# Use filter() to filter out odd numbers\n",
    "odd_numbers = list(filter(is_odd, numbers))\n",
    "\n",
    "print(f\"Odd numbers: {odd_numbers}\")"
   ]
  },
  {
   "cell_type": "code",
   "execution_count": 7,
   "metadata": {},
   "outputs": [
    {
     "name": "stdout",
     "output_type": "stream",
     "text": [
      "Even numbers: {even_numbers}\n"
     ]
    }
   ],
   "source": [
    "numbers = [1, 2, 3, 4, 5, 6, 7, 8, 9, 10]\n",
    "def is_even(num):\n",
    "    return num % 2 == 0\n",
    "\n",
    "even_numbers = list(filter(is_even, numbers))\n",
    "\n",
    "print(\"Even numbers: {even_numbers}\")"
   ]
  },
  {
   "cell_type": "markdown",
   "metadata": {},
   "source": [
    "## String methods"
   ]
  },
  {
   "cell_type": "code",
   "execution_count": 2,
   "metadata": {},
   "outputs": [
    {
     "name": "stdout",
     "output_type": "stream",
     "text": [
      "This is a string\n"
     ]
    }
   ],
   "source": [
    "test_string = \"This is a string\"\n",
    "\n",
    "# Replace the \"string\" with \"text\"\n",
    "test_string.replace(\"string\", \"text\")\n",
    "print(test_string)"
   ]
  },
  {
   "cell_type": "markdown",
   "metadata": {},
   "source": [
    "## Special characters in strings\n",
    "\n",
    "\\n - Newline\n",
    "\n",
    "\\t - Horizontal tab\n",
    "\n",
    "\\' - Single Quote\n",
    "\n",
    "\\\" - double quote\n",
    "\n",
    "\"\\\\\" - Backslash\n",
    "\n",
    "\\v - vertical tab"
   ]
  },
  {
   "cell_type": "code",
   "execution_count": 3,
   "metadata": {},
   "outputs": [
    {
     "name": "stdout",
     "output_type": "stream",
     "text": [
      "1\t2\t3\n",
      "4\t5\t6\n",
      "7\t8\t9\n"
     ]
    }
   ],
   "source": [
    "print('1\\t2\\t3\\n4\\t5\\t6\\n7\\t8\\t9')"
   ]
  },
  {
   "cell_type": "code",
   "execution_count": 5,
   "metadata": {},
   "outputs": [
    {
     "name": "stdout",
     "output_type": "stream",
     "text": [
      "The salary will increase by 4.0% to 31200.0 next year.\n",
      "The salary will increase by 4.0% to 31200.0 next year.\n"
     ]
    }
   ],
   "source": [
    "salary = 30000 # Current salary\n",
    "increase = 0.04 # Increase for next year is 4%\n",
    "\n",
    "# Printing next years salary adding regular strings together \n",
    "print('The salary will increase by 4.0% to ' + str(salary*(1+increase)) + ' next year.')\n",
    "\n",
    "# Using the f-string\n",
    "print(f'The salary will increase by {increase:.1%} to {salary*(1+increase)} next year.')"
   ]
  },
  {
   "cell_type": "markdown",
   "metadata": {},
   "source": [
    "{increase:.1%} is a format to show the number with %."
   ]
  },
  {
   "cell_type": "markdown",
   "metadata": {},
   "source": [
    "## Creating a dictionary"
   ]
  },
  {
   "cell_type": "code",
   "execution_count": 6,
   "metadata": {},
   "outputs": [
    {
     "name": "stdout",
     "output_type": "stream",
     "text": [
      "{'country': 'Norway', 'population': 630000, 'is_capital': True}\n"
     ]
    }
   ],
   "source": [
    "oslo = {'country': 'Norway', 'population': 630_000, 'is_capital': True}\n",
    "print(oslo)"
   ]
  },
  {
   "cell_type": "code",
   "execution_count": 7,
   "metadata": {},
   "outputs": [
    {
     "data": {
      "text/plain": [
       "630000"
      ]
     },
     "execution_count": 7,
     "metadata": {},
     "output_type": "execute_result"
    }
   ],
   "source": [
    "# Can access the elements by the key\n",
    "oslo['population']"
   ]
  },
  {
   "cell_type": "code",
   "execution_count": 8,
   "metadata": {},
   "outputs": [
    {
     "data": {
      "text/plain": [
       "True"
      ]
     },
     "execution_count": 8,
     "metadata": {},
     "output_type": "execute_result"
    }
   ],
   "source": [
    "# Can check if key is in dictionary\n",
    "'country' in oslo"
   ]
  },
  {
   "cell_type": "markdown",
   "metadata": {},
   "source": [
    "When you have a thousand of words you may want to check, this function is very useful.\n",
    "\n",
    "## Methods for Dictionaries\n",
    "If d is a dictionary, these are some methods that can be performed on d:\n",
    "\n",
    "d.keys()\n",
    "d.values()\n",
    "d.clear()"
   ]
  },
  {
   "cell_type": "code",
   "execution_count": 10,
   "metadata": {},
   "outputs": [
    {
     "data": {
      "text/plain": [
       "630000"
      ]
     },
     "execution_count": 10,
     "metadata": {},
     "output_type": "execute_result"
    }
   ],
   "source": [
    "# If you want to know the dunctions, tap tab after \".\"\n",
    "oslo.get(\"population\")"
   ]
  },
  {
   "cell_type": "markdown",
   "metadata": {},
   "source": [
    "You can use dictionary as a storage of userID for example!"
   ]
  },
  {
   "cell_type": "code",
   "execution_count": 11,
   "metadata": {},
   "outputs": [
    {
     "data": {
      "text/plain": [
       "'April 14'"
      ]
     },
     "execution_count": 11,
     "metadata": {},
     "output_type": "execute_result"
    }
   ],
   "source": [
    "Chiaki = {\"user_name\": \"chiachiamaru\", \"birthday\": \"April 14\"}\n",
    "Chiaki[\"birthday\"]"
   ]
  },
  {
   "cell_type": "markdown",
   "metadata": {},
   "source": [
    "## Sets\n",
    "Set is useful for mathematics."
   ]
  },
  {
   "cell_type": "code",
   "execution_count": 12,
   "metadata": {},
   "outputs": [
    {
     "name": "stdout",
     "output_type": "stream",
     "text": [
      "{'apple'}\n",
      "{'orange', 'apple', 'banana'}\n"
     ]
    }
   ],
   "source": [
    "first_set = set(['apple'])\n",
    "print(first_set)\n",
    "\n",
    "second_set = {'apple', 'orange', 'banana', 'apple', 'banana'}\n",
    "print(second_set)"
   ]
  },
  {
   "cell_type": "markdown",
   "metadata": {},
   "source": [
    "### Union\n",
    "The set of all elements in the whole collection (both A and B).\n",
    "\n",
    "$A \\cup B =  \\{1, 2, 3, 4, 5, 6, 7, 8, 9, 10\\}$"
   ]
  },
  {
   "cell_type": "code",
   "execution_count": 14,
   "metadata": {},
   "outputs": [
    {
     "data": {
      "text/plain": [
       "{1, 2, 3, 4, 5, 6, 7, 8, 9, 10}"
      ]
     },
     "execution_count": 14,
     "metadata": {},
     "output_type": "execute_result"
    }
   ],
   "source": [
    "A = {1, 2, 3, 4, 5, 6}\n",
    "\n",
    "B = {5, 6, 7, 8, 9, 10}\n",
    "\n",
    "A.union(B)"
   ]
  },
  {
   "cell_type": "markdown",
   "metadata": {},
   "source": [
    "### Intersection \n",
    "The set containing all elements of A that also belong to B\n",
    "\n",
    "$A \\cap B = \\{5, 6\\}$"
   ]
  },
  {
   "cell_type": "code",
   "execution_count": 15,
   "metadata": {},
   "outputs": [
    {
     "data": {
      "text/plain": [
       "{5, 6}"
      ]
     },
     "execution_count": 15,
     "metadata": {},
     "output_type": "execute_result"
    }
   ],
   "source": [
    "A = {1, 2, 3, 4, 5, 6}\n",
    "\n",
    "B = {5, 6, 7, 8, 9, 10}\n",
    "\n",
    "A.intersection(B)"
   ]
  },
  {
   "cell_type": "code",
   "execution_count": 21,
   "metadata": {},
   "outputs": [
    {
     "data": {
      "text/plain": [
       "'Oslo'"
      ]
     },
     "execution_count": 21,
     "metadata": {},
     "output_type": "execute_result"
    }
   ],
   "source": [
    "a_list = [4, 6, 8, \"Hi\", {\"city\": \"Oslo\"}]\n",
    "a_list[4][\"city\"]"
   ]
  },
  {
   "cell_type": "code",
   "execution_count": 22,
   "metadata": {},
   "outputs": [],
   "source": [
    "a_turple = {1,2,3}"
   ]
  }
 ],
 "metadata": {
  "kernelspec": {
   "display_name": "Python 3",
   "language": "python",
   "name": "python3"
  },
  "language_info": {
   "codemirror_mode": {
    "name": "ipython",
    "version": 3
   },
   "file_extension": ".py",
   "mimetype": "text/x-python",
   "name": "python",
   "nbconvert_exporter": "python",
   "pygments_lexer": "ipython3",
   "version": "3.11.2"
  },
  "orig_nbformat": 4
 },
 "nbformat": 4,
 "nbformat_minor": 2
}
