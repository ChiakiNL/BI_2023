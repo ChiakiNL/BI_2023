{
 "cells": [
  {
   "cell_type": "code",
   "execution_count": 1,
   "metadata": {},
   "outputs": [
    {
     "name": "stdout",
     "output_type": "stream",
     "text": [
      "\u001b[1;31mSignature:\u001b[0m \u001b[0mprint\u001b[0m\u001b[1;33m(\u001b[0m\u001b[1;33m*\u001b[0m\u001b[0margs\u001b[0m\u001b[1;33m,\u001b[0m \u001b[0msep\u001b[0m\u001b[1;33m=\u001b[0m\u001b[1;34m' '\u001b[0m\u001b[1;33m,\u001b[0m \u001b[0mend\u001b[0m\u001b[1;33m=\u001b[0m\u001b[1;34m'\\n'\u001b[0m\u001b[1;33m,\u001b[0m \u001b[0mfile\u001b[0m\u001b[1;33m=\u001b[0m\u001b[1;32mNone\u001b[0m\u001b[1;33m,\u001b[0m \u001b[0mflush\u001b[0m\u001b[1;33m=\u001b[0m\u001b[1;32mFalse\u001b[0m\u001b[1;33m)\u001b[0m\u001b[1;33m\u001b[0m\u001b[1;33m\u001b[0m\u001b[0m\n",
      "\u001b[1;31mDocstring:\u001b[0m\n",
      "Prints the values to a stream, or to sys.stdout by default.\n",
      "\n",
      "sep\n",
      "  string inserted between values, default a space.\n",
      "end\n",
      "  string appended after the last value, default a newline.\n",
      "file\n",
      "  a file-like object (stream); defaults to the current sys.stdout.\n",
      "flush\n",
      "  whether to forcibly flush the stream.\n",
      "\u001b[1;31mType:\u001b[0m      builtin_function_or_method"
     ]
    }
   ],
   "source": [
    "# Getting help\n",
    "print?"
   ]
  },
  {
   "cell_type": "code",
   "execution_count": null,
   "metadata": {},
   "outputs": [],
   "source": [
    "# Compute the length of a list\n",
    "len(1, 2, 3, 4)"
   ]
  },
  {
   "cell_type": "markdown",
   "metadata": {},
   "source": [
    "## Basic Functions"
   ]
  },
  {
   "cell_type": "code",
   "execution_count": 1,
   "metadata": {},
   "outputs": [
    {
     "name": "stdout",
     "output_type": "stream",
     "text": [
      "Hello there!\n",
      "Length of your first name is: 6. Have a nice day!\n"
     ]
    }
   ],
   "source": [
    "# In class exercise: Basic Functions\n",
    "\n",
    "# 1. Print a message to the console using the print() function.\n",
    "print(\"Hello there!\")\n",
    "      \n",
    "# 2. Use the input() function to ask the user for their name and print a greeting.\n",
    "user_name = input(\"Could you tell me your first name?: \")\n",
    "\n",
    "# 3. Use the len() function to find out and display the number of characters in a string provided by the user.\n",
    "length = len(user_name)\n",
    "print(f\"Length of your first name is: {length}. Have a nice day!\")\n",
    "\n",
    "#Run terminal = ctrl + alt + t"
   ]
  },
  {
   "cell_type": "markdown",
   "metadata": {},
   "source": [
    "## Type Conversion"
   ]
  },
  {
   "cell_type": "code",
   "execution_count": 2,
   "metadata": {},
   "outputs": [
    {
     "name": "stdout",
     "output_type": "stream",
     "text": [
      "You chose this number: 654\n",
      "Here it should return the integer part of the chosen number: 542\n",
      "This is the number which is randomly chosen as string: 17\n",
      "This is the combined number as string: 542.4517\n"
     ]
    }
   ],
   "source": [
    "# 1. Ask the user to input a number as a string (e.g., \"1234\") and convert it to an integer using int().\n",
    "import random\n",
    "\n",
    "# Your code goes here\n",
    "user_choice_number = int(input(\"Give me a random integer number: \"))\n",
    "print(f\"You chose this number: {user_choice_number}\")\n",
    "\n",
    "# 2. Convert a floating point number to an integer and observe the result.\n",
    "# Your code goes here\n",
    "float_number = float(input(\"Type any random floating point number: \"))\n",
    "number_as_int = int(float_number)\n",
    "print(f\"Here it should return the integer part of the chosen number: {number_as_int}\")\n",
    "\n",
    "# 3. Convert a number to a string using str() and concatenate it with another string.\n",
    "# <your code goes here>\n",
    "number_as_string_1 = str(float_number)\n",
    "\n",
    "random_int = round(random.randint(1,100))\n",
    "\n",
    "number_as_string_2 = str(random_int)\n",
    "print(f\"This is the number which is randomly chosen as string: {number_as_string_2}\")\n",
    "\n",
    "print(f\"This is the combined number as string: {number_as_string_1}{number_as_string_2}\")"
   ]
  },
  {
   "cell_type": "markdown",
   "metadata": {},
   "source": [
    "## Math Functions"
   ]
  },
  {
   "cell_type": "code",
   "execution_count": null,
   "metadata": {},
   "outputs": [],
   "source": [
    "# 1. Use max() and min() to find the largest and smallest number from a list of numbers.\n",
    "import random\n",
    "# Your code goes here\n",
    "min_value = 1\n",
    "max_value = 100\n",
    "list_size = 10\n",
    "\n",
    "random_numbers = [random.randint(min_value, max_value) for _ in range(list_size)]\n",
    "\n",
    "print(f\"This is the number randomly chosen: {random_numbers}\")\n",
    "\n",
    "largest_number = max(random_numbers)\n",
    "smallest_number = min(random_numbers)\n",
    "\n",
    "print(f\"From the list, the largest number is: {largest_number}, the smallest number is: {smallest_number}.\\n\")\n",
    "# 2. Calculate the absolute value of a negative number using abs().\n",
    "# Your code goes here\n",
    "random_negative_number = random.randint(-100, -1)\n",
    "print(f\"The randomly chosen negative number is: {random_negative_number}\")\n",
    "\n",
    "absolute_value = abs(random_negative_number)\n",
    "\n",
    "print(f\"The absolute value of randomly-chosen negative number is: {absolute_value}\\n\")\n",
    "\n",
    "\n",
    "# 3. Use the pow() function to calculate the power of a number.\n",
    "# Your code goes here\n",
    "\n",
    "power_of_number = pow(4, 3)\n",
    "print(f\"The value of 4 raised to the power 3 is: {power_of_number}\")"
   ]
  },
  {
   "cell_type": "markdown",
   "metadata": {},
   "source": [
    "## Advanced Task"
   ]
  },
  {
   "cell_type": "markdown",
   "metadata": {},
   "source": []
  }
 ],
 "metadata": {
  "kernelspec": {
   "display_name": "Python 3",
   "language": "python",
   "name": "python3"
  },
  "language_info": {
   "codemirror_mode": {
    "name": "ipython",
    "version": 3
   },
   "file_extension": ".py",
   "mimetype": "text/x-python",
   "name": "python",
   "nbconvert_exporter": "python",
   "pygments_lexer": "ipython3",
   "version": "3.11.2"
  },
  "orig_nbformat": 4
 },
 "nbformat": 4,
 "nbformat_minor": 2
}
