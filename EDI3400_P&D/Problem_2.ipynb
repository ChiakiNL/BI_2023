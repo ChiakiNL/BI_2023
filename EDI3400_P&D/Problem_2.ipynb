{
 "cells": [
  {
   "cell_type": "markdown",
   "metadata": {},
   "source": [
    "### Task 1.4 *Currency converter*:\n",
    "Ask the user for an amount in US dollars and convert this amount to a specified currency (e.g., Euros, Pounds, etc.). Use a fixed conversion rate for simplicity."
   ]
  },
  {
   "cell_type": "code",
   "execution_count": 3,
   "metadata": {},
   "outputs": [
    {
     "name": "stdout",
     "output_type": "stream",
     "text": [
      "You typed 90.0 NOK, and it is currently worth 1224.0 YEN\n"
     ]
    }
   ],
   "source": [
    "nok = float(input(\"Type in the amount of NOK you want to convert to JPN currency: \"))\n",
    "jpn = nok * 13.6\n",
    "print(f\"You typed {nok} NOK, and it is currently worth {jpn} YEN\")"
   ]
  },
  {
   "cell_type": "markdown",
   "metadata": {},
   "source": [
    "### Task 1.5 *Quadratic equation solver* (Tougher exercise):\n",
    "Write a program that solves the quadratic equation $ax^2 + bx + c = 0$. The program should ask the user for values of a, b, and c, and then print the solutions (if they exist).\n",
    "\n",
    "Here are some examples of equations and their respective solutions:\n",
    "\n",
    "1. **Equation:**  $x^2 - 5x + 6 = 0$  \n",
    "   **Solutions:** $x_1 = 3$ and $x_2 = 2$\n",
    "\n",
    "2. **Equation:** $x^2 - 4x + 4 = 0$ \n",
    "   **Solution:** $x = 2$ (Note: This equation has a single repeated root.)\n",
    "\n",
    "3. **Equation:** $x^2 + 4x + 5 = 0$  \n",
    "   **Solutions:** None (This equation does not have real roots, but if you were to consider complex numbers, the roots would be  $x_1 = -2 + i$ and $x_2 = -2 - i$.)\n",
    "\n",
    "*Hint:*\n",
    "\n",
    "The formula for solving quadratic equations, often referred to as the **quadratic formula**, is used to find the roots (or solutions) of an equation of the form \\( ax^2 + bx + c = 0 \\). The formula is:\n",
    "\n",
    "$$ x = \\frac{-b \\pm \\sqrt{b^2 - 4ac}}{2a} $$\n",
    "\n",
    "Here's a breakdown of the terms:\n",
    "\n",
    "- $a$, $b$, and $c$ are coefficients from the quadratic equation.\n",
    "- $\\sqrt{}$ denotes the square root.\n",
    "- $b^2 - 4ac$ is called the discriminant. It determines the nature of the roots:\n",
    "  - If $b^2 - 4ac > 0$, the equation has two distinct real roots.\n",
    "  - If $b^2 - 4ac = 0$, the equation has one repeated real root (or a double root).\n",
    "  - If $b^2 - 4ac < 0$, the equation has two complex (or imaginary) roots.\n",
    "\n",
    "The $\\pm$ in the formula indicates that there are generally two solutions for $x$ (except in the case where the discriminant is zero)."
   ]
  },
  {
   "cell_type": "code",
   "execution_count": 4,
   "metadata": {},
   "outputs": [
    {
     "name": "stdout",
     "output_type": "stream",
     "text": [
      "Solutions: x1 = (-2+1j), x2 = (-2-1j)\n"
     ]
    }
   ],
   "source": [
    "import math\n",
    "\n",
    "# Input coefficients a, b, and c from the user\n",
    "a = float(input(\"Enter 'a': \"))\n",
    "b = float(input(\"Enter 'b': \"))\n",
    "c = float(input(\"Enter 'c': \"))\n",
    "\n",
    "# Calculate the discriminant\n",
    "discriminant = b**2 - 4*a*c\n",
    "\n",
    "# Check the nature of the roots\n",
    "if discriminant > 0:\n",
    "    # Two distinct real roots\n",
    "    root1 = (-b + math.sqrt(discriminant)) / (2*a)\n",
    "    root2 = (-b - math.sqrt(discriminant)) / (2*a)\n",
    "    print(f\"Solutions: x1 = {root1}, x2 = {root2}\")\n",
    "elif discriminant == 0:\n",
    "    # One repeated real root (double root)\n",
    "    root = -b / (2*a)\n",
    "    print(f\"Solution: x = {root}\")\n",
    "else:\n",
    "    # Two complex (imaginary) roots\n",
    "    real_part = -b / (2*a)\n",
    "    imaginary_part = math.sqrt(-discriminant) / (2*a)\n",
    "    root1 = complex(real_part, imaginary_part)\n",
    "    root2 = complex(real_part, -imaginary_part)\n",
    "    print(f\"Solutions: x1 = {root1}, x2 = {root2}\")"
   ]
  },
  {
   "cell_type": "markdown",
   "metadata": {},
   "source": [
    "### Task 2.2 list methods:\n",
    "Given the list [5, 7, 2, 8, 4], use built-in functions to:\n",
    "\n",
    "Sort the list.\n",
    "Find the max value.\n",
    "Find the min value.\n",
    "Find the sum of all numbers."
   ]
  },
  {
   "cell_type": "code",
   "execution_count": 5,
   "metadata": {},
   "outputs": [
    {
     "name": "stdout",
     "output_type": "stream",
     "text": [
      "[2, 4, 5, 7, 8]\n",
      "8\n",
      "2\n",
      "26\n"
     ]
    }
   ],
   "source": [
    "# My answer:\n",
    "# 1\n",
    "given_list = [5, 7, 2, 8, 4]\n",
    "given_list.sort()\n",
    "print(given_list)\n",
    "\n",
    "# 2\n",
    "print(max(given_list))\n",
    "\n",
    "# 3\n",
    "print(min(given_list))\n",
    "\n",
    "# 4\n",
    "print(sum(given_list))\n"
   ]
  },
  {
   "cell_type": "markdown",
   "metadata": {},
   "source": [
    "### Task 2.3 From string to list:\n",
    "Take a string input from the user. Create a list where each item is a character from the string."
   ]
  },
  {
   "cell_type": "code",
   "execution_count": 6,
   "metadata": {},
   "outputs": [
    {
     "name": "stdout",
     "output_type": "stream",
     "text": [
      "The list of characters: ['H', 'e', 'l', 'l', 'o']\n"
     ]
    }
   ],
   "source": [
    "# My answer:\n",
    "user_input = input(\"Enter a string here\")\n",
    "character_list = list(user_input)\n",
    "print(f\"The list of characters: {character_list}\")"
   ]
  },
  {
   "cell_type": "markdown",
   "metadata": {},
   "source": [
    "### Task 2.4 The zip() function:\n",
    "Using the zip() function, combine the two lists below to create a list of tuples:\n",
    "\n",
    "names = [\"Anna\", \"Bob\", \"Charlie\"]\n",
    "\n",
    "scores = [85, 92, 87]"
   ]
  },
  {
   "cell_type": "code",
   "execution_count": 7,
   "metadata": {},
   "outputs": [
    {
     "name": "stdout",
     "output_type": "stream",
     "text": [
      "A list of tuples: [('Anna', 85), ('Bob', 92), ('Charlie', 87)]\n"
     ]
    }
   ],
   "source": [
    "# My answer:\n",
    "names = [\"Anna\", \"Bob\", \"Charlie\"]\n",
    "scores = [85, 92, 87]\n",
    "combined_list = list(zip(names, scores))\n",
    "print(f\"A list of tuples: {combined_list}\")"
   ]
  },
  {
   "cell_type": "markdown",
   "metadata": {},
   "source": [
    "### Task 2.5 *The `enumerate()` function*\n",
    "\n",
    "Use the `enumerate()` function on `my_list`.\n",
    "\n",
    "`my_list = ['a', 'b', 'c', 'd', 'e']`\n",
    "\n",
    "`enumerate()` returns a list of tuples. You can convert the output of `enumerate()` to a list of tuples by using the `list()` function. For example,\n",
    "\n",
    "`list_of_tuples = list(enumerate(my_list))`\n",
    "\n",
    "Print the output of `enumerate()`.\n",
    "\n",
    "enumerate()（エニュメレート）関数は、Pythonの組み込み関数の1つで、イテラブル（リスト、タプル、文字列など）の要素をループしながら、各要素とそのインデックス（位置）をタプルとして取得するのに役立ちます。よってenumerate()関数はループ内で要素の位置情報を追跡するのに役立ちます。"
   ]
  },
  {
   "cell_type": "code",
   "execution_count": 8,
   "metadata": {},
   "outputs": [
    {
     "name": "stdout",
     "output_type": "stream",
     "text": [
      "Output of enumerate(): [(0, 'a'), (1, 'b'), (2, 'c'), (3, 'd'), (4, 'e')]\n"
     ]
    }
   ],
   "source": [
    "# My answer:\n",
    "my_list = ['a', 'b', 'c', 'd', 'e']\n",
    "list_of_tuples = list(enumerate(my_list))\n",
    "print(f\"Output of enumerate(): {list_of_tuples}\")"
   ]
  },
  {
   "cell_type": "markdown",
   "metadata": {},
   "source": [
    "### Task 2.6 *Sort numbers*:\n",
    "Sort the numbers below from smallest to largest. Print the result to the screen.\n",
    "\n",
    "```python\n",
    "numbers = [23, 89, 45, 67, 12, 38, 80, 25, 57]"
   ]
  },
  {
   "cell_type": "code",
   "execution_count": 9,
   "metadata": {},
   "outputs": [
    {
     "name": "stdout",
     "output_type": "stream",
     "text": [
      "Sorted as smallest to leargest: [12, 23, 25, 38, 45, 57, 67, 80, 89]\n"
     ]
    }
   ],
   "source": [
    "# My answer:\n",
    "numbers = [23, 89, 45, 67, 12, 38, 80, 25, 57]\n",
    "numbers.sort()\n",
    "print(f\"Sorted as smallest to leargest: {numbers}\")"
   ]
  },
  {
   "cell_type": "markdown",
   "metadata": {},
   "source": [
    "### Task 2.7 *List reversal without using `reverse()`*:\n",
    "Ask the user to input several comma-separated numbers. Store these numbers in a list and then reverse the list without using the built-in reverse() function."
   ]
  },
  {
   "cell_type": "markdown",
   "metadata": {},
   "source": [
    "### Task 2.8 *Set operations*:\n",
    "\n",
    "1. List item\n",
    "2. List item\n",
    "\n",
    "Initialize two sets with some integer values. Then, print the union, intersection, and difference between these two sets."
   ]
  },
  {
   "cell_type": "code",
   "execution_count": 12,
   "metadata": {},
   "outputs": [
    {
     "name": "stdout",
     "output_type": "stream",
     "text": [
      "set1 is: {10, 11, 12, 13, 14}, set2 is: {16, 12, 13, 14, 15}\n",
      "Union of Set 1 and Set 2: {10, 11, 12, 13, 14, 15, 16}\n",
      "Intersection of Set1 and Set2: {12, 13, 14}\n",
      "Difference between Set 1 and Set 2: {10, 11}\n"
     ]
    }
   ],
   "source": [
    "# My answer:\n",
    "\n",
    "set1 = {10, 11, 12, 13, 14}\n",
    "set2 = {12, 13, 14, 15, 16}\n",
    "\n",
    "print(f\"set1 is: {set1}, set2 is: {set2}\")\n",
    "\n",
    "union_result = set1.union(set2)\n",
    "print(f\"Union of Set 1 and Set 2: {union_result}\")\n",
    "\n",
    "intersection_result = set1.intersection(set2)\n",
    "print(f\"Intersection of Set1 and Set2: {intersection_result}\")\n",
    "\n",
    "difference_result = set1.difference(set2)\n",
    "print(f\"Difference between Set 1 and Set 2: {difference_result}\")"
   ]
  },
  {
   "cell_type": "markdown",
   "metadata": {},
   "source": [
    "### Task 2.9 Dictionary lookup:\n",
    "Initialize a dictionary with some word-to-definition pairs. Ask the user for a word and print its definition if it exists in the dictionary. If the word doesn't exist, notify the user."
   ]
  },
  {
   "cell_type": "code",
   "execution_count": 11,
   "metadata": {},
   "outputs": [
    {
     "name": "stdout",
     "output_type": "stream",
     "text": [
      "The definition of sakura is: A flowering cherry tree.\n"
     ]
    }
   ],
   "source": [
    "# My answer:\n",
    "dictionary = {\n",
    "    \"sakura\": \"A flowering cherry tree.\",\n",
    "    \"samurai\": \"A member of a powerful military caste in feudal Japan.\",\n",
    "    \"kimono\": \"A long, loose traditional Japanese robe with wide sleeves, tied with a sash.\"\n",
    "    }\n",
    "user_input = input(\"Enter a word you want to look up.\")\n",
    "\n",
    "if user_input in dictionary:\n",
    "    result = dictionary[user_input]\n",
    "    print(f\"The definition of {user_input} is: {result}\")\n",
    "\n",
    "else:\n",
    "    print(f\"Sorry, we could not find the difinition.\")"
   ]
  }
 ],
 "metadata": {
  "kernelspec": {
   "display_name": "Python 3",
   "language": "python",
   "name": "python3"
  },
  "language_info": {
   "codemirror_mode": {
    "name": "ipython",
    "version": 3
   },
   "file_extension": ".py",
   "mimetype": "text/x-python",
   "name": "python",
   "nbconvert_exporter": "python",
   "pygments_lexer": "ipython3",
   "version": "3.11.2"
  },
  "orig_nbformat": 4
 },
 "nbformat": 4,
 "nbformat_minor": 2
}
