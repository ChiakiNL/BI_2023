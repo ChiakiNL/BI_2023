{
 "cells": [
  {
   "cell_type": "markdown",
   "metadata": {},
   "source": [
    "# Week02 Variables, expressions, and statements\n",
    "\n",
    "### Plan for today\n",
    "- Introducing variables, expressions and statements\n",
    "\n",
    "- Data types in Python\n",
    "\n",
    "- Operators (+, -...)\n",
    "\n",
    "- Boolean expressions\n",
    "\n",
    "- Conditional statements\n",
    "\n",
    "- Error messages\n",
    "\n",
    "<br>\n",
    "\n",
    "The Python language:\n",
    "Python can be read almost like English\n",
    "Important to differentiate between variable names and Python key words\n",
    "The Jupyter notebook can help with identifying the difference."
   ]
  },
  {
   "cell_type": "code",
   "execution_count": 2,
   "metadata": {},
   "outputs": [
    {
     "name": "stdout",
     "output_type": "stream",
     "text": [
      "['apple', 'orange', 'banana']\n"
     ]
    }
   ],
   "source": [
    "fruits = ['apple', 'orange', 'banana']\n",
    "\n",
    "# Example of a Python (if) statement\n",
    "if 'orange' in fruits:\n",
    "    print(fruits)"
   ]
  },
  {
   "cell_type": "markdown",
   "metadata": {},
   "source": [
    "## Variables\n",
    "Variables\n",
    "A variable is a name that refers to a value.\n",
    "The main types of variables are\n",
    "- **Numbers:**\n",
    "x = 3\n",
    "- **Strings:**\n",
    "capital_of_Norway = 'Oslo'\n",
    "\n",
    "## Statements\n",
    "A statement is the key building block of a computer program\n",
    "A statement is an action or a command that does something"
   ]
  },
  {
   "cell_type": "code",
   "execution_count": null,
   "metadata": {},
   "outputs": [],
   "source": [
    "# Assigns 10 to the variable x\n",
    "x = 10\n",
    "# Assign the sum of the value of x and 1 to the variable y\n",
    "y = x + 1\n",
    "# Print the value of y to the screen \n",
    "print(y)"
   ]
  },
  {
   "cell_type": "markdown",
   "metadata": {},
   "source": [
    "## Data types\n",
    "\n",
    "Core native data types in Python\n",
    "\n",
    "**Nummeric**\n",
    "- int /  1, 2, 3, ...\n",
    "- float / 0.5\n",
    "- complex / 2+3j\n",
    "- String (str) / \"computer\", \"30\" or \"ios15\"\n",
    "- Boolean (bool) / can only take two values: True and False\n",
    "\n",
    "## Operator\n",
    "▶ Arithmetic operators: +, -, *, /, //,\n",
    "\n",
    "▶ Assignment operators: =, +=, -=, *=, /=\n",
    "\n",
    "▶ Comparison operators: ==, !=, <, >, <=, >=\n",
    "\n",
    "\n",
    "## Core native data types in Python, cont.\n",
    "- Lists (list) /  [1, 2, 3]\n",
    "- Tuples (tuple), an immutable list / (1,2,3)\n",
    "- Dictionary (dict), a list with keys: / {'first_name' : 'vegard', 'age' : 36}\n",
    "- Sets (set) is a list with only distinct elements\n",
    "\n",
    "## 板書 04.09.2023 (Man)\n",
    "\n",
    "Syntax error means codes has a error\n"
   ]
  },
  {
   "cell_type": "code",
   "execution_count": 11,
   "metadata": {},
   "outputs": [
    {
     "name": "stdout",
     "output_type": "stream",
     "text": [
      "['apple', 'orange', 'banana']\n"
     ]
    }
   ],
   "source": [
    "# Example of a Python (if) statement\n",
    "fruits = [\"apple\", \"orange\", \"banana\"]\n",
    "if \"orange\" in fruits:\n",
    "    print(fruits)"
   ]
  },
  {
   "cell_type": "code",
   "execution_count": 10,
   "metadata": {},
   "outputs": [
    {
     "name": "stdout",
     "output_type": "stream",
     "text": [
      "11\n"
     ]
    }
   ],
   "source": [
    "x = 10\n",
    "y = x + 1\n",
    "print (y)"
   ]
  },
  {
   "cell_type": "code",
   "execution_count": 3,
   "metadata": {},
   "outputs": [
    {
     "name": "stdout",
     "output_type": "stream",
     "text": [
      "2\n"
     ]
    }
   ],
   "source": [
    "# Modulus operator (%)\n",
    "print(11 % 3)"
   ]
  },
  {
   "cell_type": "markdown",
   "metadata": {},
   "source": [
    "## Order of operations:\n",
    "1. Parantheses have the highest precedence\n",
    "2. Exponentiation has the second-highest precedence\n",
    "3. Next is Multiplication and Division\n",
    "4. Lastly is Addition and Subtraction\n",
    "5. Operations with the same precedence are evaluated from left to right"
   ]
  },
  {
   "cell_type": "code",
   "execution_count": 4,
   "metadata": {},
   "outputs": [
    {
     "name": "stdout",
     "output_type": "stream",
     "text": [
      "11.0\n",
      "25.0\n",
      "0.16\n"
     ]
    }
   ],
   "source": [
    "print( 4 / 2 + 3**2 )     # 2 + 9 = 11\n",
    "\n",
    "print( (4 / 2 + 3)**2 )   # 5**2 = 25\n",
    "\n",
    "print( 4 / (2 + 3)**2 )   # 0.8**2"
   ]
  },
  {
   "cell_type": "code",
   "execution_count": 5,
   "metadata": {},
   "outputs": [
    {
     "name": "stdout",
     "output_type": "stream",
     "text": [
      "9\n"
     ]
    }
   ],
   "source": [
    "x = 5\n",
    "x += 4\n",
    "print(x)"
   ]
  },
  {
   "cell_type": "code",
   "execution_count": 6,
   "metadata": {},
   "outputs": [
    {
     "name": "stdout",
     "output_type": "stream",
     "text": [
      "2\n"
     ]
    }
   ],
   "source": [
    "x = 5\n",
    "x -= 3\n",
    "print(x)"
   ]
  },
  {
   "cell_type": "code",
   "execution_count": null,
   "metadata": {},
   "outputs": [],
   "source": [
    "x = 5\n",
    "x /= 2\n",
    "print(x)"
   ]
  },
  {
   "cell_type": "code",
   "execution_count": null,
   "metadata": {},
   "outputs": [],
   "source": [
    "x = 5\n",
    "x *= 50\n",
    "print(x)"
   ]
  },
  {
   "cell_type": "markdown",
   "metadata": {},
   "source": [
    "## We can also compare other variables than numbers"
   ]
  },
  {
   "cell_type": "code",
   "execution_count": null,
   "metadata": {},
   "outputs": [],
   "source": [
    "'a' > 'b'     # A letter further out in the alphabet has a higher value"
   ]
  },
  {
   "cell_type": "code",
   "execution_count": null,
   "metadata": {},
   "outputs": [],
   "source": [
    "'A' < 'a'   # Capital letters are ordered bellow the non-capitalized "
   ]
  },
  {
   "cell_type": "code",
   "execution_count": null,
   "metadata": {},
   "outputs": [],
   "source": [
    "'11' > '2'  # The first element of the string is compared first"
   ]
  },
  {
   "cell_type": "code",
   "execution_count": null,
   "metadata": {},
   "outputs": [],
   "source": [
    "# When the first element is the same the comparison moves to the second element\n",
    "[5, 2] > [5, 4]"
   ]
  },
  {
   "cell_type": "markdown",
   "metadata": {},
   "source": [
    "## Combining types"
   ]
  },
  {
   "cell_type": "code",
   "execution_count": 7,
   "metadata": {},
   "outputs": [
    {
     "name": "stdout",
     "output_type": "stream",
     "text": [
      "5555\n"
     ]
    }
   ],
   "source": [
    "# string * int\n",
    "print( '5' * 4 )"
   ]
  },
  {
   "cell_type": "code",
   "execution_count": 8,
   "metadata": {},
   "outputs": [
    {
     "name": "stdout",
     "output_type": "stream",
     "text": [
      "[5, 8, 5, 8]\n"
     ]
    }
   ],
   "source": [
    "# list * int\n",
    "print( [5, 8] * 2 ) "
   ]
  },
  {
   "cell_type": "code",
   "execution_count": 9,
   "metadata": {},
   "outputs": [
    {
     "name": "stdout",
     "output_type": "stream",
     "text": [
      "20\n"
     ]
    }
   ],
   "source": [
    "# type conversion\n",
    "print( int('5') * 4 )"
   ]
  },
  {
   "cell_type": "markdown",
   "metadata": {},
   "source": [
    "## 5. Conditional statements"
   ]
  },
  {
   "cell_type": "code",
   "execution_count": 12,
   "metadata": {},
   "outputs": [
    {
     "name": "stdout",
     "output_type": "stream",
     "text": [
      "This is executed if and only if the condition is True\n"
     ]
    }
   ],
   "source": [
    "condition = (7<8)\n",
    "if 7 < 8:\n",
    "    print (\"This is executed if and only if the condition is True\")"
   ]
  },
  {
   "cell_type": "code",
   "execution_count": 14,
   "metadata": {},
   "outputs": [
    {
     "name": "stdout",
     "output_type": "stream",
     "text": [
      "apple is a fruit\n",
      "----------\n"
     ]
    }
   ],
   "source": [
    "fruits = [\"apple\", \"orange\", \"banana\"]\n",
    "if \"apple\" in fruits:\n",
    "    print(\"apple is a fruit\")\n",
    "print(\"----------\")"
   ]
  },
  {
   "cell_type": "markdown",
   "metadata": {},
   "source": [
    "Be careful about indentation!"
   ]
  },
  {
   "cell_type": "markdown",
   "metadata": {},
   "source": [
    "## The elif and else statements"
   ]
  },
  {
   "cell_type": "code",
   "execution_count": 16,
   "metadata": {},
   "outputs": [
    {
     "name": "stdout",
     "output_type": "stream",
     "text": [
      "The number is 10\n"
     ]
    }
   ],
   "source": [
    "condition = 10\n",
    "\n",
    "if condition > 10:\n",
    "    print('The number is higher than 10')\n",
    "elif condition == 10:\n",
    "    print('The number is 10')\n",
    "elif condition == 3:\n",
    "    print('3')\n",
    "else:\n",
    "    print('The number is lower than 10')"
   ]
  }
 ],
 "metadata": {
  "kernelspec": {
   "display_name": "Python 3",
   "language": "python",
   "name": "python3"
  },
  "language_info": {
   "codemirror_mode": {
    "name": "ipython",
    "version": 3
   },
   "file_extension": ".py",
   "mimetype": "text/x-python",
   "name": "python",
   "nbconvert_exporter": "python",
   "pygments_lexer": "ipython3",
   "version": "3.11.2"
  },
  "orig_nbformat": 4
 },
 "nbformat": 4,
 "nbformat_minor": 2
}
