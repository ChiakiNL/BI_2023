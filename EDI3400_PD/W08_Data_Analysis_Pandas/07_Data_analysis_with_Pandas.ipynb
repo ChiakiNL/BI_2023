{
 "cells": [
  {
   "cell_type": "markdown",
   "id": "613e4709",
   "metadata": {
    "slideshow": {
     "slide_type": "slide"
    }
   },
   "source": [
    "# Data frames with Pandas\n",
    "\n",
    "## Programming and Data Management (EDI 3400)\n",
    "\n",
    "### *Vegard H. Larsen (Department of Data Science and Analytics)*"
   ]
  },
  {
   "cell_type": "markdown",
   "id": "49738009",
   "metadata": {
    "slideshow": {
     "slide_type": "slide"
    }
   },
   "source": [
    "# 1. What is Pandas?\n",
    "\n",
    "Pandas is a premier data manipulation and analysis library in Python, providing intuitive structures for organizing and processing data alongside a suite of powerful tools to explore, clean, and analyze it. Central to Pandas are its two primary data structures: the `Series`, which handles one-dimensional data, and the `DataFrame`, designed for two-dimensional data (akin to tables in a database or Excel sheets). With these structures, you can easily read data from various sources, manipulate rows and columns, handle missing values, and even merge or aggregate data from multiple tables. Many tasks traditionally done in spreadsheet software can be more efficiently and robustly performed in code, laying a foundational bridge between basic Python programming and the vast world of data analysis."
   ]
  },
  {
   "cell_type": "markdown",
   "id": "b4c70e84",
   "metadata": {
    "slideshow": {
     "slide_type": "slide"
    }
   },
   "source": [
    "## Introduction to Pandas\n",
    "\n",
    "- A library that makes working with multidimensional structured and tabular data fast and easy\n",
    "- The name is derived from *panel data* and *Python data analysis* \n",
    "- Built in support for working with time series data\n",
    "- Provides Excel-like functionality to Python\n",
    "- Makes data cleaning and analysis fast and convenient in Python"
   ]
  },
  {
   "cell_type": "markdown",
   "id": "e98fcb2b",
   "metadata": {
    "slideshow": {
     "slide_type": "slide"
    }
   },
   "source": [
    "## Importing Pandas \n",
    "\n",
    "- As with NumPy there is a common import convention for Pandas"
   ]
  },
  {
   "cell_type": "code",
   "execution_count": 3,
   "id": "dfe6d119",
   "metadata": {
    "slideshow": {
     "slide_type": "fragment"
    }
   },
   "outputs": [],
   "source": [
    "import pandas as pd"
   ]
  },
  {
   "cell_type": "code",
   "execution_count": 4,
   "id": "f8060a9b",
   "metadata": {
    "slideshow": {
     "slide_type": "fragment"
    }
   },
   "outputs": [
    {
     "data": {
      "text/plain": [
       "'2.1.1'"
      ]
     },
     "execution_count": 4,
     "metadata": {},
     "output_type": "execute_result"
    }
   ],
   "source": [
    "pd.__version__"
   ]
  },
  {
   "cell_type": "markdown",
   "id": "70e4385a",
   "metadata": {
    "slideshow": {
     "slide_type": "slide"
    }
   },
   "source": [
    "# 2. Pandas data structures "
   ]
  },
  {
   "cell_type": "markdown",
   "id": "c158480d",
   "metadata": {
    "slideshow": {
     "slide_type": "slide"
    }
   },
   "source": [
    "## Data structures in `Pandas`\n",
    "\n",
    "1. Series - One dimensional array of data \n",
    "2. DataFrame - Can consist of many Series as columns in the DataFrame\n",
    "3. Panel - Can consist of many DataFrames (will not be covered in this course)"
   ]
  },
  {
   "cell_type": "markdown",
   "id": "e1921e10",
   "metadata": {
    "slideshow": {
     "slide_type": "slide"
    }
   },
   "source": [
    "## Pandas Series-object\n",
    "\n",
    "- A one-dimensional labeled array capable of holding any data type (integers, strings, floating point numbers, Python objects, etc.)"
   ]
  },
  {
   "cell_type": "code",
   "execution_count": 5,
   "id": "9fbfab19",
   "metadata": {},
   "outputs": [],
   "source": [
    "import pandas as pd\n",
    "\n",
    "series1 = pd.Series([100, 200, 300, 400])"
   ]
  },
  {
   "cell_type": "code",
   "execution_count": 6,
   "id": "bfe4fb91",
   "metadata": {},
   "outputs": [
    {
     "data": {
      "text/plain": [
       "0    100\n",
       "1    200\n",
       "2    300\n",
       "3    400\n",
       "dtype: int64"
      ]
     },
     "execution_count": 6,
     "metadata": {},
     "output_type": "execute_result"
    }
   ],
   "source": [
    "series1"
   ]
  },
  {
   "cell_type": "code",
   "execution_count": 7,
   "id": "68118c67",
   "metadata": {},
   "outputs": [
    {
     "data": {
      "text/plain": [
       "pandas.core.series.Series"
      ]
     },
     "execution_count": 7,
     "metadata": {},
     "output_type": "execute_result"
    }
   ],
   "source": [
    "type(series1)"
   ]
  },
  {
   "cell_type": "markdown",
   "id": "840fbb19",
   "metadata": {
    "slideshow": {
     "slide_type": "slide"
    }
   },
   "source": [
    "## Working with the Series"
   ]
  },
  {
   "cell_type": "code",
   "execution_count": 10,
   "id": "0c29ad8e",
   "metadata": {},
   "outputs": [
    {
     "data": {
      "text/plain": [
       "100"
      ]
     },
     "execution_count": 10,
     "metadata": {},
     "output_type": "execute_result"
    }
   ],
   "source": [
    "# Getting out values\n",
    "\n",
    "series1[0]"
   ]
  },
  {
   "cell_type": "code",
   "execution_count": 13,
   "id": "8d85db45",
   "metadata": {
    "slideshow": {
     "slide_type": "fragment"
    }
   },
   "outputs": [],
   "source": [
    "# Assigning values\n",
    "\n",
    "series1[1] = 1234"
   ]
  },
  {
   "cell_type": "code",
   "execution_count": 14,
   "id": "3a4dece9",
   "metadata": {
    "slideshow": {
     "slide_type": "fragment"
    }
   },
   "outputs": [
    {
     "data": {
      "text/plain": [
       "0     100\n",
       "1    1234\n",
       "2     300\n",
       "3     400\n",
       "dtype: int64"
      ]
     },
     "execution_count": 14,
     "metadata": {},
     "output_type": "execute_result"
    }
   ],
   "source": [
    "series1"
   ]
  },
  {
   "cell_type": "code",
   "execution_count": 15,
   "id": "6e3c36e5",
   "metadata": {
    "slideshow": {
     "slide_type": "fragment"
    }
   },
   "outputs": [
    {
     "data": {
      "text/plain": [
       "1    1234\n",
       "2     300\n",
       "dtype: int64"
      ]
     },
     "execution_count": 15,
     "metadata": {},
     "output_type": "execute_result"
    }
   ],
   "source": [
    "# Slicing\n",
    "# Element one to three\n",
    "series1[1:3]"
   ]
  },
  {
   "cell_type": "markdown",
   "id": "2843e001",
   "metadata": {
    "slideshow": {
     "slide_type": "slide"
    }
   },
   "source": [
    "## Numerical operations "
   ]
  },
  {
   "cell_type": "code",
   "execution_count": 17,
   "id": "8aa93b32",
   "metadata": {},
   "outputs": [],
   "source": [
    "# We can initialize a Series from a dictionary\n",
    "\n",
    "s1 = pd.Series({'a': 10, 'b': 20, 'c': 30})\n",
    "s2 = pd.Series({'a': 0.1, 'b': 0.2, 'c':0.3, 'd':0.4, 'e': 0.5})"
   ]
  },
  {
   "cell_type": "code",
   "execution_count": 18,
   "id": "c0caa25a",
   "metadata": {},
   "outputs": [
    {
     "data": {
      "text/plain": [
       "a    10\n",
       "b    20\n",
       "c    30\n",
       "dtype: int64"
      ]
     },
     "execution_count": 18,
     "metadata": {},
     "output_type": "execute_result"
    }
   ],
   "source": [
    "s1"
   ]
  },
  {
   "cell_type": "code",
   "execution_count": 19,
   "id": "bf259867",
   "metadata": {},
   "outputs": [
    {
     "data": {
      "text/plain": [
       "a    0.1\n",
       "b    0.2\n",
       "c    0.3\n",
       "d    0.4\n",
       "e    0.5\n",
       "dtype: float64"
      ]
     },
     "execution_count": 19,
     "metadata": {},
     "output_type": "execute_result"
    }
   ],
   "source": [
    "s2"
   ]
  },
  {
   "cell_type": "code",
   "execution_count": 20,
   "id": "f551aa5b",
   "metadata": {
    "slideshow": {
     "slide_type": "fragment"
    }
   },
   "outputs": [
    {
     "data": {
      "text/plain": [
       "a    20\n",
       "b    40\n",
       "c    60\n",
       "dtype: int64"
      ]
     },
     "execution_count": 20,
     "metadata": {},
     "output_type": "execute_result"
    }
   ],
   "source": [
    "s1 * 2"
   ]
  },
  {
   "cell_type": "code",
   "execution_count": 21,
   "id": "0192b31f",
   "metadata": {
    "slideshow": {
     "slide_type": "fragment"
    }
   },
   "outputs": [
    {
     "data": {
      "text/plain": [
       "a    10.1\n",
       "b    20.2\n",
       "c    30.3\n",
       "d     NaN\n",
       "e     NaN\n",
       "dtype: float64"
      ]
     },
     "execution_count": 21,
     "metadata": {},
     "output_type": "execute_result"
    }
   ],
   "source": [
    "s3 = s1 + s2\n",
    "s3"
   ]
  },
  {
   "cell_type": "markdown",
   "id": "cde1637a",
   "metadata": {
    "slideshow": {
     "slide_type": "slide"
    }
   },
   "source": [
    "## Series methods"
   ]
  },
  {
   "cell_type": "code",
   "execution_count": 23,
   "id": "08903fb5",
   "metadata": {},
   "outputs": [],
   "source": [
    "# Built-in method\n",
    "# Drop nans\n",
    "\n",
    "s4 = s3.dropna()\n"
   ]
  },
  {
   "cell_type": "code",
   "execution_count": 24,
   "id": "63943bff",
   "metadata": {},
   "outputs": [
    {
     "data": {
      "text/plain": [
       "a    10.1\n",
       "b    20.2\n",
       "c    30.3\n",
       "d     NaN\n",
       "e     NaN\n",
       "dtype: float64"
      ]
     },
     "execution_count": 24,
     "metadata": {},
     "output_type": "execute_result"
    }
   ],
   "source": [
    "s3"
   ]
  },
  {
   "cell_type": "code",
   "execution_count": 25,
   "id": "25aec94c",
   "metadata": {
    "slideshow": {
     "slide_type": "fragment"
    }
   },
   "outputs": [
    {
     "data": {
      "text/plain": [
       "b    20.2\n",
       "c    30.3\n",
       "d     NaN\n",
       "dtype: float64"
      ]
     },
     "execution_count": 25,
     "metadata": {},
     "output_type": "execute_result"
    }
   ],
   "source": [
    "# Drop particular indexes\n",
    "\n",
    "s3.drop(['a', 'e'])"
   ]
  },
  {
   "cell_type": "code",
   "execution_count": 26,
   "id": "f7f551e0",
   "metadata": {
    "slideshow": {
     "slide_type": "fragment"
    }
   },
   "outputs": [
    {
     "data": {
      "text/plain": [
       "a    10.0\n",
       "b    20.0\n",
       "c    30.0\n",
       "a     0.1\n",
       "b     0.2\n",
       "c     0.3\n",
       "d     0.4\n",
       "e     0.5\n",
       "dtype: float64"
      ]
     },
     "execution_count": 26,
     "metadata": {},
     "output_type": "execute_result"
    }
   ],
   "source": [
    "# We can concatenate data\n",
    "# データを連結できる\n",
    "# 複数のaが出てきてしまう問題が見られる\n",
    "\n",
    "pd.concat([s1,s2])"
   ]
  },
  {
   "cell_type": "markdown",
   "id": "b157401c",
   "metadata": {
    "slideshow": {
     "slide_type": "slide"
    }
   },
   "source": [
    "## Pandas DataFrame-object"
   ]
  },
  {
   "cell_type": "code",
   "execution_count": 29,
   "id": "10caf1f6",
   "metadata": {},
   "outputs": [],
   "source": [
    "import pandas as pd\n",
    "\n",
    "#List with 3 elements\n",
    "\n",
    "content = [['a', 1, 'apple'], \n",
    "           ['b', 2, 'banana'], \n",
    "           ['c', 3, 'orange']]\n",
    "\n",
    "dataframe1 = pd.DataFrame(content,\n",
    "                          columns=['letter', 'number', 'fruit'],\n",
    "                          index=['one', 'two', 'three'])"
   ]
  },
  {
   "cell_type": "code",
   "execution_count": 33,
   "id": "fc7730f0",
   "metadata": {},
   "outputs": [
    {
     "data": {
      "text/html": [
       "<div>\n",
       "<style scoped>\n",
       "    .dataframe tbody tr th:only-of-type {\n",
       "        vertical-align: middle;\n",
       "    }\n",
       "\n",
       "    .dataframe tbody tr th {\n",
       "        vertical-align: top;\n",
       "    }\n",
       "\n",
       "    .dataframe thead th {\n",
       "        text-align: right;\n",
       "    }\n",
       "</style>\n",
       "<table border=\"1\" class=\"dataframe\">\n",
       "  <thead>\n",
       "    <tr style=\"text-align: right;\">\n",
       "      <th></th>\n",
       "      <th>0</th>\n",
       "      <th>1</th>\n",
       "      <th>2</th>\n",
       "    </tr>\n",
       "  </thead>\n",
       "  <tbody>\n",
       "    <tr>\n",
       "      <th>0</th>\n",
       "      <td>a</td>\n",
       "      <td>1</td>\n",
       "      <td>apple</td>\n",
       "    </tr>\n",
       "    <tr>\n",
       "      <th>1</th>\n",
       "      <td>b</td>\n",
       "      <td>2</td>\n",
       "      <td>banana</td>\n",
       "    </tr>\n",
       "    <tr>\n",
       "      <th>2</th>\n",
       "      <td>c</td>\n",
       "      <td>3</td>\n",
       "      <td>orange</td>\n",
       "    </tr>\n",
       "  </tbody>\n",
       "</table>\n",
       "</div>"
      ],
      "text/plain": [
       "   0  1       2\n",
       "0  a  1   apple\n",
       "1  b  2  banana\n",
       "2  c  3  orange"
      ]
     },
     "execution_count": 33,
     "metadata": {},
     "output_type": "execute_result"
    }
   ],
   "source": [
    "pd.DataFrame(content)"
   ]
  },
  {
   "cell_type": "code",
   "execution_count": 28,
   "id": "2c472e9e",
   "metadata": {
    "slideshow": {
     "slide_type": "fragment"
    }
   },
   "outputs": [
    {
     "data": {
      "text/html": [
       "<div>\n",
       "<style scoped>\n",
       "    .dataframe tbody tr th:only-of-type {\n",
       "        vertical-align: middle;\n",
       "    }\n",
       "\n",
       "    .dataframe tbody tr th {\n",
       "        vertical-align: top;\n",
       "    }\n",
       "\n",
       "    .dataframe thead th {\n",
       "        text-align: right;\n",
       "    }\n",
       "</style>\n",
       "<table border=\"1\" class=\"dataframe\">\n",
       "  <thead>\n",
       "    <tr style=\"text-align: right;\">\n",
       "      <th></th>\n",
       "      <th>letter</th>\n",
       "      <th>number</th>\n",
       "      <th>fruit</th>\n",
       "    </tr>\n",
       "  </thead>\n",
       "  <tbody>\n",
       "    <tr>\n",
       "      <th>one</th>\n",
       "      <td>a</td>\n",
       "      <td>1</td>\n",
       "      <td>apple</td>\n",
       "    </tr>\n",
       "    <tr>\n",
       "      <th>two</th>\n",
       "      <td>b</td>\n",
       "      <td>2</td>\n",
       "      <td>banana</td>\n",
       "    </tr>\n",
       "    <tr>\n",
       "      <th>three</th>\n",
       "      <td>c</td>\n",
       "      <td>3</td>\n",
       "      <td>orange</td>\n",
       "    </tr>\n",
       "  </tbody>\n",
       "</table>\n",
       "</div>"
      ],
      "text/plain": [
       "      letter  number   fruit\n",
       "one        a       1   apple\n",
       "two        b       2  banana\n",
       "three      c       3  orange"
      ]
     },
     "execution_count": 28,
     "metadata": {},
     "output_type": "execute_result"
    }
   ],
   "source": [
    "dataframe1"
   ]
  },
  {
   "cell_type": "code",
   "execution_count": 30,
   "id": "cdcd1f22",
   "metadata": {
    "slideshow": {
     "slide_type": "fragment"
    }
   },
   "outputs": [
    {
     "data": {
      "text/plain": [
       "pandas.core.frame.DataFrame"
      ]
     },
     "execution_count": 30,
     "metadata": {},
     "output_type": "execute_result"
    }
   ],
   "source": [
    "type(dataframe1)"
   ]
  },
  {
   "cell_type": "markdown",
   "id": "c4f36650",
   "metadata": {
    "slideshow": {
     "slide_type": "slide"
    }
   },
   "source": [
    "## Working with the DataFrame"
   ]
  },
  {
   "cell_type": "code",
   "execution_count": 31,
   "id": "a00bf2e6",
   "metadata": {},
   "outputs": [],
   "source": [
    "column_fruit = dataframe1['fruit']"
   ]
  },
  {
   "cell_type": "code",
   "execution_count": 32,
   "id": "56aeb82f",
   "metadata": {
    "slideshow": {
     "slide_type": "fragment"
    }
   },
   "outputs": [
    {
     "data": {
      "text/plain": [
       "one       apple\n",
       "two      banana\n",
       "three    orange\n",
       "Name: fruit, dtype: object"
      ]
     },
     "execution_count": 32,
     "metadata": {},
     "output_type": "execute_result"
    }
   ],
   "source": [
    "column_fruit"
   ]
  },
  {
   "cell_type": "code",
   "execution_count": 35,
   "id": "b037046b",
   "metadata": {
    "slideshow": {
     "slide_type": "fragment"
    }
   },
   "outputs": [
    {
     "data": {
      "text/plain": [
       "pandas.core.series.Series"
      ]
     },
     "execution_count": 35,
     "metadata": {},
     "output_type": "execute_result"
    }
   ],
   "source": [
    "type(column_fruit)"
   ]
  },
  {
   "cell_type": "code",
   "execution_count": 39,
   "id": "8d88f15e",
   "metadata": {
    "slideshow": {
     "slide_type": "fragment"
    }
   },
   "outputs": [],
   "source": [
    "# Use loc to access a row from the DataFrame\n",
    "# lock method\n",
    "# Extract specific one\n",
    "\n",
    "row_1 = dataframe1.loc['two']"
   ]
  },
  {
   "cell_type": "code",
   "execution_count": 36,
   "id": "ca21203c",
   "metadata": {
    "slideshow": {
     "slide_type": "fragment"
    }
   },
   "outputs": [
    {
     "data": {
      "text/plain": [
       "letter         b\n",
       "number         2\n",
       "fruit     banana\n",
       "Name: two, dtype: object"
      ]
     },
     "execution_count": 36,
     "metadata": {},
     "output_type": "execute_result"
    }
   ],
   "source": [
    "row_1"
   ]
  },
  {
   "cell_type": "code",
   "execution_count": 41,
   "id": "50769692",
   "metadata": {
    "slideshow": {
     "slide_type": "slide"
    }
   },
   "outputs": [],
   "source": [
    "# Use iloc to access row by numerical index\n",
    "# Zero of the first row\n",
    "# When we don't know the index this one is useful\n",
    "\n",
    "row_0 = dataframe1.iloc[0]"
   ]
  },
  {
   "cell_type": "code",
   "execution_count": 42,
   "id": "b98c0d45",
   "metadata": {},
   "outputs": [
    {
     "data": {
      "text/plain": [
       "letter        a\n",
       "number        1\n",
       "fruit     apple\n",
       "Name: one, dtype: object"
      ]
     },
     "execution_count": 42,
     "metadata": {},
     "output_type": "execute_result"
    }
   ],
   "source": [
    "row_0"
   ]
  },
  {
   "cell_type": "markdown",
   "id": "9e881280",
   "metadata": {
    "slideshow": {
     "slide_type": "slide"
    }
   },
   "source": [
    "## Viewing data"
   ]
  },
  {
   "cell_type": "code",
   "execution_count": 44,
   "id": "22474690",
   "metadata": {
    "slideshow": {
     "slide_type": "-"
    }
   },
   "outputs": [],
   "source": [
    "import numpy as np\n",
    "\n",
    "df = pd.DataFrame(np.random.randn(100, 4), columns=list(\"ABCD\"))"
   ]
  },
  {
   "cell_type": "code",
   "execution_count": 46,
   "id": "201bb4ab",
   "metadata": {
    "slideshow": {
     "slide_type": "fragment"
    }
   },
   "outputs": [
    {
     "data": {
      "text/html": [
       "<div>\n",
       "<style scoped>\n",
       "    .dataframe tbody tr th:only-of-type {\n",
       "        vertical-align: middle;\n",
       "    }\n",
       "\n",
       "    .dataframe tbody tr th {\n",
       "        vertical-align: top;\n",
       "    }\n",
       "\n",
       "    .dataframe thead th {\n",
       "        text-align: right;\n",
       "    }\n",
       "</style>\n",
       "<table border=\"1\" class=\"dataframe\">\n",
       "  <thead>\n",
       "    <tr style=\"text-align: right;\">\n",
       "      <th></th>\n",
       "      <th>A</th>\n",
       "      <th>B</th>\n",
       "      <th>C</th>\n",
       "      <th>D</th>\n",
       "    </tr>\n",
       "  </thead>\n",
       "  <tbody>\n",
       "    <tr>\n",
       "      <th>0</th>\n",
       "      <td>0.969349</td>\n",
       "      <td>0.083733</td>\n",
       "      <td>0.317250</td>\n",
       "      <td>0.300730</td>\n",
       "    </tr>\n",
       "    <tr>\n",
       "      <th>1</th>\n",
       "      <td>0.881573</td>\n",
       "      <td>0.389888</td>\n",
       "      <td>-1.459308</td>\n",
       "      <td>-0.834613</td>\n",
       "    </tr>\n",
       "    <tr>\n",
       "      <th>2</th>\n",
       "      <td>-0.021159</td>\n",
       "      <td>1.020632</td>\n",
       "      <td>0.634338</td>\n",
       "      <td>-0.983290</td>\n",
       "    </tr>\n",
       "    <tr>\n",
       "      <th>3</th>\n",
       "      <td>1.883592</td>\n",
       "      <td>0.018124</td>\n",
       "      <td>-0.755330</td>\n",
       "      <td>0.230802</td>\n",
       "    </tr>\n",
       "    <tr>\n",
       "      <th>4</th>\n",
       "      <td>0.549523</td>\n",
       "      <td>-0.777970</td>\n",
       "      <td>-0.190609</td>\n",
       "      <td>0.893824</td>\n",
       "    </tr>\n",
       "  </tbody>\n",
       "</table>\n",
       "</div>"
      ],
      "text/plain": [
       "          A         B         C         D\n",
       "0  0.969349  0.083733  0.317250  0.300730\n",
       "1  0.881573  0.389888 -1.459308 -0.834613\n",
       "2 -0.021159  1.020632  0.634338 -0.983290\n",
       "3  1.883592  0.018124 -0.755330  0.230802\n",
       "4  0.549523 -0.777970 -0.190609  0.893824"
      ]
     },
     "execution_count": 46,
     "metadata": {},
     "output_type": "execute_result"
    }
   ],
   "source": [
    "# Look at the 3 first rows\n",
    "# head method\n",
    "# Top of the data flame\n",
    "\n",
    "df.head()"
   ]
  },
  {
   "cell_type": "code",
   "execution_count": 48,
   "id": "19bcacff",
   "metadata": {
    "slideshow": {
     "slide_type": "fragment"
    }
   },
   "outputs": [
    {
     "data": {
      "text/html": [
       "<div>\n",
       "<style scoped>\n",
       "    .dataframe tbody tr th:only-of-type {\n",
       "        vertical-align: middle;\n",
       "    }\n",
       "\n",
       "    .dataframe tbody tr th {\n",
       "        vertical-align: top;\n",
       "    }\n",
       "\n",
       "    .dataframe thead th {\n",
       "        text-align: right;\n",
       "    }\n",
       "</style>\n",
       "<table border=\"1\" class=\"dataframe\">\n",
       "  <thead>\n",
       "    <tr style=\"text-align: right;\">\n",
       "      <th></th>\n",
       "      <th>A</th>\n",
       "      <th>B</th>\n",
       "      <th>C</th>\n",
       "      <th>D</th>\n",
       "    </tr>\n",
       "  </thead>\n",
       "  <tbody>\n",
       "    <tr>\n",
       "      <th>97</th>\n",
       "      <td>0.355327</td>\n",
       "      <td>0.026714</td>\n",
       "      <td>1.008906</td>\n",
       "      <td>0.121680</td>\n",
       "    </tr>\n",
       "    <tr>\n",
       "      <th>98</th>\n",
       "      <td>-0.624531</td>\n",
       "      <td>-1.063713</td>\n",
       "      <td>0.715179</td>\n",
       "      <td>0.497987</td>\n",
       "    </tr>\n",
       "    <tr>\n",
       "      <th>99</th>\n",
       "      <td>0.319487</td>\n",
       "      <td>0.923029</td>\n",
       "      <td>-1.037727</td>\n",
       "      <td>0.437741</td>\n",
       "    </tr>\n",
       "  </tbody>\n",
       "</table>\n",
       "</div>"
      ],
      "text/plain": [
       "           A         B         C         D\n",
       "97  0.355327  0.026714  1.008906  0.121680\n",
       "98 -0.624531 -1.063713  0.715179  0.497987\n",
       "99  0.319487  0.923029 -1.037727  0.437741"
      ]
     },
     "execution_count": 48,
     "metadata": {},
     "output_type": "execute_result"
    }
   ],
   "source": [
    "# Look at the 3 last rows\n",
    "# Shows the three last row's data.\n",
    "df.tail(3)"
   ]
  },
  {
   "cell_type": "code",
   "execution_count": 51,
   "id": "96922d8c",
   "metadata": {},
   "outputs": [
    {
     "data": {
      "text/html": [
       "<div>\n",
       "<style scoped>\n",
       "    .dataframe tbody tr th:only-of-type {\n",
       "        vertical-align: middle;\n",
       "    }\n",
       "\n",
       "    .dataframe tbody tr th {\n",
       "        vertical-align: top;\n",
       "    }\n",
       "\n",
       "    .dataframe thead th {\n",
       "        text-align: right;\n",
       "    }\n",
       "</style>\n",
       "<table border=\"1\" class=\"dataframe\">\n",
       "  <thead>\n",
       "    <tr style=\"text-align: right;\">\n",
       "      <th></th>\n",
       "      <th>A</th>\n",
       "      <th>B</th>\n",
       "      <th>C</th>\n",
       "      <th>D</th>\n",
       "    </tr>\n",
       "  </thead>\n",
       "  <tbody>\n",
       "    <tr>\n",
       "      <th>75</th>\n",
       "      <td>-0.294743</td>\n",
       "      <td>0.492982</td>\n",
       "      <td>-1.107823</td>\n",
       "      <td>0.869563</td>\n",
       "    </tr>\n",
       "    <tr>\n",
       "      <th>67</th>\n",
       "      <td>-0.323138</td>\n",
       "      <td>0.527393</td>\n",
       "      <td>-0.922552</td>\n",
       "      <td>-1.469697</td>\n",
       "    </tr>\n",
       "    <tr>\n",
       "      <th>98</th>\n",
       "      <td>-0.624531</td>\n",
       "      <td>-1.063713</td>\n",
       "      <td>0.715179</td>\n",
       "      <td>0.497987</td>\n",
       "    </tr>\n",
       "  </tbody>\n",
       "</table>\n",
       "</div>"
      ],
      "text/plain": [
       "           A         B         C         D\n",
       "75 -0.294743  0.492982 -1.107823  0.869563\n",
       "67 -0.323138  0.527393 -0.922552 -1.469697\n",
       "98 -0.624531 -1.063713  0.715179  0.497987"
      ]
     },
     "execution_count": 51,
     "metadata": {},
     "output_type": "execute_result"
    }
   ],
   "source": [
    "# We can look at a random sample of rows\n",
    "# Shows five random colums\n",
    "\n",
    "df.sample(3)"
   ]
  },
  {
   "cell_type": "markdown",
   "id": "26e304ac",
   "metadata": {
    "slideshow": {
     "slide_type": "slide"
    }
   },
   "source": [
    "## Sorting data"
   ]
  },
  {
   "cell_type": "code",
   "execution_count": 57,
   "id": "c996ea48",
   "metadata": {},
   "outputs": [
    {
     "data": {
      "text/html": [
       "<div>\n",
       "<style scoped>\n",
       "    .dataframe tbody tr th:only-of-type {\n",
       "        vertical-align: middle;\n",
       "    }\n",
       "\n",
       "    .dataframe tbody tr th {\n",
       "        vertical-align: top;\n",
       "    }\n",
       "\n",
       "    .dataframe thead th {\n",
       "        text-align: right;\n",
       "    }\n",
       "</style>\n",
       "<table border=\"1\" class=\"dataframe\">\n",
       "  <thead>\n",
       "    <tr style=\"text-align: right;\">\n",
       "      <th></th>\n",
       "      <th>A</th>\n",
       "      <th>B</th>\n",
       "      <th>C</th>\n",
       "      <th>D</th>\n",
       "    </tr>\n",
       "  </thead>\n",
       "  <tbody>\n",
       "    <tr>\n",
       "      <th>42</th>\n",
       "      <td>2.318639</td>\n",
       "      <td>0.075604</td>\n",
       "      <td>0.971345</td>\n",
       "      <td>0.935480</td>\n",
       "    </tr>\n",
       "    <tr>\n",
       "      <th>71</th>\n",
       "      <td>2.232996</td>\n",
       "      <td>1.844436</td>\n",
       "      <td>-0.374032</td>\n",
       "      <td>0.677681</td>\n",
       "    </tr>\n",
       "    <tr>\n",
       "      <th>11</th>\n",
       "      <td>1.923127</td>\n",
       "      <td>-0.452688</td>\n",
       "      <td>1.282017</td>\n",
       "      <td>-0.034759</td>\n",
       "    </tr>\n",
       "    <tr>\n",
       "      <th>14</th>\n",
       "      <td>1.903586</td>\n",
       "      <td>0.369701</td>\n",
       "      <td>-1.229695</td>\n",
       "      <td>0.164460</td>\n",
       "    </tr>\n",
       "    <tr>\n",
       "      <th>3</th>\n",
       "      <td>1.883592</td>\n",
       "      <td>0.018124</td>\n",
       "      <td>-0.755330</td>\n",
       "      <td>0.230802</td>\n",
       "    </tr>\n",
       "    <tr>\n",
       "      <th>...</th>\n",
       "      <td>...</td>\n",
       "      <td>...</td>\n",
       "      <td>...</td>\n",
       "      <td>...</td>\n",
       "    </tr>\n",
       "    <tr>\n",
       "      <th>52</th>\n",
       "      <td>-1.853660</td>\n",
       "      <td>-0.793916</td>\n",
       "      <td>-0.103290</td>\n",
       "      <td>-1.095669</td>\n",
       "    </tr>\n",
       "    <tr>\n",
       "      <th>51</th>\n",
       "      <td>-1.897729</td>\n",
       "      <td>0.512091</td>\n",
       "      <td>-0.779871</td>\n",
       "      <td>0.639233</td>\n",
       "    </tr>\n",
       "    <tr>\n",
       "      <th>43</th>\n",
       "      <td>-2.127388</td>\n",
       "      <td>0.359725</td>\n",
       "      <td>0.798439</td>\n",
       "      <td>0.240356</td>\n",
       "    </tr>\n",
       "    <tr>\n",
       "      <th>92</th>\n",
       "      <td>-2.177287</td>\n",
       "      <td>0.369882</td>\n",
       "      <td>1.548990</td>\n",
       "      <td>-1.485922</td>\n",
       "    </tr>\n",
       "    <tr>\n",
       "      <th>82</th>\n",
       "      <td>-2.253479</td>\n",
       "      <td>0.100442</td>\n",
       "      <td>-1.676760</td>\n",
       "      <td>-1.263532</td>\n",
       "    </tr>\n",
       "  </tbody>\n",
       "</table>\n",
       "<p>100 rows × 4 columns</p>\n",
       "</div>"
      ],
      "text/plain": [
       "           A         B         C         D\n",
       "42  2.318639  0.075604  0.971345  0.935480\n",
       "71  2.232996  1.844436 -0.374032  0.677681\n",
       "11  1.923127 -0.452688  1.282017 -0.034759\n",
       "14  1.903586  0.369701 -1.229695  0.164460\n",
       "3   1.883592  0.018124 -0.755330  0.230802\n",
       "..       ...       ...       ...       ...\n",
       "52 -1.853660 -0.793916 -0.103290 -1.095669\n",
       "51 -1.897729  0.512091 -0.779871  0.639233\n",
       "43 -2.127388  0.359725  0.798439  0.240356\n",
       "92 -2.177287  0.369882  1.548990 -1.485922\n",
       "82 -2.253479  0.100442 -1.676760 -1.263532\n",
       "\n",
       "[100 rows x 4 columns]"
      ]
     },
     "execution_count": 57,
     "metadata": {},
     "output_type": "execute_result"
    }
   ],
   "source": [
    "# We can sort by the values in a given column\n",
    "# Sort values method\n",
    "# Where A is the lowest\n",
    "\n",
    "df.sort_values(by='A', ascending=False)"
   ]
  },
  {
   "cell_type": "markdown",
   "id": "2d63c0ca",
   "metadata": {
    "slideshow": {
     "slide_type": "slide"
    }
   },
   "source": [
    "## Slicing and selection"
   ]
  },
  {
   "cell_type": "code",
   "execution_count": 59,
   "id": "0d68a27e",
   "metadata": {},
   "outputs": [
    {
     "data": {
      "text/html": [
       "<div>\n",
       "<style scoped>\n",
       "    .dataframe tbody tr th:only-of-type {\n",
       "        vertical-align: middle;\n",
       "    }\n",
       "\n",
       "    .dataframe tbody tr th {\n",
       "        vertical-align: top;\n",
       "    }\n",
       "\n",
       "    .dataframe thead th {\n",
       "        text-align: right;\n",
       "    }\n",
       "</style>\n",
       "<table border=\"1\" class=\"dataframe\">\n",
       "  <thead>\n",
       "    <tr style=\"text-align: right;\">\n",
       "      <th></th>\n",
       "      <th>A</th>\n",
       "      <th>B</th>\n",
       "      <th>C</th>\n",
       "      <th>D</th>\n",
       "    </tr>\n",
       "  </thead>\n",
       "  <tbody>\n",
       "    <tr>\n",
       "      <th>6</th>\n",
       "      <td>0.858238</td>\n",
       "      <td>-1.104823</td>\n",
       "      <td>0.806254</td>\n",
       "      <td>-0.290968</td>\n",
       "    </tr>\n",
       "    <tr>\n",
       "      <th>7</th>\n",
       "      <td>-0.668328</td>\n",
       "      <td>0.026807</td>\n",
       "      <td>-0.784053</td>\n",
       "      <td>1.718524</td>\n",
       "    </tr>\n",
       "  </tbody>\n",
       "</table>\n",
       "</div>"
      ],
      "text/plain": [
       "          A         B         C         D\n",
       "6  0.858238 -1.104823  0.806254 -0.290968\n",
       "7 -0.668328  0.026807 -0.784053  1.718524"
      ]
     },
     "execution_count": 59,
     "metadata": {},
     "output_type": "execute_result"
    }
   ],
   "source": [
    "# Selecting via [] slices the rows\n",
    "# raw 6 to 8\n",
    "df[6:8]"
   ]
  },
  {
   "cell_type": "code",
   "execution_count": 62,
   "id": "9f5661b0",
   "metadata": {
    "slideshow": {
     "slide_type": "slide"
    }
   },
   "outputs": [
    {
     "data": {
      "text/html": [
       "<div>\n",
       "<style scoped>\n",
       "    .dataframe tbody tr th:only-of-type {\n",
       "        vertical-align: middle;\n",
       "    }\n",
       "\n",
       "    .dataframe tbody tr th {\n",
       "        vertical-align: top;\n",
       "    }\n",
       "\n",
       "    .dataframe thead th {\n",
       "        text-align: right;\n",
       "    }\n",
       "</style>\n",
       "<table border=\"1\" class=\"dataframe\">\n",
       "  <thead>\n",
       "    <tr style=\"text-align: right;\">\n",
       "      <th></th>\n",
       "      <th>B</th>\n",
       "      <th>C</th>\n",
       "    </tr>\n",
       "  </thead>\n",
       "  <tbody>\n",
       "    <tr>\n",
       "      <th>0</th>\n",
       "      <td>0.083733</td>\n",
       "      <td>0.317250</td>\n",
       "    </tr>\n",
       "    <tr>\n",
       "      <th>1</th>\n",
       "      <td>0.389888</td>\n",
       "      <td>-1.459308</td>\n",
       "    </tr>\n",
       "    <tr>\n",
       "      <th>2</th>\n",
       "      <td>1.020632</td>\n",
       "      <td>0.634338</td>\n",
       "    </tr>\n",
       "    <tr>\n",
       "      <th>3</th>\n",
       "      <td>0.018124</td>\n",
       "      <td>-0.755330</td>\n",
       "    </tr>\n",
       "    <tr>\n",
       "      <th>4</th>\n",
       "      <td>-0.777970</td>\n",
       "      <td>-0.190609</td>\n",
       "    </tr>\n",
       "    <tr>\n",
       "      <th>5</th>\n",
       "      <td>-1.847498</td>\n",
       "      <td>1.237452</td>\n",
       "    </tr>\n",
       "    <tr>\n",
       "      <th>6</th>\n",
       "      <td>-1.104823</td>\n",
       "      <td>0.806254</td>\n",
       "    </tr>\n",
       "    <tr>\n",
       "      <th>7</th>\n",
       "      <td>0.026807</td>\n",
       "      <td>-0.784053</td>\n",
       "    </tr>\n",
       "    <tr>\n",
       "      <th>8</th>\n",
       "      <td>0.268277</td>\n",
       "      <td>0.318556</td>\n",
       "    </tr>\n",
       "    <tr>\n",
       "      <th>9</th>\n",
       "      <td>0.618691</td>\n",
       "      <td>-1.240532</td>\n",
       "    </tr>\n",
       "    <tr>\n",
       "      <th>10</th>\n",
       "      <td>-0.495210</td>\n",
       "      <td>0.331183</td>\n",
       "    </tr>\n",
       "  </tbody>\n",
       "</table>\n",
       "</div>"
      ],
      "text/plain": [
       "           B         C\n",
       "0   0.083733  0.317250\n",
       "1   0.389888 -1.459308\n",
       "2   1.020632  0.634338\n",
       "3   0.018124 -0.755330\n",
       "4  -0.777970 -0.190609\n",
       "5  -1.847498  1.237452\n",
       "6  -1.104823  0.806254\n",
       "7   0.026807 -0.784053\n",
       "8   0.268277  0.318556\n",
       "9   0.618691 -1.240532\n",
       "10 -0.495210  0.331183"
      ]
     },
     "execution_count": 62,
     "metadata": {},
     "output_type": "execute_result"
    }
   ],
   "source": [
    "# We can also slice the columns\n",
    "\n",
    "df.iloc[0:11, 1:3]"
   ]
  },
  {
   "cell_type": "code",
   "execution_count": 65,
   "id": "34828101",
   "metadata": {
    "slideshow": {
     "slide_type": "slide"
    }
   },
   "outputs": [
    {
     "data": {
      "text/html": [
       "<div>\n",
       "<style scoped>\n",
       "    .dataframe tbody tr th:only-of-type {\n",
       "        vertical-align: middle;\n",
       "    }\n",
       "\n",
       "    .dataframe tbody tr th {\n",
       "        vertical-align: top;\n",
       "    }\n",
       "\n",
       "    .dataframe thead th {\n",
       "        text-align: right;\n",
       "    }\n",
       "</style>\n",
       "<table border=\"1\" class=\"dataframe\">\n",
       "  <thead>\n",
       "    <tr style=\"text-align: right;\">\n",
       "      <th></th>\n",
       "      <th>A</th>\n",
       "      <th>D</th>\n",
       "    </tr>\n",
       "  </thead>\n",
       "  <tbody>\n",
       "    <tr>\n",
       "      <th>0</th>\n",
       "      <td>0.969349</td>\n",
       "      <td>0.300730</td>\n",
       "    </tr>\n",
       "    <tr>\n",
       "      <th>5</th>\n",
       "      <td>0.862689</td>\n",
       "      <td>-0.043828</td>\n",
       "    </tr>\n",
       "    <tr>\n",
       "      <th>6</th>\n",
       "      <td>0.858238</td>\n",
       "      <td>-0.290968</td>\n",
       "    </tr>\n",
       "    <tr>\n",
       "      <th>8</th>\n",
       "      <td>-0.968022</td>\n",
       "      <td>1.212346</td>\n",
       "    </tr>\n",
       "  </tbody>\n",
       "</table>\n",
       "</div>"
      ],
      "text/plain": [
       "          A         D\n",
       "0  0.969349  0.300730\n",
       "5  0.862689 -0.043828\n",
       "6  0.858238 -0.290968\n",
       "8 -0.968022  1.212346"
      ]
     },
     "execution_count": 65,
     "metadata": {},
     "output_type": "execute_result"
    }
   ],
   "source": [
    "# We can also ask for very specific slices\n",
    "# Rows df and colums iloc defined\n",
    "df.iloc[[0, 5, 6, 8], [0, 3]]"
   ]
  },
  {
   "cell_type": "markdown",
   "id": "aec9f562",
   "metadata": {},
   "source": [
    "## Statistical methods "
   ]
  },
  {
   "cell_type": "code",
   "execution_count": 69,
   "id": "4080a496",
   "metadata": {},
   "outputs": [
    {
     "name": "stdout",
     "output_type": "stream",
     "text": [
      "   Math  English  History\n",
      "0    88       33       54\n",
      "1    78       48       71\n",
      "2    64       25       71\n",
      "3    92       68       63\n",
      "4    57       32       80\n"
     ]
    }
   ],
   "source": [
    "import pandas as pd\n",
    "import numpy as np\n",
    "\n",
    "# Set seed for reproducibility\n",
    "np.random.seed(42)\n",
    "\n",
    "# Generating data on subject scores in 3 subjects for 100 students.\n",
    "# This is a dictionary\n",
    "\n",
    "data = {\n",
    "    'Math': np.random.randint(50, 100, 100),\n",
    "    'English': np.random.randint(25, 75, 100),\n",
    "    'History': np.random.randint(40, 90, 100)\n",
    "}\n",
    "\n",
    "df = pd.DataFrame(data)\n",
    "print(df.head())  # Print the first 5 rows"
   ]
  },
  {
   "cell_type": "code",
   "execution_count": 72,
   "id": "6b0093f1",
   "metadata": {},
   "outputs": [
    {
     "name": "stdout",
     "output_type": "stream",
     "text": [
      "Mean Scores:\n",
      " Math       74.07\n",
      "English    49.45\n",
      "History    63.42\n",
      "dtype: float64\n"
     ]
    }
   ],
   "source": [
    "# Mean Score of Each Subject:\n",
    "# What is the average score?\n",
    "\n",
    "mean_scores = df.mean()\n",
    "print(\"Mean Scores:\\n\", mean_scores)"
   ]
  },
  {
   "cell_type": "code",
   "execution_count": 75,
   "id": "50894c29",
   "metadata": {},
   "outputs": [
    {
     "name": "stdout",
     "output_type": "stream",
     "text": [
      "Mean Scores:\n",
      " Math       74.07\n",
      "English    49.45\n",
      "History    63.42\n",
      "dtype: float64\n"
     ]
    }
   ],
   "source": [
    "# Mean Score of Each Subject:\n",
    "# What is the average score?\n",
    "\n",
    "mean_scores = df.mean(axis = 0)\n",
    "print(\"Mean Scores:\\n\", mean_scores)"
   ]
  },
  {
   "cell_type": "code",
   "execution_count": 76,
   "id": "459043d3",
   "metadata": {},
   "outputs": [
    {
     "name": "stdout",
     "output_type": "stream",
     "text": [
      "\n",
      "Median Scores:\n",
      " Math       73.0\n",
      "English    51.5\n",
      "History    63.0\n",
      "dtype: float64\n"
     ]
    }
   ],
   "source": [
    "# Median Score of Each Subject:\n",
    "\n",
    "median_scores = df.median()\n",
    "print(\"\\nMedian Scores:\\n\", median_scores)"
   ]
  },
  {
   "cell_type": "code",
   "execution_count": 77,
   "id": "a69ac320",
   "metadata": {},
   "outputs": [
    {
     "name": "stdout",
     "output_type": "stream",
     "text": [
      "\n",
      "Standard Deviation:\n",
      " Math       14.447575\n",
      "English    14.078693\n",
      "History    15.157210\n",
      "dtype: float64\n"
     ]
    }
   ],
   "source": [
    "# Standard Deviation of Each Subject:\n",
    "\n",
    "std_dev = df.std()\n",
    "print(\"\\nStandard Deviation:\\n\", std_dev)"
   ]
  },
  {
   "cell_type": "code",
   "execution_count": 78,
   "id": "7c216b98",
   "metadata": {},
   "outputs": [
    {
     "name": "stdout",
     "output_type": "stream",
     "text": [
      "\n",
      "Highest Math Score: 99\n",
      "Lowest Math Score: 50\n"
     ]
    }
   ],
   "source": [
    "# Highest and Lowest Score in Math:\n",
    "# Max and Min method\n",
    "\n",
    "max_math = df['Math'].max()\n",
    "min_math = df['Math'].min()\n",
    "\n",
    "print(\"\\nHighest Math Score:\", max_math)\n",
    "print(\"Lowest Math Score:\", min_math)"
   ]
  },
  {
   "cell_type": "markdown",
   "id": "c981d4b9",
   "metadata": {},
   "source": [
    "相関（correlation）とは、2つ以上の変数間の関係の強さと方向を数値で表す統計的な指標です。相関係数は通常、-1から1までの値を取ります。\n",
    "\n",
    "1に近い: 正の強い相関がある（一方の変数が増加すると、もう一方も増加する）\n",
    "\n",
    "-1に近い: 負の強い相関がある（一方の変数が増加すると、もう一方は減少する）\n",
    "\n",
    "0に近い: ほとんど相関がない（一方の変数の変化がもう一方の変数の変化に影響を与えない）"
   ]
  },
  {
   "cell_type": "code",
   "execution_count": 79,
   "id": "c9ea0580",
   "metadata": {},
   "outputs": [
    {
     "name": "stdout",
     "output_type": "stream",
     "text": [
      "\n",
      "Correlation between subjects:\n",
      "              Math   English   History\n",
      "Math     1.000000  0.094794  0.008997\n",
      "English  0.094794  1.000000  0.039388\n",
      "History  0.008997  0.039388  1.000000\n"
     ]
    }
   ],
   "source": [
    "# Correlation Between Subjects:\n",
    "\n",
    "correlation = df.corr()\n",
    "print(\"\\nCorrelation between subjects:\\n\", correlation)"
   ]
  },
  {
   "cell_type": "code",
   "execution_count": 85,
   "id": "b35dfa06",
   "metadata": {},
   "outputs": [
    {
     "name": "stdout",
     "output_type": "stream",
     "text": [
      "\n",
      "Number of students scoring above 70 in English:     Math  English  History\n",
      "23    70       72       40\n",
      "36    93       71       44\n",
      "53    96       73       42\n"
     ]
    }
   ],
   "source": [
    "# Number of Students Scoring Above 70 in English:\n",
    "\n",
    "above_70_english = df[df['English'] > 70]#.shape[0]\n",
    "print(\"\\nNumber of students scoring above 70 in English:\", above_70_english)"
   ]
  },
  {
   "cell_type": "markdown",
   "id": "166802a9",
   "metadata": {},
   "source": [
    "↑ このコードは、英語のスコアが70点以上の学生の数を計算しています。\n",
    "\n",
    "df['English'] > 70: この部分は、英語のスコアが70点より高いかどうかをDataFrame df の各行に対して評価します。これにより、TrueまたはFalseの値が含まれた新しいBoolean Seriesが生成されます。\n",
    "\n",
    "df[df['English'] > 70]: この部分は、上記のBoolean Seriesを用いて、英語のスコアが70点より高い行だけを新しいDataFrameとして抽出します。\n",
    "\n",
    "#.shape[0]: このコメントアウトされた部分をコードに追加すると、抽出されたDataFrameの行数（つまり、英語で70点以上を取った学生の数）が得られます。\n",
    "\n",
    "print(\"\\nNumber of students scoring above 70 in English:\", above_70_english): この行は、70点以上を取った学生のDataFrameを出力します。もし学生の数だけが必要な場合は、#.shape[0]のコメントアウトを解除してください"
   ]
  },
  {
   "cell_type": "markdown",
   "id": "5f1dba43",
   "metadata": {
    "slideshow": {
     "slide_type": "slide"
    }
   },
   "source": [
    "# 3. Time series data"
   ]
  },
  {
   "cell_type": "markdown",
   "id": "92df05e6",
   "metadata": {
    "slideshow": {
     "slide_type": "slide"
    }
   },
   "source": [
    "## Pandas has great functionality for working with dates"
   ]
  },
  {
   "cell_type": "code",
   "execution_count": 86,
   "id": "520fd783",
   "metadata": {
    "slideshow": {
     "slide_type": "-"
    }
   },
   "outputs": [],
   "source": [
    "# We can create an index with dates \n",
    "\n",
    "dates = pd.date_range(start=\"2022-09-01\", periods=30, freq='M')"
   ]
  },
  {
   "cell_type": "code",
   "execution_count": 99,
   "id": "b8564890",
   "metadata": {},
   "outputs": [],
   "source": [
    "# Different version\n",
    "# Check Business day\n",
    "dates = pd.date_range(start = \"2022-09-01\", end = \"2024-01-01\", freq = \"B\")"
   ]
  },
  {
   "cell_type": "code",
   "execution_count": 100,
   "id": "be976e95",
   "metadata": {},
   "outputs": [
    {
     "data": {
      "text/plain": [
       "DatetimeIndex(['2022-09-01', '2022-09-02', '2022-09-05', '2022-09-06',\n",
       "               '2022-09-07', '2022-09-08', '2022-09-09', '2022-09-12',\n",
       "               '2022-09-13', '2022-09-14',\n",
       "               ...\n",
       "               '2023-12-19', '2023-12-20', '2023-12-21', '2023-12-22',\n",
       "               '2023-12-25', '2023-12-26', '2023-12-27', '2023-12-28',\n",
       "               '2023-12-29', '2024-01-01'],\n",
       "              dtype='datetime64[ns]', length=348, freq='B')"
      ]
     },
     "execution_count": 100,
     "metadata": {},
     "output_type": "execute_result"
    }
   ],
   "source": [
    "# List of dates\n",
    "dates"
   ]
  },
  {
   "cell_type": "code",
   "execution_count": 90,
   "id": "842193e6",
   "metadata": {
    "slideshow": {
     "slide_type": "fragment"
    }
   },
   "outputs": [
    {
     "name": "stdout",
     "output_type": "stream",
     "text": [
      "\u001b[1;31mSignature:\u001b[0m\n",
      "\u001b[0mpd\u001b[0m\u001b[1;33m.\u001b[0m\u001b[0mdate_range\u001b[0m\u001b[1;33m(\u001b[0m\u001b[1;33m\n",
      "\u001b[0m    \u001b[0mstart\u001b[0m\u001b[1;33m=\u001b[0m\u001b[1;32mNone\u001b[0m\u001b[1;33m,\u001b[0m\u001b[1;33m\n",
      "\u001b[0m    \u001b[0mend\u001b[0m\u001b[1;33m=\u001b[0m\u001b[1;32mNone\u001b[0m\u001b[1;33m,\u001b[0m\u001b[1;33m\n",
      "\u001b[0m    \u001b[0mperiods\u001b[0m\u001b[1;33m=\u001b[0m\u001b[1;32mNone\u001b[0m\u001b[1;33m,\u001b[0m\u001b[1;33m\n",
      "\u001b[0m    \u001b[0mfreq\u001b[0m\u001b[1;33m=\u001b[0m\u001b[1;32mNone\u001b[0m\u001b[1;33m,\u001b[0m\u001b[1;33m\n",
      "\u001b[0m    \u001b[0mtz\u001b[0m\u001b[1;33m=\u001b[0m\u001b[1;32mNone\u001b[0m\u001b[1;33m,\u001b[0m\u001b[1;33m\n",
      "\u001b[0m    \u001b[0mnormalize\u001b[0m\u001b[1;33m:\u001b[0m \u001b[1;34m'bool'\u001b[0m \u001b[1;33m=\u001b[0m \u001b[1;32mFalse\u001b[0m\u001b[1;33m,\u001b[0m\u001b[1;33m\n",
      "\u001b[0m    \u001b[0mname\u001b[0m\u001b[1;33m:\u001b[0m \u001b[1;34m'Hashable | None'\u001b[0m \u001b[1;33m=\u001b[0m \u001b[1;32mNone\u001b[0m\u001b[1;33m,\u001b[0m\u001b[1;33m\n",
      "\u001b[0m    \u001b[0minclusive\u001b[0m\u001b[1;33m:\u001b[0m \u001b[1;34m'IntervalClosedType'\u001b[0m \u001b[1;33m=\u001b[0m \u001b[1;34m'both'\u001b[0m\u001b[1;33m,\u001b[0m\u001b[1;33m\n",
      "\u001b[0m    \u001b[1;33m*\u001b[0m\u001b[1;33m,\u001b[0m\u001b[1;33m\n",
      "\u001b[0m    \u001b[0munit\u001b[0m\u001b[1;33m:\u001b[0m \u001b[1;34m'str | None'\u001b[0m \u001b[1;33m=\u001b[0m \u001b[1;32mNone\u001b[0m\u001b[1;33m,\u001b[0m\u001b[1;33m\n",
      "\u001b[0m    \u001b[1;33m**\u001b[0m\u001b[0mkwargs\u001b[0m\u001b[1;33m,\u001b[0m\u001b[1;33m\n",
      "\u001b[0m\u001b[1;33m)\u001b[0m \u001b[1;33m->\u001b[0m \u001b[1;34m'DatetimeIndex'\u001b[0m\u001b[1;33m\u001b[0m\u001b[1;33m\u001b[0m\u001b[0m\n",
      "\u001b[1;31mDocstring:\u001b[0m\n",
      "Return a fixed frequency DatetimeIndex.\n",
      "\n",
      "Returns the range of equally spaced time points (where the difference between any\n",
      "two adjacent points is specified by the given frequency) such that they all\n",
      "satisfy `start <[=] x <[=] end`, where the first one and the last one are, resp.,\n",
      "the first and last time points in that range that fall on the boundary of ``freq``\n",
      "(if given as a frequency string) or that are valid for ``freq`` (if given as a\n",
      ":class:`pandas.tseries.offsets.DateOffset`). (If exactly one of ``start``,\n",
      "``end``, or ``freq`` is *not* specified, this missing parameter can be computed\n",
      "given ``periods``, the number of timesteps in the range. See the note below.)\n",
      "\n",
      "Parameters\n",
      "----------\n",
      "start : str or datetime-like, optional\n",
      "    Left bound for generating dates.\n",
      "end : str or datetime-like, optional\n",
      "    Right bound for generating dates.\n",
      "periods : int, optional\n",
      "    Number of periods to generate.\n",
      "freq : str, Timedelta, datetime.timedelta, or DateOffset, default 'D'\n",
      "    Frequency strings can have multiples, e.g. '5H'. See\n",
      "    :ref:`here <timeseries.offset_aliases>` for a list of\n",
      "    frequency aliases.\n",
      "tz : str or tzinfo, optional\n",
      "    Time zone name for returning localized DatetimeIndex, for example\n",
      "    'Asia/Hong_Kong'. By default, the resulting DatetimeIndex is\n",
      "    timezone-naive unless timezone-aware datetime-likes are passed.\n",
      "normalize : bool, default False\n",
      "    Normalize start/end dates to midnight before generating date range.\n",
      "name : str, default None\n",
      "    Name of the resulting DatetimeIndex.\n",
      "inclusive : {\"both\", \"neither\", \"left\", \"right\"}, default \"both\"\n",
      "    Include boundaries; Whether to set each bound as closed or open.\n",
      "\n",
      "    .. versionadded:: 1.4.0\n",
      "unit : str, default None\n",
      "    Specify the desired resolution of the result.\n",
      "\n",
      "    .. versionadded:: 2.0.0\n",
      "**kwargs\n",
      "    For compatibility. Has no effect on the result.\n",
      "\n",
      "Returns\n",
      "-------\n",
      "DatetimeIndex\n",
      "\n",
      "See Also\n",
      "--------\n",
      "DatetimeIndex : An immutable container for datetimes.\n",
      "timedelta_range : Return a fixed frequency TimedeltaIndex.\n",
      "period_range : Return a fixed frequency PeriodIndex.\n",
      "interval_range : Return a fixed frequency IntervalIndex.\n",
      "\n",
      "Notes\n",
      "-----\n",
      "Of the four parameters ``start``, ``end``, ``periods``, and ``freq``,\n",
      "exactly three must be specified. If ``freq`` is omitted, the resulting\n",
      "``DatetimeIndex`` will have ``periods`` linearly spaced elements between\n",
      "``start`` and ``end`` (closed on both sides).\n",
      "\n",
      "To learn more about the frequency strings, please see `this link\n",
      "<https://pandas.pydata.org/pandas-docs/stable/user_guide/timeseries.html#offset-aliases>`__.\n",
      "\n",
      "Examples\n",
      "--------\n",
      "**Specifying the values**\n",
      "\n",
      "The next four examples generate the same `DatetimeIndex`, but vary\n",
      "the combination of `start`, `end` and `periods`.\n",
      "\n",
      "Specify `start` and `end`, with the default daily frequency.\n",
      "\n",
      ">>> pd.date_range(start='1/1/2018', end='1/08/2018')\n",
      "DatetimeIndex(['2018-01-01', '2018-01-02', '2018-01-03', '2018-01-04',\n",
      "               '2018-01-05', '2018-01-06', '2018-01-07', '2018-01-08'],\n",
      "              dtype='datetime64[ns]', freq='D')\n",
      "\n",
      "Specify timezone-aware `start` and `end`, with the default daily frequency.\n",
      "\n",
      ">>> pd.date_range(\n",
      "...     start=pd.to_datetime(\"1/1/2018\").tz_localize(\"Europe/Berlin\"),\n",
      "...     end=pd.to_datetime(\"1/08/2018\").tz_localize(\"Europe/Berlin\"),\n",
      "... )\n",
      "DatetimeIndex(['2018-01-01 00:00:00+01:00', '2018-01-02 00:00:00+01:00',\n",
      "               '2018-01-03 00:00:00+01:00', '2018-01-04 00:00:00+01:00',\n",
      "               '2018-01-05 00:00:00+01:00', '2018-01-06 00:00:00+01:00',\n",
      "               '2018-01-07 00:00:00+01:00', '2018-01-08 00:00:00+01:00'],\n",
      "              dtype='datetime64[ns, Europe/Berlin]', freq='D')\n",
      "\n",
      "Specify `start` and `periods`, the number of periods (days).\n",
      "\n",
      ">>> pd.date_range(start='1/1/2018', periods=8)\n",
      "DatetimeIndex(['2018-01-01', '2018-01-02', '2018-01-03', '2018-01-04',\n",
      "               '2018-01-05', '2018-01-06', '2018-01-07', '2018-01-08'],\n",
      "              dtype='datetime64[ns]', freq='D')\n",
      "\n",
      "Specify `end` and `periods`, the number of periods (days).\n",
      "\n",
      ">>> pd.date_range(end='1/1/2018', periods=8)\n",
      "DatetimeIndex(['2017-12-25', '2017-12-26', '2017-12-27', '2017-12-28',\n",
      "               '2017-12-29', '2017-12-30', '2017-12-31', '2018-01-01'],\n",
      "              dtype='datetime64[ns]', freq='D')\n",
      "\n",
      "Specify `start`, `end`, and `periods`; the frequency is generated\n",
      "automatically (linearly spaced).\n",
      "\n",
      ">>> pd.date_range(start='2018-04-24', end='2018-04-27', periods=3)\n",
      "DatetimeIndex(['2018-04-24 00:00:00', '2018-04-25 12:00:00',\n",
      "               '2018-04-27 00:00:00'],\n",
      "              dtype='datetime64[ns]', freq=None)\n",
      "\n",
      "**Other Parameters**\n",
      "\n",
      "Changed the `freq` (frequency) to ``'M'`` (month end frequency).\n",
      "\n",
      ">>> pd.date_range(start='1/1/2018', periods=5, freq='M')\n",
      "DatetimeIndex(['2018-01-31', '2018-02-28', '2018-03-31', '2018-04-30',\n",
      "               '2018-05-31'],\n",
      "              dtype='datetime64[ns]', freq='M')\n",
      "\n",
      "Multiples are allowed\n",
      "\n",
      ">>> pd.date_range(start='1/1/2018', periods=5, freq='3M')\n",
      "DatetimeIndex(['2018-01-31', '2018-04-30', '2018-07-31', '2018-10-31',\n",
      "               '2019-01-31'],\n",
      "              dtype='datetime64[ns]', freq='3M')\n",
      "\n",
      "`freq` can also be specified as an Offset object.\n",
      "\n",
      ">>> pd.date_range(start='1/1/2018', periods=5, freq=pd.offsets.MonthEnd(3))\n",
      "DatetimeIndex(['2018-01-31', '2018-04-30', '2018-07-31', '2018-10-31',\n",
      "               '2019-01-31'],\n",
      "              dtype='datetime64[ns]', freq='3M')\n",
      "\n",
      "Specify `tz` to set the timezone.\n",
      "\n",
      ">>> pd.date_range(start='1/1/2018', periods=5, tz='Asia/Tokyo')\n",
      "DatetimeIndex(['2018-01-01 00:00:00+09:00', '2018-01-02 00:00:00+09:00',\n",
      "               '2018-01-03 00:00:00+09:00', '2018-01-04 00:00:00+09:00',\n",
      "               '2018-01-05 00:00:00+09:00'],\n",
      "              dtype='datetime64[ns, Asia/Tokyo]', freq='D')\n",
      "\n",
      "`inclusive` controls whether to include `start` and `end` that are on the\n",
      "boundary. The default, \"both\", includes boundary points on either end.\n",
      "\n",
      ">>> pd.date_range(start='2017-01-01', end='2017-01-04', inclusive=\"both\")\n",
      "DatetimeIndex(['2017-01-01', '2017-01-02', '2017-01-03', '2017-01-04'],\n",
      "              dtype='datetime64[ns]', freq='D')\n",
      "\n",
      "Use ``inclusive='left'`` to exclude `end` if it falls on the boundary.\n",
      "\n",
      ">>> pd.date_range(start='2017-01-01', end='2017-01-04', inclusive='left')\n",
      "DatetimeIndex(['2017-01-01', '2017-01-02', '2017-01-03'],\n",
      "              dtype='datetime64[ns]', freq='D')\n",
      "\n",
      "Use ``inclusive='right'`` to exclude `start` if it falls on the boundary, and\n",
      "similarly ``inclusive='neither'`` will exclude both `start` and `end`.\n",
      "\n",
      ">>> pd.date_range(start='2017-01-01', end='2017-01-04', inclusive='right')\n",
      "DatetimeIndex(['2017-01-02', '2017-01-03', '2017-01-04'],\n",
      "              dtype='datetime64[ns]', freq='D')\n",
      "\n",
      "**Specify a unit**\n",
      "\n",
      ">>> pd.date_range(start=\"2017-01-01\", periods=10, freq=\"100AS\", unit=\"s\")\n",
      "DatetimeIndex(['2017-01-01', '2117-01-01', '2217-01-01', '2317-01-01',\n",
      "               '2417-01-01', '2517-01-01', '2617-01-01', '2717-01-01',\n",
      "               '2817-01-01', '2917-01-01'],\n",
      "              dtype='datetime64[s]', freq='100AS-JAN')\n",
      "\u001b[1;31mFile:\u001b[0m      c:\\users\\chiaki nishihara\\appdata\\local\\programs\\python\\python311\\lib\\site-packages\\pandas\\core\\indexes\\datetimes.py\n",
      "\u001b[1;31mType:\u001b[0m      function"
     ]
    }
   ],
   "source": [
    "#pd.date_range?"
   ]
  },
  {
   "cell_type": "markdown",
   "id": "6b318a5c",
   "metadata": {
    "slideshow": {
     "slide_type": "fragment"
    }
   },
   "source": [
    "### freq-options (non-exclusive list)\n",
    "\n",
    "| Within Day | Within Month | Lower frequency |\n",
    "| --- | --- | --- |\n",
    "| S (seconds)        | D (calendar day) | M (monthly)          |\n",
    "| T (minutely)       | B (business day) | QS (quarterly start) |\n",
    "| H (hourly))        | W (weekly)       | Q (quarterly end)    |\n",
    "| BH (business hour) | SM (semi-month)  | A, Y - (yearly)      |"
   ]
  },
  {
   "cell_type": "code",
   "execution_count": 104,
   "id": "8d96066f",
   "metadata": {
    "slideshow": {
     "slide_type": "fragment"
    }
   },
   "outputs": [
    {
     "data": {
      "text/plain": [
       "DatetimeIndex(['2022-09-01', '2022-09-02', '2022-09-05', '2022-09-06',\n",
       "               '2022-09-07', '2022-09-08', '2022-09-09', '2022-09-12',\n",
       "               '2022-09-13', '2022-09-14',\n",
       "               ...\n",
       "               '2023-12-19', '2023-12-20', '2023-12-21', '2023-12-22',\n",
       "               '2023-12-25', '2023-12-26', '2023-12-27', '2023-12-28',\n",
       "               '2023-12-29', '2024-01-01'],\n",
       "              dtype='datetime64[ns]', length=348, freq='B')"
      ]
     },
     "execution_count": 104,
     "metadata": {},
     "output_type": "execute_result"
    }
   ],
   "source": [
    "dates"
   ]
  },
  {
   "cell_type": "code",
   "execution_count": 116,
   "id": "ff514d4d",
   "metadata": {
    "slideshow": {
     "slide_type": "slide"
    }
   },
   "outputs": [
    {
     "name": "stdout",
     "output_type": "stream",
     "text": [
      "                   A         B         C         D\n",
      "2022-01-01  0.147208 -0.222541  0.824415 -0.124614\n",
      "2022-01-02  0.748035  1.500972 -0.127696  0.555145\n",
      "2022-01-03 -1.754787 -0.123894 -1.231958  0.145227\n",
      "2022-01-04  0.236000  0.232676 -0.480123  2.298469\n",
      "2022-01-05 -1.268022 -1.329146  1.654978 -0.704279\n",
      "2022-01-06 -0.944691  2.302912  0.985723 -0.594465\n",
      "2022-01-07  0.217508  1.945871  0.691621  1.286148\n",
      "2022-01-08  0.804803  0.930253  0.039742  0.011348\n",
      "2022-01-09  0.267050  0.734453 -0.283315  0.122054\n",
      "2022-01-10 -0.310346  0.115685 -1.250996  2.605977\n",
      "2022-01-11 -0.732940 -0.361461 -0.819264  0.615709\n",
      "2022-01-12 -0.196003 -0.963808  0.656883  0.791649\n",
      "2022-01-13 -0.066876 -0.663626  2.191066  0.340068\n",
      "2022-01-14 -1.274069  1.414040 -0.855775  2.741878\n",
      "2022-01-15  0.079658  1.013316 -2.080018 -1.284141\n",
      "2022-01-16  1.333860  0.317815  2.042396  0.485175\n",
      "2022-01-17  0.145296  1.713574  1.010137 -0.196261\n",
      "2022-01-18 -1.094104 -2.371616 -0.437666 -1.186335\n",
      "2022-01-19  2.597705 -0.650371 -0.677709 -1.521245\n",
      "2022-01-20 -0.266317 -0.664535  1.737729  0.168476\n",
      "2022-01-21 -0.008864 -0.134673  0.786175 -0.452328\n",
      "2022-01-22  0.667206  1.613970  0.460075 -0.249731\n",
      "2022-01-23 -0.953459 -0.275124  0.563079 -1.532527\n",
      "2022-01-24  0.831543  0.207613 -0.149189 -0.659413\n",
      "2022-01-25 -0.476378  0.597306 -0.128212 -0.501140\n",
      "2022-01-26  0.468563  0.508190 -1.249175  0.571481\n",
      "2022-01-27  2.501698  0.469621 -1.699007  0.177375\n",
      "2022-01-28 -1.830815  3.167372  2.235675 -0.665938\n",
      "2022-01-29 -2.245667 -0.878371 -0.180991 -1.761864\n",
      "2022-01-30 -0.069023 -0.187579  0.125155  0.229645\n"
     ]
    }
   ],
   "source": [
    "# Create a dataframe with random numbers and use the index with dates\n",
    "\n",
    "import pandas as pd\n",
    "import numpy as np\n",
    "\n",
    "# Create a date range\n",
    "# dates = pd.date_range('20220101', periods=30)\n",
    "\n",
    "# Create a DataFrame with random numbers and date index\n",
    "df = pd.DataFrame(np.random.randn(30, 4), \n",
    "                  columns=list(\"ABCD\"),\n",
    "                  index=dates)\n",
    "\n",
    "print(df)"
   ]
  },
  {
   "cell_type": "code",
   "execution_count": 117,
   "id": "e45f3f78",
   "metadata": {},
   "outputs": [],
   "source": [
    "# A new data frame that isthe cummulative sum of the random numbers\n",
    "df_sum = df.cumsum()"
   ]
  },
  {
   "cell_type": "code",
   "execution_count": 121,
   "id": "e7782212",
   "metadata": {
    "slideshow": {
     "slide_type": "slide"
    }
   },
   "outputs": [
    {
     "data": {
      "image/png": "[encoded data removed]",
      "text/plain": [
       "<Figure size 640x480 with 1 Axes>"
      ]
     },
     "metadata": {},
     "output_type": "display_data"
    }
   ],
   "source": [
    "import pandas as pd\n",
    "import matplotlib.pyplot as plt\n",
    "\n",
    "# Sample DataFrame\n",
    "df_sum = pd.DataFrame({'A': [1, 2, 3], 'B': [4, 5, 6]})\n",
    "\n",
    "# Plotting\n",
    "df_sum.plot()\n",
    "plt.show()"
   ]
  },
  {
   "cell_type": "markdown",
   "id": "ef23cd13",
   "metadata": {
    "slideshow": {
     "slide_type": "slide"
    }
   },
   "source": [
    "# 4. Importing and exporting data"
   ]
  },
  {
   "cell_type": "code",
   "execution_count": 130,
   "id": "29b1b842",
   "metadata": {},
   "outputs": [],
   "source": [
    "# Pandas has many different read methods \n",
    "# Copy（ctrl+c)したものを視覚化する\n",
    "import pandas as pd\n",
    "\n",
    "data = pd.read_clipboard()"
   ]
  },
  {
   "cell_type": "code",
   "execution_count": 131,
   "id": "27a01225",
   "metadata": {},
   "outputs": [
    {
     "data": {
      "text/html": [
       "<div>\n",
       "<style scoped>\n",
       "    .dataframe tbody tr th:only-of-type {\n",
       "        vertical-align: middle;\n",
       "    }\n",
       "\n",
       "    .dataframe tbody tr th {\n",
       "        vertical-align: top;\n",
       "    }\n",
       "\n",
       "    .dataframe thead th {\n",
       "        text-align: right;\n",
       "    }\n",
       "</style>\n",
       "<table border=\"1\" class=\"dataframe\">\n",
       "  <thead>\n",
       "    <tr style=\"text-align: right;\">\n",
       "      <th></th>\n",
       "      <th>CPI All-item index</th>\n",
       "      <th>129.8</th>\n",
       "      <th>-0.1</th>\n",
       "      <th>3.3</th>\n",
       "    </tr>\n",
       "  </thead>\n",
       "  <tbody>\n",
       "    <tr>\n",
       "      <th>0</th>\n",
       "      <td>Food and non-alcoholic beverages</td>\n",
       "      <td>128.6</td>\n",
       "      <td>-1.2</td>\n",
       "      <td>7.4</td>\n",
       "    </tr>\n",
       "    <tr>\n",
       "      <th>1</th>\n",
       "      <td>Alcoholic beverages and tobacco</td>\n",
       "      <td>122.6</td>\n",
       "      <td>0.2</td>\n",
       "      <td>4.9</td>\n",
       "    </tr>\n",
       "    <tr>\n",
       "      <th>2</th>\n",
       "      <td>Clothing and footwear</td>\n",
       "      <td>106.8</td>\n",
       "      <td>5.0</td>\n",
       "      <td>6.0</td>\n",
       "    </tr>\n",
       "    <tr>\n",
       "      <th>3</th>\n",
       "      <td>Housing, water, electricity, gas and other fuels</td>\n",
       "      <td>128.1</td>\n",
       "      <td>-1.8</td>\n",
       "      <td>-4.9</td>\n",
       "    </tr>\n",
       "    <tr>\n",
       "      <th>4</th>\n",
       "      <td>Furnishings, household equipment and routine m...</td>\n",
       "      <td>139.1</td>\n",
       "      <td>1.8</td>\n",
       "      <td>6.4</td>\n",
       "    </tr>\n",
       "    <tr>\n",
       "      <th>5</th>\n",
       "      <td>Health</td>\n",
       "      <td>122.9</td>\n",
       "      <td>-0.2</td>\n",
       "      <td>4.0</td>\n",
       "    </tr>\n",
       "    <tr>\n",
       "      <th>6</th>\n",
       "      <td>Transport</td>\n",
       "      <td>136.7</td>\n",
       "      <td>0.3</td>\n",
       "      <td>6.3</td>\n",
       "    </tr>\n",
       "    <tr>\n",
       "      <th>7</th>\n",
       "      <td>Communications</td>\n",
       "      <td>124.9</td>\n",
       "      <td>0.8</td>\n",
       "      <td>5.4</td>\n",
       "    </tr>\n",
       "    <tr>\n",
       "      <th>8</th>\n",
       "      <td>Recreation and culture</td>\n",
       "      <td>139.0</td>\n",
       "      <td>0.6</td>\n",
       "      <td>9.3</td>\n",
       "    </tr>\n",
       "    <tr>\n",
       "      <th>9</th>\n",
       "      <td>Education</td>\n",
       "      <td>137.6</td>\n",
       "      <td>5.4</td>\n",
       "      <td>5.4</td>\n",
       "    </tr>\n",
       "    <tr>\n",
       "      <th>10</th>\n",
       "      <td>Restaurants and hotels</td>\n",
       "      <td>138.7</td>\n",
       "      <td>0.4</td>\n",
       "      <td>5.6</td>\n",
       "    </tr>\n",
       "    <tr>\n",
       "      <th>11</th>\n",
       "      <td>Miscellaneous goods and services</td>\n",
       "      <td>118.9</td>\n",
       "      <td>-0.2</td>\n",
       "      <td>1.5</td>\n",
       "    </tr>\n",
       "    <tr>\n",
       "      <th>12</th>\n",
       "      <td>CPI-ATE All-item index</td>\n",
       "      <td>127.0</td>\n",
       "      <td>0.4</td>\n",
       "      <td>5.7</td>\n",
       "    </tr>\n",
       "    <tr>\n",
       "      <th>13</th>\n",
       "      <td>CPI by delivery sector</td>\n",
       "      <td>NaN</td>\n",
       "      <td>NaN</td>\n",
       "      <td>NaN</td>\n",
       "    </tr>\n",
       "    <tr>\n",
       "      <th>14</th>\n",
       "      <td>Consumer goods</td>\n",
       "      <td>132.4</td>\n",
       "      <td>-0.3</td>\n",
       "      <td>1.8</td>\n",
       "    </tr>\n",
       "    <tr>\n",
       "      <th>15</th>\n",
       "      <td>Services</td>\n",
       "      <td>127.0</td>\n",
       "      <td>0.2</td>\n",
       "      <td>5.0</td>\n",
       "    </tr>\n",
       "    <tr>\n",
       "      <th>16</th>\n",
       "      <td>Services where labor dominates</td>\n",
       "      <td>127.2</td>\n",
       "      <td>0.3</td>\n",
       "      <td>2.6</td>\n",
       "    </tr>\n",
       "  </tbody>\n",
       "</table>\n",
       "</div>"
      ],
      "text/plain": [
       "                                   CPI All-item index  129.8  -0.1  3.3\n",
       "0                    Food and non-alcoholic beverages  128.6  -1.2  7.4\n",
       "1                     Alcoholic beverages and tobacco  122.6   0.2  4.9\n",
       "2                               Clothing and footwear  106.8   5.0  6.0\n",
       "3    Housing, water, electricity, gas and other fuels  128.1  -1.8 -4.9\n",
       "4   Furnishings, household equipment and routine m...  139.1   1.8  6.4\n",
       "5                                              Health  122.9  -0.2  4.0\n",
       "6                                           Transport  136.7   0.3  6.3\n",
       "7                                      Communications  124.9   0.8  5.4\n",
       "8                              Recreation and culture  139.0   0.6  9.3\n",
       "9                                           Education  137.6   5.4  5.4\n",
       "10                             Restaurants and hotels  138.7   0.4  5.6\n",
       "11                   Miscellaneous goods and services  118.9  -0.2  1.5\n",
       "12                             CPI-ATE All-item index  127.0   0.4  5.7\n",
       "13                             CPI by delivery sector    NaN   NaN  NaN\n",
       "14                                     Consumer goods  132.4  -0.3  1.8\n",
       "15                                           Services  127.0   0.2  5.0\n",
       "16                     Services where labor dominates  127.2   0.3  2.6"
      ]
     },
     "execution_count": 131,
     "metadata": {},
     "output_type": "execute_result"
    }
   ],
   "source": [
    "data"
   ]
  },
  {
   "cell_type": "code",
   "execution_count": null,
   "id": "afc57fdb",
   "metadata": {},
   "outputs": [],
   "source": [
    "ls"
   ]
  },
  {
   "cell_type": "markdown",
   "id": "b631520e",
   "metadata": {
    "slideshow": {
     "slide_type": "slide"
    }
   },
   "source": [
    "## From Excel:"
   ]
  },
  {
   "cell_type": "code",
   "execution_count": null,
   "id": "bd3312ff",
   "metadata": {},
   "outputs": [],
   "source": [
    "data_excel = pd.read_excel('files/travel_changeFromSameMonth2019.xlsx')\n",
    "data_excel.head()"
   ]
  },
  {
   "cell_type": "code",
   "execution_count": null,
   "id": "7196f9ef",
   "metadata": {
    "slideshow": {
     "slide_type": "slide"
    }
   },
   "outputs": [],
   "source": [
    "# We can get Pandas to read the dates for us \n",
    "\n",
    "data_excel = pd.read_excel('files/travel_changeFromSameMonth2019.xlsx',\n",
    "                     index_col=[0],\n",
    "                     parse_dates=True)\n",
    "data_excel.head()"
   ]
  },
  {
   "cell_type": "code",
   "execution_count": null,
   "id": "6612160b",
   "metadata": {},
   "outputs": [],
   "source": [
    "data_excel.index"
   ]
  },
  {
   "cell_type": "code",
   "execution_count": null,
   "id": "242ecf07",
   "metadata": {},
   "outputs": [],
   "source": [
    "data_excel.plot()"
   ]
  },
  {
   "cell_type": "markdown",
   "id": "a6e99205",
   "metadata": {
    "slideshow": {
     "slide_type": "slide"
    }
   },
   "source": [
    "## From csv (Comma Separated Values):"
   ]
  },
  {
   "cell_type": "code",
   "execution_count": null,
   "id": "0d079fa1",
   "metadata": {},
   "outputs": [],
   "source": [
    "# Reading a csv-file\n",
    "\n",
    "data_csv = pd.read_csv('files/travel_changeFromSameMonth2019.csv',\n",
    "                      index_col=[0],\n",
    "                      parse_dates=True)\n",
    "data_csv.index"
   ]
  },
  {
   "cell_type": "markdown",
   "id": "8dcc015b",
   "metadata": {
    "slideshow": {
     "slide_type": "slide"
    }
   },
   "source": [
    "## Save dataframe as a csv-file"
   ]
  },
  {
   "cell_type": "code",
   "execution_count": null,
   "id": "1e324ca2",
   "metadata": {},
   "outputs": [],
   "source": [
    "# Let's create some random data \n",
    "\n",
    "df1 = pd.DataFrame(np.random.randn(30,5),\n",
    "                   columns=list('ABCDE'),\n",
    "                   index=pd.date_range('1990-01-01', periods=30, freq='A'))\n",
    "df1.tail()"
   ]
  },
  {
   "cell_type": "code",
   "execution_count": null,
   "id": "ca569aba",
   "metadata": {
    "slideshow": {
     "slide_type": "fragment"
    }
   },
   "outputs": [],
   "source": [
    "# The .to_csv method saves the dataframe as a csv file\n",
    "\n",
    "df1.to_csv('random_numbers2.csv')"
   ]
  }
 ],
 "metadata": {
  "celltoolbar": "Slideshow",
  "kernelspec": {
   "display_name": "Python 3 (ipykernel)",
   "language": "python",
   "name": "python3"
  },
  "language_info": {
   "codemirror_mode": {
    "name": "ipython",
    "version": 3
   },
   "file_extension": ".py",
   "mimetype": "text/x-python",
   "name": "python",
   "nbconvert_exporter": "python",
   "pygments_lexer": "ipython3",
   "version": "3.11.2"
  }
 },
 "nbformat": 4,
 "nbformat_minor": 5
}
