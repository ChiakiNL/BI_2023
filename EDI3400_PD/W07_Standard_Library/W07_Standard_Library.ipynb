{
 "cells": [
  {
   "cell_type": "markdown",
   "metadata": {},
   "source": [
    "# Week06 The Standard Library, Functions and Classes"
   ]
  },
  {
   "cell_type": "code",
   "execution_count": 2,
   "metadata": {},
   "outputs": [
    {
     "name": "stdout",
     "output_type": "stream",
     "text": [
      "-1.0\n",
      "1.0\n"
     ]
    }
   ],
   "source": [
    "# Print out  cos(2*pi) and the log_e(e^5) = ln(e^5)\n",
    "\n",
    "import math\n",
    "\n",
    "print(math.cos(3*math.pi)) # Function\n",
    "print(math.log(math.e))"
   ]
  },
  {
   "cell_type": "code",
   "execution_count": 3,
   "metadata": {},
   "outputs": [
    {
     "data": {
      "text/plain": [
       "2.718281828459045"
      ]
     },
     "execution_count": 3,
     "metadata": {},
     "output_type": "execute_result"
    }
   ],
   "source": [
    "math.e"
   ]
  },
  {
   "cell_type": "code",
   "execution_count": 6,
   "metadata": {},
   "outputs": [
    {
     "data": {
      "text/plain": [
       "'Oslo'"
      ]
     },
     "execution_count": 6,
     "metadata": {},
     "output_type": "execute_result"
    }
   ],
   "source": [
    "# Pick a random Norwegian city\n",
    "# Print one element from choices\n",
    "\n",
    "import random\n",
    "random.choice(['Oslo', 'Bergen', 'Trondheim', 'Stavanger', 'Tromsø'])"
   ]
  },
  {
   "cell_type": "code",
   "execution_count": 27,
   "metadata": {},
   "outputs": [
    {
     "name": "stdout",
     "output_type": "stream",
     "text": [
      "2002-12-31\n",
      "2002-12-27\n"
     ]
    }
   ],
   "source": [
    "# A date corresponding to a date_string given in the format YYYY-MM-DD\n",
    "\n",
    "from datetime import date\n",
    "d = date(2002, 12, 31)\n",
    "print(d)\n",
    "print(d.replace(day = 27))"
   ]
  },
  {
   "cell_type": "code",
   "execution_count": 32,
   "metadata": {},
   "outputs": [
    {
     "data": {
      "text/plain": [
       "'vegard.h.larsen@bi.no'"
      ]
     },
     "execution_count": 32,
     "metadata": {},
     "output_type": "execute_result"
    }
   ],
   "source": [
    "# Clean up a string\n",
    "\n",
    "import re\n",
    "email = \"vegard.hRemove_this.larsen@bi.no\"\n",
    "m = re.search(\"Remove_this\", email)\n",
    "email[:m.start()] + email[m.end():]\n"
   ]
  },
  {
   "cell_type": "markdown",
   "metadata": {},
   "source": [
    "\n",
    "- email[:m.start()]: この部分は、email 文字列の始まりから一致 m の開始インデックスまでの文字を抽出します。この場合、テキスト \"Remove_this\" の前にある email 文字列全体をキャプチャします。\n",
    "- email[m.end():]: この部分は、一致 m の終了インデックスから email 文字列の最後までの文字を抽出します。テキスト \"Remove_this\" の後にある email 文字列全体をキャプチャします。\n",
    "\n",
    "このコードの目的は、email 文字列からテキスト \"Remove_this\" を削除することです。これは、実質的にemail 文字列を \"Remove_this\" テキストの位置で二つに分割し、それらを再び連結することによって行われます。その結果、\"Remove_this\" が削除されたクリーンなメールアドレスが得られます。"
   ]
  },
  {
   "cell_type": "code",
   "execution_count": 31,
   "metadata": {},
   "outputs": [
    {
     "name": "stdout",
     "output_type": "stream",
     "text": [
      "3.5\n"
     ]
    }
   ],
   "source": [
    "# Calculate the mean of a list\n",
    "\n",
    "import statistics\n",
    "print(statistics.mean([1, 2, 3, 4, 5, 6]))"
   ]
  },
  {
   "cell_type": "markdown",
   "metadata": {},
   "source": [
    "### Recipe for creating a function:\n",
    "1. The function must be created using the `def` keyword.\n",
    "2. Select a name for the function. \n",
    "    - Use a name that describes what the function does\n",
    "3. Select the parameters that will be the inputs to the function. It is possible to create a function with no parameters.\n",
    "4. Write the code that make the function do what we want\n",
    "    - Note that variables defined within a function body is not available outside the function\n",
    "5. End the function with the `return` keyword to return the output. This is optional. The function will return None if the `return` keyword is skipped."
   ]
  },
  {
   "cell_type": "code",
   "execution_count": 39,
   "metadata": {},
   "outputs": [
    {
     "name": "stdout",
     "output_type": "stream",
     "text": [
      "HELLO!!\n"
     ]
    },
    {
     "data": {
      "text/plain": [
       "'Hello'"
      ]
     },
     "execution_count": 39,
     "metadata": {},
     "output_type": "execute_result"
    }
   ],
   "source": [
    "def scream(string):\n",
    "    print(string.upper() + '!!')\n",
    "    return(string.capitalize())\n",
    "\n",
    "scream(\"Hello\")\n",
    "# In jupyter note, the original code is printed"
   ]
  },
  {
   "cell_type": "code",
   "execution_count": 37,
   "metadata": {},
   "outputs": [
    {
     "name": "stdout",
     "output_type": "stream",
     "text": [
      "HI!!\n"
     ]
    }
   ],
   "source": [
    "value = scream(\"Hi\")"
   ]
  },
  {
   "cell_type": "code",
   "execution_count": 40,
   "metadata": {},
   "outputs": [
    {
     "data": {
      "text/plain": [
       "'Hi'"
      ]
     },
     "execution_count": 40,
     "metadata": {},
     "output_type": "execute_result"
    }
   ],
   "source": [
    "value"
   ]
  },
  {
   "cell_type": "markdown",
   "metadata": {},
   "source": [
    "# Example of a function that converts Fahrenheit to Celsius (and Kelvin)"
   ]
  },
  {
   "cell_type": "code",
   "execution_count": 42,
   "metadata": {},
   "outputs": [],
   "source": [
    "# A function that converts a temperature given in Fahrenheit to Celsius\n",
    "\n",
    "def fahrenheit2celsius(fahrenheit):\n",
    "    celsius = (5 / 9) * (fahrenheit - 32)\n",
    "    return celsius"
   ]
  },
  {
   "cell_type": "code",
   "execution_count": 44,
   "metadata": {},
   "outputs": [
    {
     "data": {
      "text/plain": [
       "26.666666666666668"
      ]
     },
     "execution_count": 44,
     "metadata": {},
     "output_type": "execute_result"
    }
   ],
   "source": [
    "fahrenheit2celsius(80)"
   ]
  },
  {
   "cell_type": "code",
   "execution_count": 45,
   "metadata": {},
   "outputs": [],
   "source": [
    "# A function that converts Fahrenheit to Kelvin\n",
    "\n",
    "def fahrenheit2kelvin(fahrenheit):\n",
    "    kelvin = 273.15 + fahrenheit2celsius(fahrenheit)\n",
    "    return(kelvin)"
   ]
  },
  {
   "cell_type": "code",
   "execution_count": 46,
   "metadata": {},
   "outputs": [
    {
     "data": {
      "text/plain": [
       "269.26111111111106"
      ]
     },
     "execution_count": 46,
     "metadata": {},
     "output_type": "execute_result"
    }
   ],
   "source": [
    "fahrenheit2kelvin(25)"
   ]
  },
  {
   "cell_type": "markdown",
   "metadata": {},
   "source": [
    "## Make a function that behaves like a dice"
   ]
  },
  {
   "cell_type": "code",
   "execution_count": 54,
   "metadata": {},
   "outputs": [],
   "source": [
    "# The probability of getting a 6 using a fair dice is 1/6=0.16666666...\n",
    "\n",
    "import random\n",
    "\n",
    "def dice():\n",
    "    dice_value = random.choice([1, 2, 3, 4, 5, 6])\n",
    "    return(dice_value)\n",
    "\n",
    "# print(values_dice_value)"
   ]
  },
  {
   "cell_type": "code",
   "execution_count": 48,
   "metadata": {},
   "outputs": [
    {
     "data": {
      "text/plain": [
       "5"
      ]
     },
     "execution_count": 48,
     "metadata": {},
     "output_type": "execute_result"
    }
   ],
   "source": [
    "# Throw a dice\n",
    "\n",
    "dice()"
   ]
  },
  {
   "cell_type": "code",
   "execution_count": 53,
   "metadata": {},
   "outputs": [],
   "source": [
    "# The probability of getting a 6 using the cheating dice is 3/9=0.333333.. \n",
    "\n",
    "def cheating_dice():\n",
    "    dice_value = random.choice([1, 2, 3, 4, 5, 5, 6, 6, 6])\n",
    "    return(dice_value)"
   ]
  },
  {
   "cell_type": "code",
   "execution_count": 59,
   "metadata": {},
   "outputs": [
    {
     "name": "stdout",
     "output_type": "stream",
     "text": [
      "[6, 5, 6, 6, 4, 2, 6, 5, 5, 6, 5, 6, 4, 5, 4, 5, 4, 3, 4, 6, 2, 3, 6, 5, 5, 5, 1, 6, 5, 6, 5, 5, 2, 5, 4, 1, 5, 4, 5, 2, 6, 3, 2, 6, 6, 6, 6, 4, 4, 4, 3, 6, 6, 5, 3, 6, 6, 6, 6, 2, 6, 4, 6, 4, 4, 1, 5, 6, 4, 6, 1, 5, 3, 5, 6, 6, 5, 3, 6, 5, 1, 6, 5, 4, 6, 5, 2, 6, 5, 3, 6, 5, 6, 6, 1, 2, 4, 1, 6, 6, 1, 6, 2, 6, 5, 6, 6, 5, 6, 6, 5, 6, 5, 5, 1, 4, 2, 6, 5, 4, 2, 6, 5, 4, 2, 6, 6, 4, 5, 5, 5, 3, 4, 1, 1, 1, 5, 2, 6, 5, 2, 4, 3, 6, 6, 2, 4, 6, 6, 6, 4, 2, 5, 3, 4, 6, 5, 6, 4, 6, 6, 6, 2, 6, 6, 1, 4, 6, 6, 3, 6, 3, 5, 5, 2, 5, 6, 6, 6, 6, 3, 5, 6, 1, 5, 2, 1, 6, 5, 5, 5, 3, 5, 5, 5, 2, 3, 5, 3, 4, 3, 3, 4, 5, 5, 5, 1, 4, 1, 4, 6, 5, 2, 6, 4, 2, 2, 5, 4, 6, 6, 2, 5, 5, 6, 1, 3, 6, 2, 6, 5, 5, 6, 5, 6, 6, 3, 2, 5, 1, 4, 6, 5, 1, 5, 6, 2, 5, 5, 6, 6, 4, 3, 6, 5, 6, 6, 5, 4, 6, 5, 3, 1, 4, 3, 6, 6, 5, 2, 6, 5, 6, 6, 2, 4, 2, 6, 6, 6, 2, 6, 3, 6, 3, 1, 6, 5, 5, 2, 6, 4, 6, 6, 6, 1, 5, 6, 5, 6, 5, 3, 1, 2, 5, 6, 6, 4, 6, 5, 1, 6, 6, 2, 3, 1, 2, 2, 4, 1, 5, 6, 3, 6, 2, 2, 4, 2, 6, 3, 4, 4, 2, 6, 6, 6, 2, 3, 4, 6, 6, 3, 6, 6, 3, 1, 2, 6, 6, 1, 1, 4, 3, 2, 5, 6, 4, 6, 5, 6, 2, 5, 5, 6, 6, 6, 4, 3, 5, 2, 2, 5, 1, 5, 1, 6, 6, 2, 6, 6, 6, 6, 4, 1, 3, 3, 5, 2, 5, 2, 2, 5, 1, 6, 6, 6, 1, 6, 5, 3, 6, 2, 5, 6, 4, 4, 2, 6, 5, 5, 4, 1, 5, 1, 1, 6, 2, 3, 3, 4, 4, 5, 1, 3, 2, 3, 6, 6, 2, 6, 5, 5, 4, 1, 6, 5, 6, 6, 3, 5, 2, 1, 1, 6, 3, 3, 6, 1, 6, 3, 2, 5, 6, 6, 5, 1, 6, 1, 3, 6, 6, 1, 1, 6, 3, 6, 6, 6, 2, 6, 2, 5, 5, 6, 3, 3, 5, 5, 1, 6, 6, 5, 5, 5, 3, 6, 6, 2, 5, 3, 4, 6, 6, 4, 1, 2, 3, 2, 6, 6, 4]\n"
     ]
    }
   ],
   "source": [
    "# Let's do an experiment throwing the dice 500 times\n",
    "\n",
    "number_of_throws = 500\n",
    "\n",
    "values_dice = []\n",
    "values_cheating_dice = []\n",
    "\n",
    "for i in range(number_of_throws):\n",
    "    values_dice.append(dice())\n",
    "    values_cheating_dice.append(cheating_dice())\n",
    "\n",
    "print(values_cheating_dice)"
   ]
  },
  {
   "cell_type": "markdown",
   "metadata": {},
   "source": [
    "### Sort list"
   ]
  },
  {
   "cell_type": "code",
   "execution_count": 65,
   "metadata": {},
   "outputs": [
    {
     "data": {
      "text/plain": [
       "[2, 3, 5, 6]"
      ]
     },
     "execution_count": 65,
     "metadata": {},
     "output_type": "execute_result"
    }
   ],
   "source": [
    "def sortList(a_list):\n",
    "    copy_list = a_list.copy()\n",
    "    copy_list.sort()\n",
    "    return copy_list\n",
    "my_list = [3, 6, 2, 5]\n",
    "sortList(my_list)"
   ]
  },
  {
   "cell_type": "markdown",
   "metadata": {},
   "source": [
    "## Exercise Calculate Square Root"
   ]
  },
  {
   "cell_type": "code",
   "execution_count": 66,
   "metadata": {},
   "outputs": [
    {
     "name": "stdout",
     "output_type": "stream",
     "text": [
      "49's square root is 7.0.\n"
     ]
    }
   ],
   "source": [
    "import math\n",
    "\n",
    "# Your code goes here\n",
    "import random\n",
    "number = random.randint(1, 100)\n",
    "square_root = math.sqrt(number)\n",
    "\n",
    "print(f\"{number}'s square root is {square_root}.\")"
   ]
  },
  {
   "cell_type": "markdown",
   "metadata": {},
   "source": [
    "## Generate random numbers"
   ]
  },
  {
   "cell_type": "code",
   "execution_count": 67,
   "metadata": {},
   "outputs": [
    {
     "name": "stdout",
     "output_type": "stream",
     "text": [
      "The five randomly chosen numbers are: [5, 3, 1, 6, 2]\n"
     ]
    }
   ],
   "source": [
    "import random\n",
    "\n",
    "# Your code goes here\n",
    "random_number = [random.randint(1,10) for number in range(5)]\n",
    "\n",
    "print(f\"The five randomly chosen numbers are: {random_number}\")"
   ]
  },
  {
   "cell_type": "markdown",
   "metadata": {},
   "source": [
    "## Generate random choices"
   ]
  },
  {
   "cell_type": "code",
   "execution_count": 68,
   "metadata": {},
   "outputs": [
    {
     "name": "stdout",
     "output_type": "stream",
     "text": [
      "Randomly chosen fruit is: cherry\n"
     ]
    }
   ],
   "source": [
    "import random\n",
    "\n",
    "# Your code goes here\n",
    "fruits = [\"apple\", \"banana\", \"orange\", \"peach\", \"cherry\", \"pear\"]\n",
    "random_fruits = random.choice(fruits)\n",
    "\n",
    "print(f\"Randomly chosen fruit is: {random_fruits}\")"
   ]
  },
  {
   "cell_type": "markdown",
   "metadata": {},
   "source": [
    "## Greeting function"
   ]
  },
  {
   "cell_type": "code",
   "execution_count": 69,
   "metadata": {},
   "outputs": [
    {
     "name": "stdout",
     "output_type": "stream",
     "text": [
      "Hello chiaki!\n"
     ]
    }
   ],
   "source": [
    "# Your solution goes here\n",
    "def greet():\n",
    "    name = input(\"What's your name? \")\n",
    "    print(f\"Hello {name}!\")\n",
    "\n",
    "greet()"
   ]
  },
  {
   "cell_type": "markdown",
   "metadata": {},
   "source": [
    "## Area of a Rectangle"
   ]
  },
  {
   "cell_type": "code",
   "execution_count": 70,
   "metadata": {},
   "outputs": [
    {
     "name": "stdout",
     "output_type": "stream",
     "text": [
      "The rectangle's area is: 80.0\n"
     ]
    }
   ],
   "source": [
    "# Your code goes here\n",
    "def rectangle_area():\n",
    "    width = float(input(\"What is the width? \"))\n",
    "    height = float(input(\"What is the height? \"))\n",
    "    area = width * height\n",
    "    print(f\"The rectangle's area is: {area}\")\n",
    "\n",
    "rectangle_area()"
   ]
  },
  {
   "cell_type": "markdown",
   "metadata": {},
   "source": [
    "## Maximum of Three Numbers"
   ]
  },
  {
   "cell_type": "code",
   "execution_count": 72,
   "metadata": {},
   "outputs": [
    {
     "name": "stdout",
     "output_type": "stream",
     "text": [
      "9\n"
     ]
    }
   ],
   "source": [
    "def max_of_three(a,b,c):\n",
    "    return max(a,b,c)\n",
    "\n",
    "print(max_of_three(5,9,2)) # Output is: 9\n"
   ]
  },
  {
   "cell_type": "markdown",
   "metadata": {},
   "source": [
    "# Classes"
   ]
  },
  {
   "cell_type": "markdown",
   "metadata": {},
   "source": [
    "## Let's create a class that defines a user"
   ]
  },
  {
   "cell_type": "code",
   "execution_count": 75,
   "metadata": {},
   "outputs": [
    {
     "data": {
      "text/plain": [
       "__main__.User"
      ]
     },
     "execution_count": 75,
     "metadata": {},
     "output_type": "execute_result"
    }
   ],
   "source": [
    "class User:\n",
    "    pass\n",
    "\n",
    "vegard = User()\n",
    "type(vegard)"
   ]
  },
  {
   "cell_type": "code",
   "execution_count": 76,
   "metadata": {},
   "outputs": [
    {
     "data": {
      "text/plain": [
       "['__add__',\n",
       " '__class__',\n",
       " '__class_getitem__',\n",
       " '__contains__',\n",
       " '__delattr__',\n",
       " '__delitem__',\n",
       " '__dir__',\n",
       " '__doc__',\n",
       " '__eq__',\n",
       " '__format__',\n",
       " '__ge__',\n",
       " '__getattribute__',\n",
       " '__getitem__',\n",
       " '__getstate__',\n",
       " '__gt__',\n",
       " '__hash__',\n",
       " '__iadd__',\n",
       " '__imul__',\n",
       " '__init__',\n",
       " '__init_subclass__',\n",
       " '__iter__',\n",
       " '__le__',\n",
       " '__len__',\n",
       " '__lt__',\n",
       " '__mul__',\n",
       " '__ne__',\n",
       " '__new__',\n",
       " '__reduce__',\n",
       " '__reduce_ex__',\n",
       " '__repr__',\n",
       " '__reversed__',\n",
       " '__rmul__',\n",
       " '__setattr__',\n",
       " '__setitem__',\n",
       " '__sizeof__',\n",
       " '__str__',\n",
       " '__subclasshook__',\n",
       " 'append',\n",
       " 'clear',\n",
       " 'copy',\n",
       " 'count',\n",
       " 'extend',\n",
       " 'index',\n",
       " 'insert',\n",
       " 'pop',\n",
       " 'remove',\n",
       " 'reverse',\n",
       " 'sort']"
      ]
     },
     "execution_count": 76,
     "metadata": {},
     "output_type": "execute_result"
    }
   ],
   "source": [
    "dir(list)"
   ]
  },
  {
   "cell_type": "markdown",
   "metadata": {},
   "source": [
    "## The __init__() method:"
   ]
  },
  {
   "cell_type": "code",
   "execution_count": 82,
   "metadata": {},
   "outputs": [
    {
     "name": "stdout",
     "output_type": "stream",
     "text": [
      "\u001b[1;31mType:\u001b[0m        User\n",
      "\u001b[1;31mString form:\u001b[0m <__main__.User object at 0x0000018755E2D450>\n",
      "\u001b[1;31mDocstring:\u001b[0m   A class for storing information about a user"
     ]
    }
   ],
   "source": [
    "class User:\n",
    "    '''\n",
    "    A class for storing information about a user\n",
    "    '''\n",
    "    \n",
    "    def __init__(self, name):\n",
    "        self.user_name = name\n",
    "\n",
    "c = User(\"chiaki\")\n",
    "c.user_name # To access information\n",
    "\n",
    "# a = User(\"Anne\")\n",
    "# a.user_name\n",
    "\n",
    "# ? shows the type of information\n",
    "c?"
   ]
  },
  {
   "cell_type": "markdown",
   "metadata": {},
   "source": [
    "## Add a password to the user"
   ]
  },
  {
   "cell_type": "code",
   "execution_count": 85,
   "metadata": {},
   "outputs": [
    {
     "name": "stdout",
     "output_type": "stream",
     "text": [
      "The password is set\n"
     ]
    }
   ],
   "source": [
    "class User:\n",
    "    '''\n",
    "    A class for storing information about a user\n",
    "    '''\n",
    "    \n",
    "    def __init__(self, name):\n",
    "        self.user_name = name\n",
    "    \n",
    "    \n",
    "    def set_password(self, passwd):\n",
    "        '''\n",
    "        This method creates a password for the user\n",
    "        '''\n",
    "        \n",
    "        passwd_check = input('Please re-enter the password here: ')\n",
    "        \n",
    "        if passwd == passwd_check:\n",
    "            self.password = passwd\n",
    "            print('The password is set')\n",
    "        else:\n",
    "            print('The password did not match, please try again!')\n",
    "\n",
    "lisa = User(\"lisa\")\n",
    "lisa.set_password(\"12345\")"
   ]
  },
  {
   "cell_type": "code",
   "execution_count": 90,
   "metadata": {},
   "outputs": [],
   "source": [
    "# using the __repr__ (representation) method we can specify how the print function works with our object\n",
    "\n",
    "class User:\n",
    "    '''\n",
    "    A class for storing information about a user\n",
    "    '''\n",
    "    \n",
    "    def __init__(self, name):\n",
    "        self.user_name = name\n",
    "        \n",
    "    def __repr__(self):\n",
    "        return f'Not implemented'\n",
    "    \n",
    "    \n",
    "    def set_password(self, passwd):\n",
    "        '''\n",
    "        This method creates a password for the user\n",
    "        '''\n",
    "        \n",
    "        passwd_check = input('Please re-enter the password here: ')\n",
    "        \n",
    "        if passwd == passwd_check:\n",
    "            self.password = passwd\n",
    "            print('The password is set')\n",
    "        else:\n",
    "            print('The passwords did not match, please try again!')"
   ]
  },
  {
   "cell_type": "code",
   "execution_count": 92,
   "metadata": {},
   "outputs": [
    {
     "data": {
      "text/plain": [
       "'testing'"
      ]
     },
     "execution_count": 92,
     "metadata": {},
     "output_type": "execute_result"
    }
   ],
   "source": [
    "a_string = \"test\"\n",
    "b_string = \"ing\"\n",
    "a_string.__add__(b_string)\n"
   ]
  },
  {
   "cell_type": "code",
   "execution_count": 93,
   "metadata": {},
   "outputs": [
    {
     "name": "stdout",
     "output_type": "stream",
     "text": [
      "\u001b[1;31mSignature:\u001b[0m      \u001b[0ma_string\u001b[0m\u001b[1;33m.\u001b[0m\u001b[0m__add__\u001b[0m\u001b[1;33m(\u001b[0m\u001b[0mvalue\u001b[0m\u001b[1;33m,\u001b[0m \u001b[1;33m/\u001b[0m\u001b[1;33m)\u001b[0m\u001b[1;33m\u001b[0m\u001b[1;33m\u001b[0m\u001b[0m\n",
      "\u001b[1;31mCall signature:\u001b[0m \u001b[0ma_string\u001b[0m\u001b[1;33m.\u001b[0m\u001b[0m__add__\u001b[0m\u001b[1;33m(\u001b[0m\u001b[1;33m*\u001b[0m\u001b[0margs\u001b[0m\u001b[1;33m,\u001b[0m \u001b[1;33m**\u001b[0m\u001b[0mkwargs\u001b[0m\u001b[1;33m)\u001b[0m\u001b[1;33m\u001b[0m\u001b[1;33m\u001b[0m\u001b[0m\n",
      "\u001b[1;31mType:\u001b[0m           method-wrapper\n",
      "\u001b[1;31mString form:\u001b[0m    <method-wrapper '__add__' of str object at 0x00000187504662B0>\n",
      "\u001b[1;31mDocstring:\u001b[0m      Return self+value."
     ]
    }
   ],
   "source": [
    "a_string.__add__?"
   ]
  }
 ],
 "metadata": {
  "kernelspec": {
   "display_name": "Python 3",
   "language": "python",
   "name": "python3"
  },
  "language_info": {
   "codemirror_mode": {
    "name": "ipython",
    "version": 3
   },
   "file_extension": ".py",
   "mimetype": "text/x-python",
   "name": "python",
   "nbconvert_exporter": "python",
   "pygments_lexer": "ipython3",
   "version": "3.11.2"
  },
  "orig_nbformat": 4
 },
 "nbformat": 4,
 "nbformat_minor": 2
}
