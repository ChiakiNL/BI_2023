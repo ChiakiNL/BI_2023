{
 "cells": [
  {
   "cell_type": "markdown",
   "metadata": {},
   "source": [
    "## Command-promt/terminal/system-commands\n",
    "\n",
    "- `pwd` is a command that can be used to print the directory where you are currently standing\n",
    "- `ls` lists the content of the working directory\n",
    "- `less` show the content of a file\n",
    "\n",
    "**Note:** *These commands are not Python code but 'system'-commands. You may have to run them in a code cell with no other input on the first line in the cell. You can run all types of 'system'-commands if you start a line with the !-symbol. Windows and Unix have different system commands, but some standard Unix commands like 'pwd', 'ls' and 'less' is built into the Jupyter Notebook.*"
   ]
  },
  {
   "cell_type": "markdown",
   "metadata": {},
   "source": [
    "### The built in function `open()`\n",
    "\n",
    "- Open a file and return a corresponding file object that allow us to iteract with the content in the file\n",
    "- Syntax: `f = open('file', mode='rt')`\n",
    "- Some possible values of mode:\n",
    "    - `w` - open for writing\n",
    "    - `r` - open for reading (default)\n",
    "    - `b` - binary mode\n",
    "    - `t` - text mode (default)"
   ]
  },
  {
   "cell_type": "code",
   "execution_count": 1,
   "metadata": {},
   "outputs": [
    {
     "data": {
      "text/plain": [
       "'c:\\\\Users\\\\Chiaki Nishihara\\\\Documents\\\\GitHub\\\\Note\\\\EDI3400_PD\\\\W05_Opening_and_Writing_to_Files'"
      ]
     },
     "execution_count": 1,
     "metadata": {},
     "output_type": "execute_result"
    }
   ],
   "source": [
    "pwd"
   ]
  },
  {
   "cell_type": "code",
   "execution_count": 5,
   "metadata": {},
   "outputs": [
    {
     "name": "stdout",
     "output_type": "stream",
     "text": [
      " Volume in drive C has no label.\n",
      " Volume Serial Number is 38B3-95C4\n",
      "\n",
      " Directory of c:\\Users\\Chiaki Nishihara\\Documents\\GitHub\\Note\\EDI3400_PD\\W05_Opening_and_Writing_to_Files\n",
      "\n",
      "09/20/2023  12:21 PM    <DIR>          .\n",
      "09/20/2023  12:21 PM    <DIR>          ..\n",
      "09/20/2023  12:25 PM                54 test1.txt\n",
      "09/20/2023  12:41 PM               224 testscript.py\n",
      "09/20/2023  12:21 PM                22 user_info.txt\n",
      "09/20/2023  01:11 PM             5,778 W05_Opening_and_Writing_to_Files.ipynb\n",
      "               4 File(s)          6,078 bytes\n",
      "               2 Dir(s)  65,859,203,072 bytes free\n"
     ]
    }
   ],
   "source": [
    "ls"
   ]
  },
  {
   "cell_type": "code",
   "execution_count": 6,
   "metadata": {},
   "outputs": [
    {
     "name": "stdout",
     "output_type": "stream",
     "text": [
      "Hello, my name is Chiaki"
     ]
    }
   ],
   "source": [
    "less test1.txt"
   ]
  },
  {
   "cell_type": "code",
   "execution_count": 11,
   "metadata": {},
   "outputs": [
    {
     "name": "stdout",
     "output_type": "stream",
     "text": [
      "Hi, this is from test script\n"
     ]
    }
   ],
   "source": [
    "!python testscript.py"
   ]
  },
  {
   "cell_type": "markdown",
   "metadata": {},
   "source": [
    "### Let's open `test1.txt`"
   ]
  },
  {
   "cell_type": "code",
   "execution_count": 17,
   "metadata": {},
   "outputs": [
    {
     "data": {
      "text/plain": [
       "['Hello, my name is Chiaki\\n', 'Line2\\n', 'Line3\\n', 'Line4\\n', 'Line5\\n']"
      ]
     },
     "execution_count": 17,
     "metadata": {},
     "output_type": "execute_result"
    }
   ],
   "source": [
    "reader = open(\"test1.txt\")  \n",
    "\n",
    "# Read all the lines of test1-file at the same time\n",
    "\n",
    "text_of_test1 = reader.readlines()\n",
    "\n",
    "# Print the first five lines of test1-file\n",
    "\n",
    "text_of_test1[0:5]"
   ]
  },
  {
   "cell_type": "markdown",
   "metadata": {},
   "source": [
    "### Close the file"
   ]
  },
  {
   "cell_type": "code",
   "execution_count": 16,
   "metadata": {},
   "outputs": [],
   "source": [
    "# Make sure that the file is closed, even if something crashes\n",
    "\n",
    "reader2 = open('test1.txt')\n",
    "try:\n",
    "    text_test1_2 = reader2.readlines()\n",
    "except:\n",
    "    print('Something went wrong!')\n",
    "finally:\n",
    "    reader2.close()"
   ]
  },
  {
   "cell_type": "markdown",
   "metadata": {},
   "source": [
    "### Using \"with\" method and always close the opened file :)"
   ]
  },
  {
   "cell_type": "code",
   "execution_count": 2,
   "metadata": {},
   "outputs": [
    {
     "name": "stdout",
     "output_type": "stream",
     "text": [
      "Hello, my name is Chiaki\n",
      "I hope you manage to see this text file.\n"
     ]
    }
   ],
   "source": [
    "with open(\"test1.txt\") as file:\n",
    "    contents = file.read()\n",
    "    print(contents)"
   ]
  },
  {
   "cell_type": "markdown",
   "metadata": {},
   "source": [
    "### Add a new text in the existing file\n",
    "mode = \"a\" means append\n",
    "\n",
    "mode = \"w\" means write (delete the existing text and rewrite)"
   ]
  },
  {
   "cell_type": "code",
   "execution_count": 24,
   "metadata": {},
   "outputs": [],
   "source": [
    "with open(\"test1.txt\", mode = \"a\") as file:\n",
    "    file.write(\"\\nI am adding a new line again\") # Adding \\n (改行)自由選択"
   ]
  },
  {
   "cell_type": "markdown",
   "metadata": {},
   "source": [
    "### How to delete the previous line"
   ]
  },
  {
   "cell_type": "code",
   "execution_count": 28,
   "metadata": {},
   "outputs": [],
   "source": [
    "# Open the file in read mode and read its contents into a list\n",
    "with open(\"test1.txt\", mode=\"r\") as file:\n",
    "    lines = file.readlines()\n",
    "\n",
    "# Remove the last line (the one you want to delete) pop = delete\n",
    "lines.pop()\n",
    "\n",
    "# Open the file again in write mode to truncate and rewrite its contents\n",
    "with open(\"test1.txt\", mode=\"w\") as file:\n",
    "    # Write the remaining lines back to the file\n",
    "    file.writelines(lines)"
   ]
  },
  {
   "cell_type": "markdown",
   "metadata": {},
   "source": [
    "## Exercise 1: Write to File\n",
    "Objective: Write a Python program that asks the user for their name and age, and then writes this information to a text file called user_info.txt.\n",
    "\n",
    "Example Output in user_info.txt:\n",
    "\n",
    "Name: Alice\n",
    "\n",
    "Age: 30"
   ]
  },
  {
   "cell_type": "code",
   "execution_count": 32,
   "metadata": {},
   "outputs": [
    {
     "name": "stdout",
     "output_type": "stream",
     "text": [
      "Name: Chiaki\n",
      "Age: 27 \n"
     ]
    }
   ],
   "source": [
    "user_name = str(input(\"What is your name? \"))\n",
    "user_age = int(input(\"What is your age? \"))\n",
    "\n",
    "with open(\"user_info.txt\", mode = \"w\") as file:\n",
    "    file.write(f\"Name: {user_name}\\nAge: {user_age} \")\n",
    "\n",
    "with open(\"user_info.txt\") as file:\n",
    "    contents = file.read()\n",
    "    print(contents)"
   ]
  },
  {
   "cell_type": "markdown",
   "metadata": {},
   "source": [
    "## Exercise 2: Read and Append\n",
    "Objective: Write a Python program that reads a text file called numbers.txt which contains a list of numbers, one per line. Your program should calculate the sum of these numbers and append the result to the same file.\n",
    "\n",
    "Example Content of numbers.txt Before Running the Program:\n",
    "\n",
    "5\n",
    "\n",
    "10\n",
    "\n",
    "15\n",
    "\n",
    "Example Content of numbers.txt After Running the Program:\n",
    "\n",
    "5\n",
    "\n",
    "10\n",
    "\n",
    "15\n",
    "\n",
    "Sum: 30"
   ]
  },
  {
   "cell_type": "code",
   "execution_count": null,
   "metadata": {},
   "outputs": [],
   "source": [
    "# ファイルから読み取った各行に対してループを実行します\n",
    "for line in lines:\n",
    "    try:\n",
    "        # 行を整数に変換し、その整数を合計に加えます\n",
    "        number = int(line.strip())\n",
    "        total += number\n",
    "    except ValueError:\n",
    "        # 整数に変換できない場合（非数値の文字が含まれている場合）は、例外が発生し、この部分のコードが実行されます\n",
    "        print(f\"Skipping invalid line: {line.strip()}\")"
   ]
  },
  {
   "cell_type": "markdown",
   "metadata": {},
   "source": [
    "### 具体的な役割:\n",
    "\n",
    "- for line in lines: ループは、テキストファイルから読み取った各行に対して繰り返し処理を行います。\n",
    "\n",
    "- int(line.strip()) の部分は、各行を文字列から整数に変換しています。line.strip() は、行の前後の余分な空白文字（改行文字など）を削除してから、その文字列を整数に変換します。これにより、各行が数値として正しく扱われます。\n",
    "\n",
    "- total += number は、変換した整数を合計に加算しています。このようにして、各行の数値が累積され、最終的に合計が計算されます。\n",
    "\n",
    "- except ValueError: ブロックは、整数に変換できない場合、つまり行に数値でない文字が含まれている場合に実行されます。この場合、その行は無効と見なされ、エラーメッセージが表示されてスキップされます。\n",
    "\n",
    "### open 関数 r+\n",
    "ファイルのオープンモードを指定しています。このモードは、ファイルを読み込み（\"r\"）および書き込み（\"+\"）の両方の目的で開くことを意味します。"
   ]
  },
  {
   "cell_type": "code",
   "execution_count": 28,
   "metadata": {},
   "outputs": [
    {
     "name": "stdout",
     "output_type": "stream",
     "text": [
      "Skipping invalid line: Sum: 30\n"
     ]
    }
   ],
   "source": [
    "# Open the file for reading and writing ('r+' mode)\n",
    "with open(\"numbers.txt\", \"r+\") as file:\n",
    "    # Read the contents of the file into a list of strings\n",
    "    lines = file.readlines()\n",
    "\n",
    "    # Initialize a variable to store the sum of numbers\n",
    "    total = 0\n",
    "\n",
    "    # Iterate through the lines in the file\n",
    "    for line in lines:\n",
    "        try:\n",
    "            # Convert the line to an integer and add it to the total\n",
    "            number = int(line.strip())\n",
    "            total += number\n",
    "        except ValueError:\n",
    "            # Handle the case where a line is not a valid integer\n",
    "            print(f\"Cannot convert into integer: {line.strip()}\")\n",
    "\n",
    "    # Append the sum to the end of the file\n",
    "    file.write(f\"\\nSum: {total}\")\n",
    "\n",
    "# Close the file\n",
    "file.close()"
   ]
  },
  {
   "cell_type": "markdown",
   "metadata": {},
   "source": [
    "## Read a CSV (Comma Separated Values) file:"
   ]
  }
 ],
 "metadata": {
  "kernelspec": {
   "display_name": "Python 3",
   "language": "python",
   "name": "python3"
  },
  "language_info": {
   "codemirror_mode": {
    "name": "ipython",
    "version": 3
   },
   "file_extension": ".py",
   "mimetype": "text/x-python",
   "name": "python",
   "nbconvert_exporter": "python",
   "pygments_lexer": "ipython3",
   "version": "3.11.2"
  },
  "orig_nbformat": 4
 },
 "nbformat": 4,
 "nbformat_minor": 2
}
