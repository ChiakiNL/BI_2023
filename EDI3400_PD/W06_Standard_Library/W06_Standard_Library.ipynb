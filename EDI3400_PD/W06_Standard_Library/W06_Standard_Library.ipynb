{
 "cells": [
  {
   "cell_type": "markdown",
   "metadata": {},
   "source": [
    "# Week06 The Standard Library, Functions and Classes"
   ]
  },
  {
   "cell_type": "code",
   "execution_count": 2,
   "metadata": {},
   "outputs": [
    {
     "name": "stdout",
     "output_type": "stream",
     "text": [
      "-1.0\n",
      "1.0\n"
     ]
    }
   ],
   "source": [
    "# Print out  cos(2*pi) and the log_e(e^5) = ln(e^5)\n",
    "\n",
    "import math\n",
    "\n",
    "print(math.cos(3*math.pi)) # Function\n",
    "print(math.log(math.e))"
   ]
  },
  {
   "cell_type": "code",
   "execution_count": 3,
   "metadata": {},
   "outputs": [
    {
     "data": {
      "text/plain": [
       "2.718281828459045"
      ]
     },
     "execution_count": 3,
     "metadata": {},
     "output_type": "execute_result"
    }
   ],
   "source": [
    "math.e"
   ]
  },
  {
   "cell_type": "code",
   "execution_count": 6,
   "metadata": {},
   "outputs": [
    {
     "data": {
      "text/plain": [
       "'Oslo'"
      ]
     },
     "execution_count": 6,
     "metadata": {},
     "output_type": "execute_result"
    }
   ],
   "source": [
    "# Pick a random Norwegian city\n",
    "# Print one element from choices\n",
    "\n",
    "import random\n",
    "random.choice(['Oslo', 'Bergen', 'Trondheim', 'Stavanger', 'Tromsø'])"
   ]
  },
  {
   "cell_type": "code",
   "execution_count": 27,
   "metadata": {},
   "outputs": [
    {
     "name": "stdout",
     "output_type": "stream",
     "text": [
      "2002-12-31\n",
      "2002-12-27\n"
     ]
    }
   ],
   "source": [
    "# A date corresponding to a date_string given in the format YYYY-MM-DD\n",
    "\n",
    "from datetime import date\n",
    "d = date(2002, 12, 31)\n",
    "print(d)\n",
    "print(d.replace(day = 27))"
   ]
  },
  {
   "cell_type": "code",
   "execution_count": 32,
   "metadata": {},
   "outputs": [
    {
     "data": {
      "text/plain": [
       "'vegard.h.larsen@bi.no'"
      ]
     },
     "execution_count": 32,
     "metadata": {},
     "output_type": "execute_result"
    }
   ],
   "source": [
    "# Clean up a string\n",
    "\n",
    "import re\n",
    "email = \"vegard.hRemove_this.larsen@bi.no\"\n",
    "m = re.search(\"Remove_this\", email)\n",
    "email[:m.start()] + email[m.end():]\n"
   ]
  },
  {
   "cell_type": "markdown",
   "metadata": {},
   "source": [
    "\n",
    "- email[:m.start()]: この部分は、email 文字列の始まりから一致 m の開始インデックスまでの文字を抽出します。この場合、テキスト \"Remove_this\" の前にある email 文字列全体をキャプチャします。\n",
    "- email[m.end():]: この部分は、一致 m の終了インデックスから email 文字列の最後までの文字を抽出します。テキスト \"Remove_this\" の後にある email 文字列全体をキャプチャします。\n",
    "\n",
    "このコードの目的は、email 文字列からテキスト \"Remove_this\" を削除することです。これは、実質的にemail 文字列を \"Remove_this\" テキストの位置で二つに分割し、それらを再び連結することによって行われます。その結果、\"Remove_this\" が削除されたクリーンなメールアドレスが得られます。"
   ]
  },
  {
   "cell_type": "code",
   "execution_count": 31,
   "metadata": {},
   "outputs": [
    {
     "name": "stdout",
     "output_type": "stream",
     "text": [
      "3.5\n"
     ]
    }
   ],
   "source": [
    "# Calculate the mean of a list\n",
    "\n",
    "import statistics\n",
    "print(statistics.mean([1, 2, 3, 4, 5, 6]))"
   ]
  },
  {
   "cell_type": "markdown",
   "metadata": {},
   "source": [
    "### Recipe for creating a function:\n",
    "1. The function must be created using the `def` keyword.\n",
    "2. Select a name for the function. \n",
    "    - Use a name that describes what the function does\n",
    "3. Select the parameters that will be the inputs to the function. It is possible to create a function with no parameters.\n",
    "4. Write the code that make the function do what we want\n",
    "    - Note that variables defined within a function body is not available outside the function\n",
    "5. End the function with the `return` keyword to return the output. This is optional. The function will return None if the `return` keyword is skipped."
   ]
  },
  {
   "cell_type": "code",
   "execution_count": 39,
   "metadata": {},
   "outputs": [
    {
     "name": "stdout",
     "output_type": "stream",
     "text": [
      "HELLO!!\n"
     ]
    },
    {
     "data": {
      "text/plain": [
       "'Hello'"
      ]
     },
     "execution_count": 39,
     "metadata": {},
     "output_type": "execute_result"
    }
   ],
   "source": [
    "def scream(string):\n",
    "    print(string.upper() + '!!')\n",
    "    return(string.capitalize())\n",
    "\n",
    "scream(\"Hello\")\n",
    "# In jupyter note, the original code is printed"
   ]
  },
  {
   "cell_type": "code",
   "execution_count": 37,
   "metadata": {},
   "outputs": [
    {
     "name": "stdout",
     "output_type": "stream",
     "text": [
      "HI!!\n"
     ]
    }
   ],
   "source": [
    "value = scream(\"Hi\")"
   ]
  },
  {
   "cell_type": "code",
   "execution_count": 40,
   "metadata": {},
   "outputs": [
    {
     "data": {
      "text/plain": [
       "'Hi'"
      ]
     },
     "execution_count": 40,
     "metadata": {},
     "output_type": "execute_result"
    }
   ],
   "source": [
    "value"
   ]
  },
  {
   "cell_type": "markdown",
   "metadata": {},
   "source": [
    "# Example of a function that converts Fahrenheit to Celsius (and Kelvin)"
   ]
  },
  {
   "cell_type": "code",
   "execution_count": 42,
   "metadata": {},
   "outputs": [],
   "source": [
    "# A function that converts a temperature given in Fahrenheit to Celsius\n",
    "\n",
    "def fahrenheit2celsius(fahrenheit):\n",
    "    celsius = (5 / 9) * (fahrenheit - 32)\n",
    "    return celsius"
   ]
  },
  {
   "cell_type": "code",
   "execution_count": 44,
   "metadata": {},
   "outputs": [
    {
     "data": {
      "text/plain": [
       "26.666666666666668"
      ]
     },
     "execution_count": 44,
     "metadata": {},
     "output_type": "execute_result"
    }
   ],
   "source": [
    "fahrenheit2celsius(80)"
   ]
  },
  {
   "cell_type": "code",
   "execution_count": 45,
   "metadata": {},
   "outputs": [],
   "source": [
    "# A function that converts Fahrenheit to Kelvin\n",
    "\n",
    "def fahrenheit2kelvin(fahrenheit):\n",
    "    kelvin = 273.15 + fahrenheit2celsius(fahrenheit)\n",
    "    return(kelvin)"
   ]
  },
  {
   "cell_type": "code",
   "execution_count": 46,
   "metadata": {},
   "outputs": [
    {
     "data": {
      "text/plain": [
       "269.26111111111106"
      ]
     },
     "execution_count": 46,
     "metadata": {},
     "output_type": "execute_result"
    }
   ],
   "source": [
    "fahrenheit2kelvin(25)"
   ]
  },
  {
   "cell_type": "markdown",
   "metadata": {},
   "source": [
    "## Make a function that behaves like a dice"
   ]
  },
  {
   "cell_type": "code",
   "execution_count": 54,
   "metadata": {},
   "outputs": [],
   "source": [
    "# The probability of getting a 6 using a fair dice is 1/6=0.16666666...\n",
    "\n",
    "import random\n",
    "\n",
    "def dice():\n",
    "    dice_value = random.choice([1, 2, 3, 4, 5, 6])\n",
    "    return(dice_value)\n",
    "\n",
    "# print(values_dice_value)"
   ]
  },
  {
   "cell_type": "code",
   "execution_count": 48,
   "metadata": {},
   "outputs": [
    {
     "data": {
      "text/plain": [
       "5"
      ]
     },
     "execution_count": 48,
     "metadata": {},
     "output_type": "execute_result"
    }
   ],
   "source": [
    "# Throw a dice\n",
    "\n",
    "dice()"
   ]
  },
  {
   "cell_type": "code",
   "execution_count": 53,
   "metadata": {},
   "outputs": [],
   "source": [
    "# The probability of getting a 6 using the cheating dice is 3/9=0.333333.. \n",
    "\n",
    "def cheating_dice():\n",
    "    dice_value = random.choice([1, 2, 3, 4, 5, 5, 6, 6, 6])\n",
    "    return(dice_value)"
   ]
  },
  {
   "cell_type": "code",
   "execution_count": 59,
   "metadata": {},
   "outputs": [
    {
     "name": "stdout",
     "output_type": "stream",
     "text": [
      "[6, 5, 6, 6, 4, 2, 6, 5, 5, 6, 5, 6, 4, 5, 4, 5, 4, 3, 4, 6, 2, 3, 6, 5, 5, 5, 1, 6, 5, 6, 5, 5, 2, 5, 4, 1, 5, 4, 5, 2, 6, 3, 2, 6, 6, 6, 6, 4, 4, 4, 3, 6, 6, 5, 3, 6, 6, 6, 6, 2, 6, 4, 6, 4, 4, 1, 5, 6, 4, 6, 1, 5, 3, 5, 6, 6, 5, 3, 6, 5, 1, 6, 5, 4, 6, 5, 2, 6, 5, 3, 6, 5, 6, 6, 1, 2, 4, 1, 6, 6, 1, 6, 2, 6, 5, 6, 6, 5, 6, 6, 5, 6, 5, 5, 1, 4, 2, 6, 5, 4, 2, 6, 5, 4, 2, 6, 6, 4, 5, 5, 5, 3, 4, 1, 1, 1, 5, 2, 6, 5, 2, 4, 3, 6, 6, 2, 4, 6, 6, 6, 4, 2, 5, 3, 4, 6, 5, 6, 4, 6, 6, 6, 2, 6, 6, 1, 4, 6, 6, 3, 6, 3, 5, 5, 2, 5, 6, 6, 6, 6, 3, 5, 6, 1, 5, 2, 1, 6, 5, 5, 5, 3, 5, 5, 5, 2, 3, 5, 3, 4, 3, 3, 4, 5, 5, 5, 1, 4, 1, 4, 6, 5, 2, 6, 4, 2, 2, 5, 4, 6, 6, 2, 5, 5, 6, 1, 3, 6, 2, 6, 5, 5, 6, 5, 6, 6, 3, 2, 5, 1, 4, 6, 5, 1, 5, 6, 2, 5, 5, 6, 6, 4, 3, 6, 5, 6, 6, 5, 4, 6, 5, 3, 1, 4, 3, 6, 6, 5, 2, 6, 5, 6, 6, 2, 4, 2, 6, 6, 6, 2, 6, 3, 6, 3, 1, 6, 5, 5, 2, 6, 4, 6, 6, 6, 1, 5, 6, 5, 6, 5, 3, 1, 2, 5, 6, 6, 4, 6, 5, 1, 6, 6, 2, 3, 1, 2, 2, 4, 1, 5, 6, 3, 6, 2, 2, 4, 2, 6, 3, 4, 4, 2, 6, 6, 6, 2, 3, 4, 6, 6, 3, 6, 6, 3, 1, 2, 6, 6, 1, 1, 4, 3, 2, 5, 6, 4, 6, 5, 6, 2, 5, 5, 6, 6, 6, 4, 3, 5, 2, 2, 5, 1, 5, 1, 6, 6, 2, 6, 6, 6, 6, 4, 1, 3, 3, 5, 2, 5, 2, 2, 5, 1, 6, 6, 6, 1, 6, 5, 3, 6, 2, 5, 6, 4, 4, 2, 6, 5, 5, 4, 1, 5, 1, 1, 6, 2, 3, 3, 4, 4, 5, 1, 3, 2, 3, 6, 6, 2, 6, 5, 5, 4, 1, 6, 5, 6, 6, 3, 5, 2, 1, 1, 6, 3, 3, 6, 1, 6, 3, 2, 5, 6, 6, 5, 1, 6, 1, 3, 6, 6, 1, 1, 6, 3, 6, 6, 6, 2, 6, 2, 5, 5, 6, 3, 3, 5, 5, 1, 6, 6, 5, 5, 5, 3, 6, 6, 2, 5, 3, 4, 6, 6, 4, 1, 2, 3, 2, 6, 6, 4]\n"
     ]
    }
   ],
   "source": [
    "# Let's do an experiment throwing the dice 500 times\n",
    "\n",
    "number_of_throws = 500\n",
    "\n",
    "values_dice = []\n",
    "values_cheating_dice = []\n",
    "\n",
    "for i in range(number_of_throws):\n",
    "    values_dice.append(dice())\n",
    "    values_cheating_dice.append(cheating_dice())\n",
    "\n",
    "print(values_cheating_dice)"
   ]
  },
  {
   "cell_type": "markdown",
   "metadata": {},
   "source": [
    "### Sort list"
   ]
  },
  {
   "cell_type": "code",
   "execution_count": 65,
   "metadata": {},
   "outputs": [
    {
     "data": {
      "text/plain": [
       "[2, 3, 5, 6]"
      ]
     },
     "execution_count": 65,
     "metadata": {},
     "output_type": "execute_result"
    }
   ],
   "source": [
    "def sortList(a_list):\n",
    "    copy_list = a_list.copy()\n",
    "    copy_list.sort()\n",
    "    return copy_list\n",
    "my_list = [3, 6, 2, 5]\n",
    "sortList(my_list)"
   ]
  }
 ],
 "metadata": {
  "kernelspec": {
   "display_name": "Python 3",
   "language": "python",
   "name": "python3"
  },
  "language_info": {
   "codemirror_mode": {
    "name": "ipython",
    "version": 3
   },
   "file_extension": ".py",
   "mimetype": "text/x-python",
   "name": "python",
   "nbconvert_exporter": "python",
   "pygments_lexer": "ipython3",
   "version": "3.11.2"
  },
  "orig_nbformat": 4
 },
 "nbformat": 4,
 "nbformat_minor": 2
}
