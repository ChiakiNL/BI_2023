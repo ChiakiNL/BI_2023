{
 "cells": [
  {
   "cell_type": "markdown",
   "metadata": {},
   "source": [
    "# Problem Set 3: Core Python topics\n",
    "\n",
    "## Topics covered:\n",
    "\n",
    "1. Loops and flow control \n",
    "2. Opening and writing to files \n",
    "3. The standard library \n",
    "4. Functions\n",
    "5. Object-oriented programming"
   ]
  },
  {
   "cell_type": "markdown",
   "metadata": {},
   "source": [
    "## Topic 1: Loops and Flow Control\n",
    "\n",
    "### Task 1.1: *Odd or Even?*\n",
    "Ask the user for a number and create a function that determines if the number is odd or even. Print out whether the number is odd or even."
   ]
  },
  {
   "cell_type": "code",
   "execution_count": 2,
   "metadata": {},
   "outputs": [
    {
     "name": "stdout",
     "output_type": "stream",
     "text": [
      "This is an odd number.\n"
     ]
    }
   ],
   "source": [
    "# My code\n",
    "# Your code here.\n",
    "user_input = int(input(\"Type any number as integer.\"))\n",
    "if user_input % 2 != 0:\n",
    "    print(\"This is an odd number.\")\n",
    "else:\n",
    "    print(\"This is an even number.\")\n"
   ]
  },
  {
   "cell_type": "code",
   "execution_count": null,
   "metadata": {},
   "outputs": [],
   "source": [
    "# Answer\n",
    "\n",
    "user_input = input(\"Enter a number: \")\n",
    "\n",
    "def is_odd(num):\n",
    "    return num % 2 != 0\n",
    "\n",
    "print(is_odd(int(user_input))) \n",
    "print(is_odd(5))  # Output: True\n",
    "print(is_odd(4))  # Output: False"
   ]
  },
  {
   "cell_type": "markdown",
   "metadata": {},
   "source": [
    "### Task 1.2: Number Pyramid\n",
    "Write a program that prints a pyramid of numbers as follows (for 4 levels):\n",
    "\n",
    "```\n",
    "   1\n",
    "  121\n",
    " 12321\n",
    "1234321\n",
    "```\n",
    "\n",
    "Complication: Make the number of levels a user input (between 1 and 10)."
   ]
  },
  {
   "cell_type": "code",
   "execution_count": 2,
   "metadata": {},
   "outputs": [
    {
     "name": "stdout",
     "output_type": "stream",
     "text": [
      "Welcome to pyramid builder.\n",
      "      1\n",
      "     123\n",
      "    12345\n",
      "   1234567\n",
      "I hope you enjoyed!\n"
     ]
    }
   ],
   "source": [
    "# My code\n",
    "print(\"Welcome to pyramid builder.\")\n",
    "level1 = input(\"Type only one digit number: \")\n",
    "level2 = input(\"Type three digits numbers: \")\n",
    "level3 = input(\"Type five digits numbers: \")\n",
    "level4 = input(\"Lastly, give me seven digits numbers: \")\n",
    "\n",
    "print(f\"{' ' * 6}{level1}\")\n",
    "print(f\"{' ' * 5}{level2}\")\n",
    "print(f\"{' ' * 4}{level3}\")\n",
    "print(f\"{' ' * 3}{level4}\")\n",
    "print(\"I hope you enjoyed!\")"
   ]
  },
  {
   "cell_type": "code",
   "execution_count": 1,
   "metadata": {},
   "outputs": [
    {
     "name": "stdout",
     "output_type": "stream",
     "text": [
      "   1\n",
      "  121\n",
      " 12321\n",
      "1234321\n"
     ]
    }
   ],
   "source": [
    "# Answer\n",
    "\n",
    "levels = 4\n",
    "#levels = int(input(\"Enter a number between 1 and 10: \"))\n",
    "\n",
    "for i in range(1, levels + 1):\n",
    "    print(\" \" * (levels - i), end=\"\")\n",
    "    for j in range(1, i + 1):\n",
    "        print(j, end=\"\")\n",
    "    for j in range(i - 1, 0, -1):\n",
    "        print(j, end=\"\")\n",
    "    print()\n"
   ]
  },
  {
   "cell_type": "markdown",
   "metadata": {},
   "source": [
    "### Task 1.3: *List Comprehensions*\n",
    "Use a list comprehension to create a list that contains all the numbers between 1 and 50 that are divisible by 3.\n",
    "\n",
    "\n",
    "The output should look like this:\n",
    "```\n",
    "[3, 6, 9, 12, 15, 18, 21, 24, 27, 30, 33, 36, 39, 42, 45, 48]\n",
    "```"
   ]
  },
  {
   "cell_type": "code",
   "execution_count": 2,
   "metadata": {},
   "outputs": [
    {
     "name": "stdout",
     "output_type": "stream",
     "text": [
      "[3, 6, 9, 12, 15, 18, 21, 24, 27, 30, 33, 36, 39, 42, 45, 48]\n"
     ]
    }
   ],
   "source": [
    "# My code\n",
    "# Your code here.\n",
    "divisible_3_list = [n for n in range (1, 51) if n % 3 == 0]\n",
    "print(divisible_3_list)"
   ]
  },
  {
   "cell_type": "code",
   "execution_count": null,
   "metadata": {},
   "outputs": [],
   "source": [
    "# Answer\n",
    "\n",
    "divisible_by_three = [x for x in range(1, 51) if x % 3 == 0]\n",
    "print(divisible_by_three)"
   ]
  },
  {
   "cell_type": "markdown",
   "metadata": {},
   "source": [
    "### Task 1.4: Guessing Game\n",
    "Write a program that randomly selects a number between 1 and 10 and asks the user to guess it. The program should give feedback if the guess is too high, too low, or correct."
   ]
  },
  {
   "cell_type": "code",
   "execution_count": 2,
   "metadata": {},
   "outputs": [
    {
     "name": "stdout",
     "output_type": "stream",
     "text": [
      "Hint: Too low. Try again :)\n",
      "Hint: Too high. Try again!\n",
      "Hint: Too high. Try again!\n",
      "Hint: Too low. Try again :)\n",
      "Hint: Too low. Try again :)\n",
      "Congrats! You guessed the correct number!\n"
     ]
    }
   ],
   "source": [
    "# My code\n",
    "import random\n",
    "random_number = random.randint(1, 100)\n",
    "\n",
    "user_guess = None\n",
    "\n",
    "while user_guess != random_number:\n",
    "    try:\n",
    "        user_guess = int(input(\"Guess a number between 1 and 100: \"))\n",
    "    except ValueError:\n",
    "        print(\"Invalid type. Could you try again?\")\n",
    "        continue\n",
    "    \n",
    "    if user_guess > random_number:\n",
    "        print(\"Hint: Too high. Try again!\")\n",
    "    elif user_guess < random_number:\n",
    "        print(\"Hint: Too low. Try again :)\")\n",
    "    elif user_guess == random_number:\n",
    "        print(\"Congrats! You guessed the correct number!\")"
   ]
  },
  {
   "cell_type": "code",
   "execution_count": 4,
   "metadata": {},
   "outputs": [
    {
     "name": "stdout",
     "output_type": "stream",
     "text": [
      "Too high!\n",
      "Too high!\n"
     ]
    }
   ],
   "source": [
    "# Answer\n",
    "\n",
    "import random\n",
    "\n",
    "number = random.randint(1, 10)\n",
    "guess = int(input(\"Guess a number between 1 and 10: \"))\n",
    "\n",
    "while guess != number:\n",
    "    if guess < number:\n",
    "        print(\"Too low!\")\n",
    "    else:\n",
    "        print(\"Too high!\")\n",
    "    guess = int(input(\"Try again: \"))\n",
    "\n",
    "print(\"Congratulations! You guessed it!\")"
   ]
  },
  {
   "cell_type": "markdown",
   "metadata": {},
   "source": [
    "### Task 1.5: Divide by Zero\n",
    "Write a program that asks the user for two numbers and divides the first number by the second number. Handle the `ZeroDivisionError`` that occurs when the second number is zero."
   ]
  },
  {
   "cell_type": "code",
   "execution_count": 1,
   "metadata": {},
   "outputs": [
    {
     "name": "stdout",
     "output_type": "stream",
     "text": [
      "You cannot divide the number by zero.\n"
     ]
    }
   ],
   "source": [
    "# My code\n",
    "\n",
    "num1 = float(input(\"Enter your first number\"))\n",
    "num2 = float(input(\"Enter your second number\"))\n",
    "\n",
    "try:\n",
    "    divided_number = num1/num2\n",
    "    print(f\"Here is the result {divided_number}\")\n",
    "except:\n",
    "    print(\"You cannot divide the number by zero.\")"
   ]
  },
  {
   "cell_type": "code",
   "execution_count": null,
   "metadata": {},
   "outputs": [],
   "source": [
    "# Answer\n",
    "\n",
    "try:\n",
    "    num1 = float(input(\"Enter the first number: \"))\n",
    "    num2 = float(input(\"Enter the second number: \"))\n",
    "    result = num1 / num2\n",
    "    print(result)\n",
    "except ZeroDivisionError:\n",
    "    print(\"You can't divide by zero!\")"
   ]
  },
  {
   "cell_type": "markdown",
   "metadata": {},
   "source": [
    "### Task 1.6: Invalid Input\n",
    "Write a program that asks the user for an integer and prints the square of it. Handle the `ValueError`` that occurs when the input is not a valid integer."
   ]
  },
  {
   "cell_type": "code",
   "execution_count": 1,
   "metadata": {},
   "outputs": [
    {
     "name": "stdout",
     "output_type": "stream",
     "text": [
      "25\n"
     ]
    }
   ],
   "source": [
    "# My code\n",
    "\n",
    "user_input = int(input(\"Enter an integer\"))\n",
    "\n",
    "try:\n",
    "    squared = user_input ** 2\n",
    "    print(f\"Here is the result {squared}.\")\n",
    "except ValueError:\n",
    "    print(\"Invalid input.\")"
   ]
  },
  {
   "cell_type": "code",
   "execution_count": 1,
   "metadata": {},
   "outputs": [
    {
     "name": "stdout",
     "output_type": "stream",
     "text": [
      "25\n"
     ]
    }
   ],
   "source": [
    "# Answer\n",
    "\n",
    "try:\n",
    "    num = int(input(\"Enter an integer: \"))\n",
    "    print(num ** 2)\n",
    "except ValueError:\n",
    "    print(\"That's not a valid integer!\")"
   ]
  },
  {
   "cell_type": "markdown",
   "metadata": {},
   "source": [
    "### Task 1.7: List Index\n",
    "Write a program that asks the user for an index and prints the value at that index from a predefined list. Handle the `IndexError`` if the index is out of range."
   ]
  },
  {
   "cell_type": "code",
   "execution_count": 2,
   "metadata": {},
   "outputs": [
    {
     "name": "stdout",
     "output_type": "stream",
     "text": [
      "The value of the index 2 is 300.\n"
     ]
    }
   ],
   "source": [
    "# My code\n",
    "\n",
    "# Predefined list below\n",
    "list = [100, 200, 300, 400, 500]\n",
    "\n",
    "try:\n",
    "        index = int(input(\"Enter an index\"))\n",
    "        value = list[index]\n",
    "        print(f\"The value of the index {index} is {value}.\")\n",
    "\n",
    "except ValueError:\n",
    "        print(\"Invalid input. Enter an integer please.\")\n",
    "        \n",
    "except IndexError:\n",
    "        print(\"Index out of range.\")"
   ]
  },
  {
   "cell_type": "code",
   "execution_count": null,
   "metadata": {},
   "outputs": [],
   "source": [
    "# Your code goes here.\n",
    "\n",
    "numbers = [10, 20, 30, 40, 50]\n",
    "try:\n",
    "    index = int(input(\"Enter an index: \"))\n",
    "    print(numbers[index])\n",
    "except IndexError:\n",
    "    print(\"Index out of range!\")\n"
   ]
  },
  {
   "cell_type": "markdown",
   "metadata": {},
   "source": [
    "### Task 1.8: Multiple Exceptions\n",
    "Combine task 1.5 and 1.6. Ask the user for two numbers and try to divide the first by the second. Handle both `ZeroDivisionError` and `ValueError``."
   ]
  },
  {
   "cell_type": "code",
   "execution_count": 3,
   "metadata": {},
   "outputs": [
    {
     "name": "stdout",
     "output_type": "stream",
     "text": [
      "Result is 2.0.\n"
     ]
    }
   ],
   "source": [
    "# My code\n",
    "try:\n",
    "    num1 = float(input(\"Enter a number: \"))\n",
    "    num2 = float(input(\"Enter second number: \"))\n",
    "    division = num1 / num2\n",
    "    print(f\"Result is {division}.\")\n",
    "except ZeroDivisionError:\n",
    "    print(\"You cannot divide by zero.\")\n",
    "except ValueError:\n",
    "    print(\"Value error. Enter a number.\")"
   ]
  },
  {
   "cell_type": "code",
   "execution_count": null,
   "metadata": {},
   "outputs": [],
   "source": [
    "# Your code goes here.\n",
    "\n",
    "try:\n",
    "    num1 = float(input(\"Enter the first number: \"))\n",
    "    num2 = float(input(\"Enter the second number: \"))\n",
    "    result = num1 / num2\n",
    "    print(result)\n",
    "except ZeroDivisionError:\n",
    "    print(\"You can't divide by zero!\")\n",
    "except ValueError:\n",
    "    print(\"Please enter a valid number!\")"
   ]
  },
  {
   "cell_type": "markdown",
   "metadata": {},
   "source": [
    "## Topic 2: *Opening and Writing to Files*\n",
    "\n",
    "### Task 2.1: *Write to a File*\n",
    "Ask the user to input a string. Write this string to a file named `user_input.txt`."
   ]
  },
  {
   "cell_type": "code",
   "execution_count": null,
   "metadata": {},
   "outputs": [],
   "source": [
    "# My code\n",
    "\n",
    "user_input = input(\"Type text you want to input to the file here: \")\n",
    "\n",
    "with open(\"user_input.txt\", \"w\") as file:\n",
    "    file.write(user_input)\n",
    "\n",
    "print(\"Your text has been registered to the file 'user_input.txt.'\")"
   ]
  },
  {
   "cell_type": "code",
   "execution_count": null,
   "metadata": {},
   "outputs": [],
   "source": [
    "# Answer\n",
    "\n",
    "# Get input from the user\n",
    "user_string = input(\"Please enter a string: \")\n",
    "\n",
    "# Write the string to a file\n",
    "with open(\"user_input.txt\", \"w\") as file:\n",
    "    file.write(user_string)\n",
    "\n",
    "print(\"Your input has been written to 'user_input.txt'.\")\n"
   ]
  },
  {
   "cell_type": "markdown",
   "metadata": {},
   "source": [
    "### Task 2.2: *Read from a File*\n",
    "Read the contents of the file `user_input.txt` and print them to the console."
   ]
  },
  {
   "cell_type": "code",
   "execution_count": null,
   "metadata": {},
   "outputs": [],
   "source": [
    "# My code\n",
    "\n",
    "with open(\"user_input.txt\", \"r\") as file:\n",
    "    content = file.read()\n",
    "\n",
    "print(content)"
   ]
  },
  {
   "cell_type": "code",
   "execution_count": null,
   "metadata": {},
   "outputs": [],
   "source": [
    "# Answer\n",
    "\n",
    "# Read the contents of the file\n",
    "with open(\"user_input.txt\", \"r\") as file:\n",
    "    contents = file.read()\n",
    "\n",
    "# Print the contents to the console\n",
    "print(contents)\n"
   ]
  },
  {
   "cell_type": "markdown",
   "metadata": {},
   "source": [
    "### Task 2.3: Line Counter\n",
    "Write a program that counts the number of lines in `user_input.txt`."
   ]
  },
  {
   "cell_type": "code",
   "execution_count": 1,
   "metadata": {},
   "outputs": [
    {
     "ename": "FileNotFoundError",
     "evalue": "[Errno 2] No such file or directory: 'user_input.txt'",
     "output_type": "error",
     "traceback": [
      "\u001b[1;31m---------------------------------------------------------------------------\u001b[0m",
      "\u001b[1;31mFileNotFoundError\u001b[0m                         Traceback (most recent call last)",
      "\u001b[1;32mc:\\Users\\Chiaki Nishihara\\Documents\\GitHub\\Note\\EDI3400_PD\\Problem_Sets\\Problem_3.ipynb Cell 33\u001b[0m line \u001b[0;36m2\n\u001b[0;32m      <a href='vscode-notebook-cell:/c%3A/Users/Chiaki%20Nishihara/Documents/GitHub/Note/EDI3400_PD/Problem_Sets/Problem_3.ipynb#Y131sZmlsZQ%3D%3D?line=0'>1</a>\u001b[0m \u001b[39m# My code\u001b[39;00m\n\u001b[1;32m----> <a href='vscode-notebook-cell:/c%3A/Users/Chiaki%20Nishihara/Documents/GitHub/Note/EDI3400_PD/Problem_Sets/Problem_3.ipynb#Y131sZmlsZQ%3D%3D?line=1'>2</a>\u001b[0m \u001b[39mwith\u001b[39;00m \u001b[39mopen\u001b[39;49m(\u001b[39m\"\u001b[39;49m\u001b[39muser_input.txt\u001b[39;49m\u001b[39m\"\u001b[39;49m, \u001b[39m\"\u001b[39;49m\u001b[39mr\u001b[39;49m\u001b[39m\"\u001b[39;49m) \u001b[39mas\u001b[39;00m file:\n\u001b[0;32m      <a href='vscode-notebook-cell:/c%3A/Users/Chiaki%20Nishihara/Documents/GitHub/Note/EDI3400_PD/Problem_Sets/Problem_3.ipynb#Y131sZmlsZQ%3D%3D?line=2'>3</a>\u001b[0m     line_to_count \u001b[39m=\u001b[39m \u001b[39m0\u001b[39m\n\u001b[0;32m      <a href='vscode-notebook-cell:/c%3A/Users/Chiaki%20Nishihara/Documents/GitHub/Note/EDI3400_PD/Problem_Sets/Problem_3.ipynb#Y131sZmlsZQ%3D%3D?line=3'>4</a>\u001b[0m     \u001b[39mfor\u001b[39;00m line \u001b[39min\u001b[39;00m file:\n",
      "File \u001b[1;32m~\\AppData\\Roaming\\Python\\Python311\\site-packages\\IPython\\core\\interactiveshell.py:286\u001b[0m, in \u001b[0;36m_modified_open\u001b[1;34m(file, *args, **kwargs)\u001b[0m\n\u001b[0;32m    279\u001b[0m \u001b[39mif\u001b[39;00m file \u001b[39min\u001b[39;00m {\u001b[39m0\u001b[39m, \u001b[39m1\u001b[39m, \u001b[39m2\u001b[39m}:\n\u001b[0;32m    280\u001b[0m     \u001b[39mraise\u001b[39;00m \u001b[39mValueError\u001b[39;00m(\n\u001b[0;32m    281\u001b[0m         \u001b[39mf\u001b[39m\u001b[39m\"\u001b[39m\u001b[39mIPython won\u001b[39m\u001b[39m'\u001b[39m\u001b[39mt let you open fd=\u001b[39m\u001b[39m{\u001b[39;00mfile\u001b[39m}\u001b[39;00m\u001b[39m by default \u001b[39m\u001b[39m\"\u001b[39m\n\u001b[0;32m    282\u001b[0m         \u001b[39m\"\u001b[39m\u001b[39mas it is likely to crash IPython. If you know what you are doing, \u001b[39m\u001b[39m\"\u001b[39m\n\u001b[0;32m    283\u001b[0m         \u001b[39m\"\u001b[39m\u001b[39myou can use builtins\u001b[39m\u001b[39m'\u001b[39m\u001b[39m open.\u001b[39m\u001b[39m\"\u001b[39m\n\u001b[0;32m    284\u001b[0m     )\n\u001b[1;32m--> 286\u001b[0m \u001b[39mreturn\u001b[39;00m io_open(file, \u001b[39m*\u001b[39;49margs, \u001b[39m*\u001b[39;49m\u001b[39m*\u001b[39;49mkwargs)\n",
      "\u001b[1;31mFileNotFoundError\u001b[0m: [Errno 2] No such file or directory: 'user_input.txt'"
     ]
    }
   ],
   "source": [
    "# My code\n",
    "with open(\"user_input.txt\", \"r\") as file:\n",
    "    line_to_count = 0\n",
    "    for line in file:\n",
    "        line_to_count += 1\n",
    "    print(f\"The lines are counted. Result is: {line_to_count}.\")"
   ]
  },
  {
   "cell_type": "code",
   "execution_count": null,
   "metadata": {},
   "outputs": [],
   "source": [
    "# Answer\n",
    "\n",
    "# Initialize a count variable\n",
    "line_count = 0\n",
    "\n",
    "# Read the file and count the lines\n",
    "with open(\"user_input.txt\", \"r\") as file:\n",
    "    for line in file:\n",
    "        line_count += 1\n",
    "\n",
    "# Print the line count\n",
    "print(f\"The file 'user_input.txt' has {line_count} lines.\")"
   ]
  },
  {
   "cell_type": "markdown",
   "metadata": {},
   "source": [
    "### Task 2.4: File Not Found\n",
    "Write a program that tries to read a file named `data.txt` and prints its content. Handle the `FileNotFoundError` if the file does not exist."
   ]
  },
  {
   "cell_type": "code",
   "execution_count": 3,
   "metadata": {},
   "outputs": [
    {
     "name": "stdout",
     "output_type": "stream",
     "text": [
      "The file is not found.\n"
     ]
    }
   ],
   "source": [
    "# My code\n",
    "\n",
    "try:\n",
    "    with open(\"data.txt\", \"r\") as file:\n",
    "        print(file.read())\n",
    "except FileNotFoundError:\n",
    "    print(\"The file is not found.\")\n"
   ]
  },
  {
   "cell_type": "code",
   "execution_count": null,
   "metadata": {},
   "outputs": [],
   "source": [
    "# Answer\n",
    "\n",
    "try:\n",
    "    with open(\"data.txt\", \"r\") as file:\n",
    "        print(file.read())\n",
    "except FileNotFoundError:\n",
    "    print(\"The file 'data.txt' was not found.\")"
   ]
  },
  {
   "cell_type": "markdown",
   "metadata": {},
   "source": [
    "## Topic 3: The Standard Library\n",
    "\n",
    "### Task 3.1: *Using the `datetime` module*\n",
    "Print today's date in the format `YYYY-MM-DD`.\n",
    "\n",
    "Hint: When you have the date as a `datetime` object, you can use the `strftime()` method to format it."
   ]
  },
  {
   "cell_type": "code",
   "execution_count": null,
   "metadata": {},
   "outputs": [
    {
     "name": "stdout",
     "output_type": "stream",
     "text": [
      "2023-10-11\n"
     ]
    }
   ],
   "source": [
    "# My code\n",
    "import datetime\n",
    "\n",
    "date_time = datetime.datetime.now()\n",
    "# print(date_time)\n",
    "\n",
    "# strftime = string format time\n",
    "formatted_date = date_time.strftime(\"%Y-%m-%d\")\n",
    "print(formatted_date)"
   ]
  },
  {
   "cell_type": "code",
   "execution_count": 6,
   "metadata": {},
   "outputs": [
    {
     "name": "stdout",
     "output_type": "stream",
     "text": [
      "2023-10-11\n"
     ]
    }
   ],
   "source": [
    "# Answer\n",
    "\n",
    "import datetime\n",
    "\n",
    "# Get today's date\n",
    "today = datetime.date.today()\n",
    "\n",
    "# Print the date in the desired format\n",
    "print(today.strftime('%Y-%m-%d'))"
   ]
  },
  {
   "cell_type": "markdown",
   "metadata": {},
   "source": [
    "### Task 3.2: Shuffle a List\n",
    "\n",
    "Write a Python program to shuffle a list of numbers using the `random.shuffle()` function."
   ]
  },
  {
   "cell_type": "code",
   "execution_count": 18,
   "metadata": {},
   "outputs": [
    {
     "name": "stdout",
     "output_type": "stream",
     "text": [
      "[2, 6, 1, 7, 8, 10, 5, 3, 9, 4]\n"
     ]
    }
   ],
   "source": [
    "# My code\n",
    "\n",
    "import random\n",
    "\n",
    "list = [1, 2, 3, 4, 5, 6, 7, 8, 9, 10]\n",
    "\n",
    "# Dont have to put in a new variable\n",
    "random.shuffle(list)\n",
    "\n",
    "print(list)"
   ]
  },
  {
   "cell_type": "code",
   "execution_count": 15,
   "metadata": {},
   "outputs": [
    {
     "name": "stdout",
     "output_type": "stream",
     "text": [
      "The shuffled list is: [6, 8, 5, 10, 9, 4, 3, 1, 2, 7]\n"
     ]
    }
   ],
   "source": [
    "# Answer\n",
    "\n",
    "import random\n",
    "\n",
    "# Define a list of numbers\n",
    "numbers = [1, 2, 3, 4, 5, 6, 7, 8, 9, 10]\n",
    "\n",
    "# Shuffle the list\n",
    "random.shuffle(numbers)\n",
    "\n",
    "# Print the shuffled list\n",
    "print('The shuffled list is:', numbers)"
   ]
  },
  {
   "cell_type": "markdown",
   "metadata": {},
   "source": [
    "### Task 3.3: Calculate Logarithm\n",
    "\n",
    "    Write a Python program to calculate the natural logarithm and base-10 logarithm of a given number using `math.log()` and `math.log10()` functions. Make sure that the input number is greater than 0. Round the results to 2 decimal places."
   ]
  },
  {
   "cell_type": "code",
   "execution_count": 3,
   "metadata": {},
   "outputs": [
    {
     "name": "stdout",
     "output_type": "stream",
     "text": [
      "The natural logarithm of 10.0 is 2.3.\n",
      "The base-10 logarithm of 10.0 is 1.0.\n"
     ]
    }
   ],
   "source": [
    "# My code\n",
    "\n",
    "import math\n",
    "\n",
    "def calculate_logarithms():\n",
    "    try:\n",
    "        # Get user input\n",
    "        num = float(input(\"Enter a number greater than 0: \"))\n",
    "        \n",
    "        # Check if the number is greater than 0\n",
    "        if num <= 0:\n",
    "            print(\"The number must be greater than 0.\")\n",
    "            return # これがないとコードを実行し続けようとしてしまう\n",
    "        \n",
    "        # Calculate natural logarithm\n",
    "        natural_log = math.log(num)\n",
    "        \n",
    "        # Calculate base-10 logarithm\n",
    "        base10_log = math.log10(num)\n",
    "        \n",
    "        # Round to 2 decimal places 小数点以下2桁に丸める\n",
    "        natural_log = round(natural_log, 2)\n",
    "        base10_log = round(base10_log, 2)\n",
    "        \n",
    "        # Display the results\n",
    "        print(f\"The natural logarithm of {num} is {natural_log}.\")\n",
    "        print(f\"The base-10 logarithm of {num} is {base10_log}.\")\n",
    "        \n",
    "    except ValueError:\n",
    "        print(\"Invalid input. Please enter a numerical value.\")\n",
    "        \n",
    "# Run the program\n",
    "calculate_logarithms()\n"
   ]
  },
  {
   "cell_type": "code",
   "execution_count": null,
   "metadata": {},
   "outputs": [],
   "source": [
    "# Answer\n",
    "\n",
    "import math\n",
    "\n",
    "# Get input from the user\n",
    "number = float(input(\"Enter a positive number: \"))\n",
    "\n",
    "# Check if the number is positive\n",
    "if number <= 0:\n",
    "    print(\"Please enter a positive number.\")\n",
    "else:\n",
    "    # Calculate the natural logarithm (base e)\n",
    "    natural_log = math.log(number)\n",
    "    \n",
    "    # Calculate the base-10 logarithm\n",
    "    log_base_10 = math.log10(number)\n",
    "\n",
    "    # Print the results\n",
    "    print(f\"Natural logarithm (base e) of {number}: {round(natural_log, 2)}\")\n",
    "    print(f\"Base-10 logarithm of {number}: {round(log_base_10, 2)}\")\n"
   ]
  },
  {
   "cell_type": "markdown",
   "metadata": {},
   "source": [
    "### Task 3.4: Find All Numbers\n",
    "Write a program that uses the `re` library to extract all the numbers from a string and store them in a list. Print the list.\n",
    "\n",
    "Hint: Use the `findall()` function where the first argument is the pattern and the second argument is the string. The pattern for a number is `r'\\d+'`."
   ]
  },
  {
   "cell_type": "code",
   "execution_count": 6,
   "metadata": {},
   "outputs": [
    {
     "name": "stdout",
     "output_type": "stream",
     "text": [
      "List of numbers extracted: [50, 1]\n"
     ]
    }
   ],
   "source": [
    "# My code\n",
    "\n",
    "## reライブラリには、正規表現にマッチする文字列を検索(search)、置換(sub)、抽出(findallなど)するための\n",
    "## 多くの関数とメソッドが含まれています。\n",
    "import re\n",
    "\n",
    "def extract_numbers():\n",
    "    # Get user input\n",
    "    input_string = input(\"Enter a string containing numbers: \")\n",
    "    \n",
    "    # Use findall() to find all occurrences of numbers in the string\n",
    "    ## \\d：これは0から9までの任意の一桁の数字に一致します。\n",
    "    ## +：この記号は、直前の要素（この場合は\\d）が1回以上繰り返される場面に一致します。\n",
    "    numbers = re.findall(r'\\d+', input_string)\n",
    "    \n",
    "    ## Convert the list of string numbers to integers\n",
    "    ## numbersリスト内の各文字列を整数に変換します。\n",
    "    ## map()関数はマッピングされたオブジェクトを返すため、それをlist()関数でリストに変換しています。\n",
    "    numbers = list(map(int, numbers))\n",
    "    \n",
    "    # Print the list of numbers\n",
    "    print(\"List of numbers extracted:\", numbers)\n",
    "\n",
    "# Call the function\n",
    "extract_numbers()"
   ]
  },
  {
   "cell_type": "code",
   "execution_count": 1,
   "metadata": {},
   "outputs": [
    {
     "name": "stdout",
     "output_type": "stream",
     "text": [
      "['123', '456']\n"
     ]
    }
   ],
   "source": [
    "# Answer\n",
    "\n",
    "import re\n",
    "\n",
    "text = \"Hello 123, how are you 456?\"\n",
    "numbers = re.findall(r'\\d+', text)\n",
    "print(numbers)  # Output: ['123', '456']"
   ]
  },
  {
   "cell_type": "markdown",
   "metadata": {},
   "source": [
    "### Task 3.5: Replace All Vowels\n",
    "Write a program that uses the `re` replace all vowels in a given string with the character `*`.\n",
    "\n",
    "Hint: Use the `sub()` function where the first argument is the pattern and the second argument is the replacement string. The pattern for a vowel is `r'[aeiou]'`."
   ]
  },
  {
   "cell_type": "code",
   "execution_count": 10,
   "metadata": {},
   "outputs": [
    {
     "name": "stdout",
     "output_type": "stream",
     "text": [
      "String after replacing vowels: H*ll* K*nnn*ch*w*\n"
     ]
    }
   ],
   "source": [
    "# My code\n",
    "\n",
    "import re\n",
    "\n",
    "def replace_vowels():\n",
    "    input_string = input(\"Enter a string: \")\n",
    "    \n",
    "    # Replace all vowels with '*'\n",
    "    replaced_string = re.sub(r'[aeiou]', '*', input_string) # re.sub(): 文字列内の特定のパターンを別の文字列に置き換える\n",
    "    \n",
    "    print(\"String after replacing vowels:\", replaced_string)\n",
    "\n",
    "replace_vowels()\n"
   ]
  },
  {
   "cell_type": "code",
   "execution_count": null,
   "metadata": {},
   "outputs": [],
   "source": [
    "# Answer\n",
    "\n",
    "import re\n",
    "\n",
    "text = \"Hello World\"\n",
    "modified_text = re.sub(r'[aeiouAEIOU]', '*', text)\n",
    "print(modified_text)  # Output: H*ll* W*rld"
   ]
  },
  {
   "cell_type": "markdown",
   "metadata": {},
   "source": [
    "### Task 3.6: Split at Multiple Delimiters\n",
    "Write a program that uses the `re` library and splits a string at multiple delimiters: space, comma, and period.\n",
    "\n",
    "Hint: Use the `split()` function where the argument is a regular expression that matches the delimiters. The pattern for the delimiters is `r'[ ,.]'`."
   ]
  },
  {
   "cell_type": "code",
   "execution_count": 13,
   "metadata": {},
   "outputs": [
    {
     "name": "stdout",
     "output_type": "stream",
     "text": [
      "List after splitting at multiple delimiters : ['BI', '', 'we', 'study', 'code']\n"
     ]
    }
   ],
   "source": [
    "# My code\n",
    "\n",
    "import re\n",
    "\n",
    "def split_string():\n",
    "    input_string = input(\"Enter a string with multiple delimiters (space, comma, period): \")\n",
    "    \n",
    "    ## Split the string at multiple delimiters\n",
    "    ## r'[ ,.]'：これは正規表現のパターンです。角括弧[ ]は文字セットを定義し、このセット内の任意の文字が区切り文字として機能します。\n",
    "    # この場合、区切り文字はスペース、カンマ、およびピリオドです。\n",
    "    split_list = re.split(r'[ ,.]', input_string)\n",
    "    \n",
    "    print(\"List after splitting at multiple delimiters :\",split_list)\n",
    "\n",
    "split_string()\n"
   ]
  },
  {
   "cell_type": "code",
   "execution_count": null,
   "metadata": {},
   "outputs": [],
   "source": [
    "# Answer\n",
    "\n",
    "import re\n",
    "\n",
    "text = \"Hello, how are you? I am fine. Great!\"\n",
    "words = re.split(r'[ ,.]+', text)\n",
    "print(words)  # Output: ['Hello', 'how', 'are', 'you?', 'I', 'am', 'fine', 'Great!', '']"
   ]
  },
  {
   "cell_type": "markdown",
   "metadata": {},
   "source": [
    "### Task 3.7: Determine the Median and Mean\n",
    "Use the `statistics` library and write a program that determines the median and mean of a list of numbers."
   ]
  },
  {
   "cell_type": "code",
   "execution_count": 14,
   "metadata": {},
   "outputs": [
    {
     "name": "stdout",
     "output_type": "stream",
     "text": [
      "The median of the list is 30\n",
      "The mean of the list is 23.666666666666668\n"
     ]
    }
   ],
   "source": [
    "# My code\n",
    "import statistics\n",
    "\n",
    "def calculate_median_and_mean():\n",
    "    # Get user input and convert it to a list of integers\n",
    "    input_numbers = input(\"Enter a list of numbers separated by commas: \")\n",
    "    numbers = list(map(int, input_numbers.split(',')))\n",
    "\n",
    "    # Calculate the median and mean using the statistics library\n",
    "    median_value = statistics.median(numbers) # medianは中央値のこと\n",
    "    mean_value = statistics.mean(numbers) # meanは平均値のこと\n",
    "\n",
    "    # Display the results\n",
    "    print(f\"The median of the list is {median_value}\")\n",
    "    print(f\"The mean of the list is {mean_value}\")\n",
    "\n",
    "# Call the function\n",
    "calculate_median_and_mean()\n"
   ]
  },
  {
   "cell_type": "code",
   "execution_count": null,
   "metadata": {},
   "outputs": [],
   "source": [
    "# Answer\n",
    "\n",
    "import statistics\n",
    "\n",
    "numbers = [10, 40, 30, 20, 50]\n",
    "median_value = statistics.median(numbers)\n",
    "mean_value = statistics.mean(numbers)\n",
    "print(median_value)  # Output: 30\n",
    "print(mean_value)  # Output: 30"
   ]
  },
  {
   "cell_type": "markdown",
   "metadata": {},
   "source": [
    "### Task 3.8: Determine the Variance\n",
    "Use the `statistics` library and write a program that determines the variance of a list of numbers."
   ]
  },
  {
   "cell_type": "code",
   "execution_count": 15,
   "metadata": {},
   "outputs": [
    {
     "name": "stdout",
     "output_type": "stream",
     "text": [
      "The variance of the list is 683.5833333333334\n"
     ]
    }
   ],
   "source": [
    "# My code\n",
    "import statistics\n",
    "\n",
    "def calculate_variance():\n",
    "    # Get user input and convert it to a list of integers\n",
    "    input_numbers = input(\"Enter a list of numbers separated by commas: \")\n",
    "    numbers = list(map(int, input_numbers.split(',')))\n",
    "\n",
    "    # Calculate the variance using the statistics library\n",
    "    variance_value = statistics.variance(numbers)\n",
    "\n",
    "    # Display the result\n",
    "    print(f\"The variance of the list is {variance_value}\")\n",
    "\n",
    "# Call the function\n",
    "calculate_variance()\n",
    "\n",
    "## Variance（分散）は、データセット内の値が平均からどれだけばらついているかを測定する統計量です。分散が大きい場合、\n",
    "## データポイントは平均から遠く離れている可能性が高く、分散が小さい場合は、データポイントは平均に近い値を持つ可能性が高いです。"
   ]
  },
  {
   "cell_type": "code",
   "execution_count": null,
   "metadata": {},
   "outputs": [],
   "source": [
    "# Answer\n",
    "\n",
    "import statistics\n",
    "\n",
    "numbers = [10, 20, 30, 40, 50]\n",
    "variance_value = statistics.variance(numbers)\n",
    "print(variance_value)  # Output: 250"
   ]
  },
  {
   "cell_type": "markdown",
   "metadata": {},
   "source": [
    "### Task 3.9: Calculate the Standard Deviation\n",
    "Use the `statistics` library and write a program that calculates the standard deviation of a list of numbers."
   ]
  },
  {
   "cell_type": "code",
   "execution_count": null,
   "metadata": {},
   "outputs": [],
   "source": [
    "# My code\n",
    "import statistics\n",
    "\n",
    "# the standard deviation 標準偏差\n",
    "def calculate_standard_deviation():\n",
    "    # Get user input and convert it to a list of integers\n",
    "    input_numbers = input(\"Enter a list of numbers separated by commas: \")\n",
    "    numbers = list(map(int, input_numbers.split(',')))\n",
    "\n",
    "    # Calculate the standard deviation using the statistics library\n",
    "    # この行では、statisticsライブラリのstdev関数を使用して、\n",
    "    # numbersリストの標準偏差を計算し、その結果をstd_devという変数に格納しています\n",
    "    std_dev = statistics.stdev(numbers)\n",
    "\n",
    "    # Display the result\n",
    "    print(f\"The standard deviation of the list is {std_dev:.2f}\")\n",
    "\n",
    "# Call the function\n",
    "calculate_standard_deviation()"
   ]
  },
  {
   "cell_type": "code",
   "execution_count": null,
   "metadata": {},
   "outputs": [],
   "source": [
    "# Answer\n",
    "\n",
    "import statistics\n",
    "\n",
    "numbers = [10, 20, 30, 40, 50]\n",
    "std_dev_value = statistics.stdev(numbers)\n",
    "print(std_dev_value)  # Output: 15.811388300841896"
   ]
  },
  {
   "cell_type": "markdown",
   "metadata": {},
   "source": [
    "### Task 3.10: Calculate the mean, median, variance and standard deviation \n",
    "Without using any library, calculate the mean, variance and standard deviation of the following list of numbers: [10, 20, 30, 40, 50]. Check your results with the previous tasks.\n",
    "\n",
    "Difficult: Calculate the median without using any library."
   ]
  },
  {
   "cell_type": "code",
   "execution_count": 16,
   "metadata": {},
   "outputs": [
    {
     "name": "stdout",
     "output_type": "stream",
     "text": [
      "The mean of the list is 30.0\n",
      "The median of the list is 30\n",
      "The variance of the list is 200.0\n",
      "The standard deviation of the list is 14.14\n"
     ]
    }
   ],
   "source": [
    "# My code\n",
    "\n",
    "# Given list of numbers\n",
    "numbers = [10, 20, 30, 40, 50]\n",
    "\n",
    "# Calculate Mean\n",
    "mean_value = sum(numbers) / len(numbers)\n",
    "print(f\"The mean of the list is {mean_value}\")\n",
    "\n",
    "# Calculate Median\n",
    "sorted_numbers = sorted(numbers) # 与えられた数値のリスト（numbers）を昇順にソート\n",
    "n = len(sorted_numbers)\n",
    "if n % 2 == 1: # 奇数であれば、次の行のコードが実行\n",
    "    median_value = sorted_numbers[n // 2] # リストの長さが奇数である場合の中央値を計算\n",
    "else:\n",
    "    median_value = (sorted_numbers[(n // 2) - 1] + sorted_numbers[n // 2]) / 2 # リストの長さが偶数である場合の中央値を計算\n",
    "print(f\"The median of the list is {median_value}\")\n",
    "\n",
    "# Calculate Variance\n",
    "## 各数値（x）と平均値（mean_value）との差の二乗を計算し、その合計をリストの長さ（len(numbers)）で割っている\n",
    "variance_value = sum((x - mean_value) ** 2 for x in numbers) / len(numbers)\n",
    "print(f\"The variance of the list is {variance_value}\")\n",
    "\n",
    "# Calculate Standard Deviation\n",
    "std_dev = variance_value ** 0.5\n",
    "print(f\"The standard deviation of the list is {std_dev:.2f}\")"
   ]
  },
  {
   "cell_type": "code",
   "execution_count": 17,
   "metadata": {},
   "outputs": [
    {
     "name": "stdout",
     "output_type": "stream",
     "text": [
      "Mean: 30.0\n",
      "Median: 30\n",
      "Variance: 200.0\n",
      "Standard Deviation: 14.142135623730951\n"
     ]
    }
   ],
   "source": [
    "# Answer\n",
    "\n",
    "numbers = [10, 20, 30, 40, 50]\n",
    "\n",
    "# Calculate mean\n",
    "mean_value = sum(numbers) / len(numbers)\n",
    "\n",
    "# Calculate median\n",
    "sorted_numbers = sorted(numbers)\n",
    "middle_index = len(numbers) // 2\n",
    "if len(numbers) % 2 == 0:\n",
    "    median_value = (sorted_numbers[middle_index - 1] + sorted_numbers[middle_index]) / 2\n",
    "else:\n",
    "    median_value = sorted_numbers[middle_index]\n",
    "\n",
    "# Calculate variance\n",
    "variance_value = sum([(x - mean_value) ** 2 for x in numbers]) / len(numbers)\n",
    "\n",
    "# Calculate standard deviation\n",
    "std_dev_value = variance_value ** 0.5\n",
    "\n",
    "print(f\"Mean: {mean_value}\")\n",
    "print(f\"Median: {median_value}\")\n",
    "print(f\"Variance: {variance_value}\")\n",
    "print(f\"Standard Deviation: {std_dev_value}\")"
   ]
  },
  {
   "cell_type": "markdown",
   "metadata": {},
   "source": [
    "## Topic 4: Functions\n",
    "\n",
    "### Task 4.1: Reverse String\n",
    "Write a function named `reverse_string` that takes a string as an argument and returns the string in reverse order."
   ]
  },
  {
   "cell_type": "code",
   "execution_count": null,
   "metadata": {},
   "outputs": [],
   "source": [
    "# My code\n",
    "\n",
    "def reverse_string(input_string):\n",
    "    return input_string[::-1]\n",
    "\n",
    "# Test the function\n",
    "result = reverse_string(\"Hello, World!\")\n",
    "print(f\"Reversed string: {result}\")\n"
   ]
  },
  {
   "cell_type": "code",
   "execution_count": null,
   "metadata": {},
   "outputs": [],
   "source": [
    "# Answer\n",
    "\n",
    "def reverse_string(s):\n",
    "    return s[::-1]\n",
    "\n",
    "print(reverse_string(\"Python\"))  # Output: nohtyP"
   ]
  },
  {
   "cell_type": "markdown",
   "metadata": {},
   "source": [
    "### Task 4.2: Calculate Average\n",
    "Write a function named average that takes a list of numbers as an argument and returns their average."
   ]
  },
  {
   "cell_type": "code",
   "execution_count": null,
   "metadata": {},
   "outputs": [],
   "source": [
    "# My code"
   ]
  },
  {
   "cell_type": "code",
   "execution_count": null,
   "metadata": {},
   "outputs": [],
   "source": [
    "# Answer\n",
    "\n",
    "def average(nums):\n",
    "    return sum(nums) / len(nums)\n",
    "\n",
    "print(average([10, 20, 30, 40]))  # Output: 25.0"
   ]
  },
  {
   "cell_type": "markdown",
   "metadata": {},
   "source": [
    "### Task 4.3: Factorial\n",
    "Write a function called `factorial` that takes a number as an argument and returns its factorial.\n",
    "\n",
    "Hint: You can use something recursion to calculate the factorial. If the input number `n` is 0, the factorial is 1. Otherwise, the factorial of `n` is `n` multiplied by the factorial of `n-1`."
   ]
  },
  {
   "cell_type": "code",
   "execution_count": null,
   "metadata": {},
   "outputs": [],
   "source": [
    "# My code"
   ]
  },
  {
   "cell_type": "code",
   "execution_count": null,
   "metadata": {},
   "outputs": [],
   "source": [
    "# Answer\n",
    "\n",
    "def factorial(n):\n",
    "    if n == 0:\n",
    "        return 1\n",
    "    else:\n",
    "        return n * factorial(n-1)\n",
    "\n",
    "# Test the function\n",
    "print(factorial(5))  # Output: 120"
   ]
  },
  {
   "cell_type": "markdown",
   "metadata": {},
   "source": [
    "### Task 4.4: Calculate Area of a Circle\n",
    "Write a function named `circle_area` that takes the radius of a circle as an argument and returns its area. Use the value 3.1415 for $\\pi$."
   ]
  },
  {
   "cell_type": "code",
   "execution_count": null,
   "metadata": {},
   "outputs": [],
   "source": [
    "# My code"
   ]
  },
  {
   "cell_type": "code",
   "execution_count": null,
   "metadata": {},
   "outputs": [],
   "source": [
    "# Answer\n",
    "\n",
    "def circle_area(radius):\n",
    "    return 3.1415 * radius * radius\n",
    "\n",
    "print(round(circle_area(5),1))  # Output: 78.5"
   ]
  },
  {
   "cell_type": "markdown",
   "metadata": {},
   "source": [
    "### Task 4.5: Count Vowels in a String\n",
    "Write a function named `count_vowels`` that takes a string as an argument and returns the count of vowels in the string."
   ]
  },
  {
   "cell_type": "code",
   "execution_count": null,
   "metadata": {},
   "outputs": [],
   "source": [
    "# My code"
   ]
  },
  {
   "cell_type": "code",
   "execution_count": null,
   "metadata": {},
   "outputs": [],
   "source": [
    "# Answer\n",
    "\n",
    "def count_vowels(s):\n",
    "    vowels = 'aeiou'\n",
    "    count = 0\n",
    "    for char in s:\n",
    "        if char.lower() in vowels:\n",
    "            count += 1\n",
    "    return count\n",
    "\n",
    "print(count_vowels(\"Hello World\"))  # Output: 3"
   ]
  },
  {
   "cell_type": "markdown",
   "metadata": {},
   "source": [
    "### Task 4.6: Check for Prime Number\n",
    "Write a function named `is_prime`` that takes a number as an argument and returns `True` if the number is prime, otherwise `False`.\n",
    "\n",
    "Hint: A number is prime if it is only divisible by 1 and itself. You can use a loop to check if the number is divisible by any number between 2 and the number itself. If it is divisible by any number, it is not prime. Use the modulo operator `%` to check if a number is divisible by another number."
   ]
  },
  {
   "cell_type": "code",
   "execution_count": null,
   "metadata": {},
   "outputs": [],
   "source": [
    "# My code"
   ]
  },
  {
   "cell_type": "code",
   "execution_count": null,
   "metadata": {},
   "outputs": [],
   "source": [
    "# Answer\n",
    "\n",
    "def is_prime(num):\n",
    "    if num <= 1:\n",
    "        return False\n",
    "    for i in range(2, num):\n",
    "        if num % i == 0:\n",
    "            return False\n",
    "    return True\n",
    "\n",
    "print(is_prime(7))  # Output: True\n",
    "print(is_prime(4))  # Output: False\n"
   ]
  },
  {
   "cell_type": "markdown",
   "metadata": {},
   "source": [
    "## Topic 5: Object-Oriented Programming (Difficult - Optional)\n",
    "\n",
    "This topic is a bit more involved. The important take-away is that you can create your own data types by defining classes. Classes are like blueprints for objects. Objects are instances of classes. For example, you can define a class `BankAccount` that has attributes like `owner` and `balance`. You can then create objects of type `BankAccount` for different owners and balances. \n",
    "\n",
    "### Task 5.1: Class Initialization\n",
    "Create a `BankAccount` class with an `__init__` method to initialize owner and balance attributes.\n",
    "\n",
    "### Task 5.2: Deposit Method\n",
    "Add a method called `deposit` to the `BankAccount`` class. This method should take an amount as an argument and add it to the balance.\n",
    "\n",
    "### Task 5.3: Withdraw Method\n",
    "Add a method called `withdraw` to the `BankAccount` class. This method should take an amount as an argument and subtract it from the balance. If there isn't enough money, it should print a message saying \"Funds unavailable\".\n",
    "\n",
    "### Task 5.4: Display Account Information\n",
    "Add a method called display to the `BankAccount`` class that prints the owner's name and the current balance.\n",
    "\n",
    "### Task 5.5: Overdraft Protection\n",
    "Enhance the `withdraw` method. If the account balance goes below a certain threshold (e.g., $10), print a warning message saying \"Low balance\"."
   ]
  },
  {
   "cell_type": "code",
   "execution_count": null,
   "metadata": {},
   "outputs": [],
   "source": [
    "# Answer\n",
    "\n",
    "class BankAccount:\n",
    "    def __init__(self, owner, balance=0):\n",
    "        self.owner = owner\n",
    "        self.balance = balance\n",
    "\n",
    "    # Task 5.2\n",
    "    def deposit(self, amount):\n",
    "        self.balance += amount\n",
    "        return f\"Deposited ${amount}. New balance: ${self.balance}\"\n",
    "\n",
    "    # Task 5.3 and Task 5.5\n",
    "    def withdraw(self, amount):\n",
    "        if amount > self.balance:\n",
    "            return \"Funds unavailable\"\n",
    "        else:\n",
    "            self.balance -= amount\n",
    "            if self.balance <= 10:\n",
    "                return f\"Withdrew ${amount}. Warning: Low balance. Current balance: ${self.balance}\"\n",
    "            return f\"Withdrew ${amount}. New balance: ${self.balance}\"\n",
    "\n",
    "    # Task 5.4\n",
    "    def display(self):\n",
    "        return f\"Owner: {self.owner}\\nBalance: ${self.balance}\""
   ]
  },
  {
   "cell_type": "code",
   "execution_count": null,
   "metadata": {},
   "outputs": [],
   "source": [
    "# Example usage:\n",
    "account = BankAccount(\"John Doe\", 100)\n",
    "print(account.deposit(50))  # Output: Deposited $50. New balance: $150\n",
    "print(account.withdraw(140))  # Output: Withdrew $140. Warning: Low balance. Current balance: $10\n",
    "print(account.display())  \n",
    "# Output:\n",
    "# Owner: John Doe\n",
    "# Balance: $10"
   ]
  }
 ],
 "metadata": {
  "kernelspec": {
   "display_name": "edi3400",
   "language": "python",
   "name": "python3"
  },
  "language_info": {
   "codemirror_mode": {
    "name": "ipython",
    "version": 3
   },
   "file_extension": ".py",
   "mimetype": "text/x-python",
   "name": "python",
   "nbconvert_exporter": "python",
   "pygments_lexer": "ipython3",
   "version": "3.11.2"
  },
  "orig_nbformat": 4
 },
 "nbformat": 4,
 "nbformat_minor": 2
}
