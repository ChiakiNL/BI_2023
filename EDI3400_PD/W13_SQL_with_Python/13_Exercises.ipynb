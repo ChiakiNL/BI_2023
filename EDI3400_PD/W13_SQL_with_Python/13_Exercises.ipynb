{
 "cells": [
  {
   "cell_type": "markdown",
   "metadata": {},
   "source": [
    "# In class exercise: More questions\n",
    "\n",
    "### Questions:\n",
    "\n",
    "1. What are the names and salaries of all employees?\n",
    "\n",
    "2. List all cars that are of the 'Sedan' type and manufactured after the year 2015.\n",
    "\n",
    "3. How many customers were born before 1990?\n",
    "\n",
    "4. Calculate the total sales (sum of price) made by each employee (use their ID for identification).\n",
    "\n",
    "5. Find the average MSRP of all cars grouped by their color.\n",
    "\n",
    "6. Identify the customer (use customer ID) who has spent the most on car purchases.\n",
    "\n",
    "7. List the details of the most expensive car sold in terms of list price.\n",
    "\n",
    "8. How many cars of each make have been sold?\n",
    "\n",
    "9. What is the average salary of employees in each department?\n",
    "\n",
    "10. List all sales (include Sale ID, Customer First Name, Car Make, and Sale Price) that were below the list price."
   ]
  },
  {
   "cell_type": "code",
   "execution_count": 1,
   "metadata": {},
   "outputs": [],
   "source": [
    "import sqlite3"
   ]
  },
  {
   "cell_type": "code",
   "execution_count": 3,
   "metadata": {},
   "outputs": [],
   "source": [
    "con = sqlite3.connect(\"auto_dealership_database.db\") # Connect to database\n",
    "\n",
    "cur = con.cursor() # Create cursor"
   ]
  },
  {
   "cell_type": "code",
   "execution_count": null,
   "metadata": {},
   "outputs": [],
   "source": [
    "# 1. What are the names and salaries of all employees?\n",
    "\n",
    "# Execute the SQL query to retrieve names and salaries of all employees\n",
    "cur.execute(\"SELECT name, salary FROM Employees\")\n",
    "\n",
    "employees_data = cur.fetchall() # Fetch all the results\n",
    "\n",
    "for employee in employees_data:\n",
    "    print(f\"Name: {employee[0]}, Salary: {employee[1]}\")"
   ]
  },
  {
   "cell_type": "code",
   "execution_count": null,
   "metadata": {},
   "outputs": [],
   "source": [
    "# 2. List all cars that are of the 'Sedan' type and manufactured after the year 2015.\n",
    "\n",
    "cur.execute(\"SELECT * FROM cars WHERE type = 'Sedan' AND year > 2015\")\n",
    "\n",
    "sedan_cars = cur.fetchall()\n",
    "\n",
    "for car in sedan_cars:\n",
    "    print(car)"
   ]
  },
  {
   "cell_type": "code",
   "execution_count": 15,
   "metadata": {},
   "outputs": [
    {
     "name": "stdout",
     "output_type": "stream",
     "text": [
      "The number of customers born before 1990 is: 2185\n"
     ]
    }
   ],
   "source": [
    "# 3. How many customers were born before 1990?\n",
    "\n",
    "cur.execute(\"SELECT COUNT(*) FROM Customers WHERE birth_year < 1990\")\n",
    "\n",
    "customers_born_before_1990 = cur.fetchone()\n",
    "\n",
    "for customer in customers_born_before_1990:\n",
    "    print(f\"The number of customers born before 1990 is: {customers_born_before_1990[0]}\")\n",
    "\n",
    "# ↑ cur.fetchone()メソッドは、実行されたSQLクエリの結果として返される行を取得します。\n",
    "# このメソッドは、結果セットから次の行をフェッチし、その行をタプルとして返します。\n",
    "# SQLクエリが単一の値（この場合はカウント）を返す場合でも、その値はタプルの中に入れられます。\n",
    "# ここでの[0]は、fetchone()メソッドによって返されたタプルの最初の要素（そしてこの場合唯一の要素）にアクセスするために使用されます。\n",
    "# つまり、customers_born_before_1990[0]は、クエリによって返されたカウントの値を指しています。"
   ]
  },
  {
   "cell_type": "code",
   "execution_count": null,
   "metadata": {},
   "outputs": [],
   "source": [
    "# 4. Calculate the total sales (sum of price) made by each employee (use their ID for identification).\n",
    "\n",
    "# SQL query to calculate total sales by each employee\n",
    "query = \"\"\"\n",
    "SELECT \n",
    "    Sales.employee_id, \n",
    "    SUM(Sales.price) AS total_sales\n",
    "FROM \n",
    "    Sales\n",
    "GROUP BY \n",
    "    Sales.employee_id;\n",
    "\"\"\"\n",
    "\n",
    "cur.execute(query) # query = 質問\n",
    "total_sales = cur.fetchall()\n",
    "\n",
    "for employee_id, total_sales in total_sales:\n",
    "    print(f\"The employee ID: {employee_id} / The total sales: {total_sales}\")"
   ]
  },
  {
   "cell_type": "code",
   "execution_count": 34,
   "metadata": {},
   "outputs": [
    {
     "name": "stdout",
     "output_type": "stream",
     "text": [
      "The average msrp for Black is: 52985.54143980641\n",
      "The average msrp for Blue is: 52391.278869355396\n",
      "The average msrp for Brown is: 54248.68804664723\n",
      "The average msrp for Green is: 51149.056603773584\n",
      "The average msrp for Orange is: 52976.83615819209\n",
      "The average msrp for Purple is: 49609.81012658228\n",
      "The average msrp for Red is: 53064.16918429003\n",
      "The average msrp for Silver is: 51361.164465786314\n",
      "The average msrp for White is: 54275.0\n",
      "The average msrp for Yellow is: 52731.1377245509\n"
     ]
    }
   ],
   "source": [
    "# 5. Find the average MSRP of all cars grouped by their color. # MSRP = Manufacturer's Suggested Retail Price\n",
    "\n",
    "query = \"\"\"\n",
    "SELECT\n",
    "    Cars.color,\n",
    "    AVG(Cars.msrp) AS average_msrp\n",
    "FROM\n",
    "    Cars\n",
    "GROUP BY\n",
    "    Cars.color;\n",
    "\"\"\"\n",
    "\n",
    "cur.execute(query)\n",
    "\n",
    "average_msrp_by_color = cur.fetchall()\n",
    "\n",
    "for color, average_msrp in average_msrp_by_color:\n",
    "    print(f\"The average msrp for {color} is: {average_msrp}\")"
   ]
  },
  {
   "cell_type": "code",
   "execution_count": 35,
   "metadata": {},
   "outputs": [
    {
     "ename": "OperationalError",
     "evalue": "no such column: total_spent",
     "output_type": "error",
     "traceback": [
      "\u001b[1;31m---------------------------------------------------------------------------\u001b[0m",
      "\u001b[1;31mOperationalError\u001b[0m                          Traceback (most recent call last)",
      "\u001b[1;32mc:\\Users\\Chiaki Nishihara\\Documents\\GitHub\\BI_2023\\EDI3400_PD\\W13_SQL_with_Python\\13_Exercises.ipynb Cell 9\u001b[0m line \u001b[0;36m1\n\u001b[0;32m      <a href='vscode-notebook-cell:/c%3A/Users/Chiaki%20Nishihara/Documents/GitHub/BI_2023/EDI3400_PD/W13_SQL_with_Python/13_Exercises.ipynb#X13sZmlsZQ%3D%3D?line=0'>1</a>\u001b[0m \u001b[39m# 6. Identify the customer (use customer ID) who has spent the most on car purchases.]\u001b[39;00m\n\u001b[0;32m      <a href='vscode-notebook-cell:/c%3A/Users/Chiaki%20Nishihara/Documents/GitHub/BI_2023/EDI3400_PD/W13_SQL_with_Python/13_Exercises.ipynb#X13sZmlsZQ%3D%3D?line=2'>3</a>\u001b[0m query \u001b[39m=\u001b[39m \u001b[39m\"\"\"\u001b[39m\n\u001b[0;32m      <a href='vscode-notebook-cell:/c%3A/Users/Chiaki%20Nishihara/Documents/GitHub/BI_2023/EDI3400_PD/W13_SQL_with_Python/13_Exercises.ipynb#X13sZmlsZQ%3D%3D?line=3'>4</a>\u001b[0m \u001b[39mSELECT\u001b[39m\n\u001b[0;32m      <a href='vscode-notebook-cell:/c%3A/Users/Chiaki%20Nishihara/Documents/GitHub/BI_2023/EDI3400_PD/W13_SQL_with_Python/13_Exercises.ipynb#X13sZmlsZQ%3D%3D?line=4'>5</a>\u001b[0m \u001b[39m    Sales.customer_id,\u001b[39m\n\u001b[1;32m   (...)\u001b[0m\n\u001b[0;32m     <a href='vscode-notebook-cell:/c%3A/Users/Chiaki%20Nishihara/Documents/GitHub/BI_2023/EDI3400_PD/W13_SQL_with_Python/13_Exercises.ipynb#X13sZmlsZQ%3D%3D?line=12'>13</a>\u001b[0m \u001b[39mLIMIT 1;\u001b[39m\n\u001b[0;32m     <a href='vscode-notebook-cell:/c%3A/Users/Chiaki%20Nishihara/Documents/GitHub/BI_2023/EDI3400_PD/W13_SQL_with_Python/13_Exercises.ipynb#X13sZmlsZQ%3D%3D?line=13'>14</a>\u001b[0m \u001b[39m\"\"\"\u001b[39m\n\u001b[1;32m---> <a href='vscode-notebook-cell:/c%3A/Users/Chiaki%20Nishihara/Documents/GitHub/BI_2023/EDI3400_PD/W13_SQL_with_Python/13_Exercises.ipynb#X13sZmlsZQ%3D%3D?line=15'>16</a>\u001b[0m cur\u001b[39m.\u001b[39;49mexecute(query)\n\u001b[0;32m     <a href='vscode-notebook-cell:/c%3A/Users/Chiaki%20Nishihara/Documents/GitHub/BI_2023/EDI3400_PD/W13_SQL_with_Python/13_Exercises.ipynb#X13sZmlsZQ%3D%3D?line=17'>18</a>\u001b[0m spend_the_most \u001b[39m=\u001b[39m cur\u001b[39m.\u001b[39mfetchone()\n\u001b[0;32m     <a href='vscode-notebook-cell:/c%3A/Users/Chiaki%20Nishihara/Documents/GitHub/BI_2023/EDI3400_PD/W13_SQL_with_Python/13_Exercises.ipynb#X13sZmlsZQ%3D%3D?line=19'>20</a>\u001b[0m \u001b[39mfor\u001b[39;00m customer_id, total_sales \u001b[39min\u001b[39;00m spend_the_most:\n",
      "\u001b[1;31mOperationalError\u001b[0m: no such column: total_spent"
     ]
    }
   ],
   "source": [
    "# 6. Identify the customer (use customer ID) who has spent the most on car purchases.]\n",
    "\n",
    "query = \"\"\"\n",
    "SELECT\n",
    "    Sales.customer_id,\n",
    "    SUM(Sales.price) AS total_sales\n",
    "FROM\n",
    "    Sales\n",
    "GROUP BY\n",
    "    Sales.customer_id\n",
    "ORDER BY\n",
    "    total_spent DESC\n",
    "LIMIT 1;\n",
    "\"\"\"\n",
    "\n",
    "cur.execute(query)\n",
    "\n",
    "spend_the_most = cur.fetchone()\n",
    "\n",
    "for customer_id, total_sales in spend_the_most:\n",
    "    print(f\"The customer ID: {customer_id} / The total sales: {total_sales}\")"
   ]
  },
  {
   "cell_type": "code",
   "execution_count": 8,
   "metadata": {},
   "outputs": [],
   "source": [
    "# 7. List the details of the most expensive car sold in terms of list price."
   ]
  },
  {
   "cell_type": "code",
   "execution_count": null,
   "metadata": {},
   "outputs": [],
   "source": [
    "# 8. How many cars of each make have been sold?"
   ]
  },
  {
   "cell_type": "code",
   "execution_count": 7,
   "metadata": {},
   "outputs": [],
   "source": [
    "# 9. What is the average salary of employees in each department?"
   ]
  },
  {
   "cell_type": "code",
   "execution_count": 6,
   "metadata": {},
   "outputs": [],
   "source": [
    "# 10. List all sales (include Sale ID, Customer First Name, Car Make, and Sale Price) that were below the list price."
   ]
  }
 ],
 "metadata": {
  "kernelspec": {
   "display_name": "Python 3",
   "language": "python",
   "name": "python3"
  },
  "language_info": {
   "codemirror_mode": {
    "name": "ipython",
    "version": 3
   },
   "file_extension": ".py",
   "mimetype": "text/x-python",
   "name": "python",
   "nbconvert_exporter": "python",
   "pygments_lexer": "ipython3",
   "version": "3.11.2"
  }
 },
 "nbformat": 4,
 "nbformat_minor": 2
}
