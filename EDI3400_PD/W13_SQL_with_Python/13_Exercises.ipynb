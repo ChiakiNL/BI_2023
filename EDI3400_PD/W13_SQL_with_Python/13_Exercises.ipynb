{
 "cells": [
  {
   "cell_type": "markdown",
   "metadata": {},
   "source": [
    "# In class exercise: More questions\n",
    "\n",
    "### Questions:\n",
    "\n",
    "1. What are the names and salaries of all employees?\n",
    "\n",
    "2. List all cars that are of the 'Sedan' type and manufactured after the year 2015.\n",
    "\n",
    "3. How many customers were born before 1990?\n",
    "\n",
    "4. Calculate the total sales (sum of price) made by each employee (use their ID for identification).\n",
    "\n",
    "5. Find the average MSRP of all cars grouped by their color.\n",
    "\n",
    "6. Identify the customer (use customer ID) who has spent the most on car purchases.\n",
    "\n",
    "7. List the details of the most expensive car sold in terms of list price.\n",
    "\n",
    "8. How many cars of each make have been sold?\n",
    "\n",
    "9. What is the average salary of employees in each department?\n",
    "\n",
    "10. List all sales (include Sale ID, Customer First Name, Car Make, and Sale Price) that were below the list price."
   ]
  },
  {
   "cell_type": "code",
   "execution_count": 1,
   "metadata": {},
   "outputs": [],
   "source": [
    "import sqlite3"
   ]
  },
  {
   "cell_type": "code",
   "execution_count": 2,
   "metadata": {},
   "outputs": [],
   "source": [
    "con = sqlite3.connect(\"auto_dealership_database.db\") # Connect to database\n",
    "\n",
    "cur = con.cursor() # Create cursor"
   ]
  },
  {
   "cell_type": "code",
   "execution_count": null,
   "metadata": {},
   "outputs": [],
   "source": [
    "# 1. What are the names and salaries of all employees?\n",
    "\n",
    "# Execute the SQL query to retrieve names and salaries of all employees\n",
    "cur.execute(\"SELECT name, salary FROM Employees\")\n",
    "\n",
    "employees_data = cur.fetchall() # Fetch all the results\n",
    "\n",
    "for employee in employees_data:\n",
    "    print(f\"Name: {employee[0]}, Salary: {employee[1]}\")"
   ]
  },
  {
   "cell_type": "code",
   "execution_count": null,
   "metadata": {},
   "outputs": [],
   "source": [
    "# 2. List all cars that are of the 'Sedan' type and manufactured after the year 2015.\n",
    "\n",
    "cur.execute(\"SELECT * FROM cars WHERE type = 'Sedan' AND year > 2015\")\n",
    "\n",
    "sedan_cars = cur.fetchall()\n",
    "\n",
    "for car in sedan_cars:\n",
    "    print(car)"
   ]
  },
  {
   "cell_type": "code",
   "execution_count": 5,
   "metadata": {},
   "outputs": [
    {
     "name": "stdout",
     "output_type": "stream",
     "text": [
      "The number of customers born before 1990 is: 2185\n"
     ]
    }
   ],
   "source": [
    "# 3. How many customers were born before 1990?\n",
    "\n",
    "cur.execute(\"SELECT COUNT(*) FROM Customers WHERE birth_year < 1990\")\n",
    "\n",
    "customers_born_before_1990 = cur.fetchone()\n",
    "\n",
    "for customer in customers_born_before_1990:\n",
    "    print(f\"The number of customers born before 1990 is: {customers_born_before_1990[0]}\")\n",
    "\n",
    "# ↑ cur.fetchone()メソッドは、実行されたSQLクエリの結果として返される行を取得します。\n",
    "# このメソッドは、結果セットから次の行をフェッチし、その行をタプルとして返します。\n",
    "# SQLクエリが単一の値（この場合はカウント）を返す場合でも、その値はタプルの中に入れられます。\n",
    "# ここでの[0]は、fetchone()メソッドによって返されたタプルの最初の要素（そしてこの場合唯一の要素）にアクセスするために使用されます。\n",
    "# つまり、customers_born_before_1990[0]は、クエリによって返されたカウントの値を指しています。"
   ]
  },
  {
   "cell_type": "code",
   "execution_count": null,
   "metadata": {},
   "outputs": [],
   "source": [
    "# 4. Calculate the total sales (sum of price) made by each employee (use their ID for identification).\n",
    "\n",
    "# SQL query to calculate total sales by each employee\n",
    "query = \"\"\"\n",
    "SELECT \n",
    "    Sales.employee_id, \n",
    "    SUM(Sales.price) AS total_sales\n",
    "FROM \n",
    "    Sales\n",
    "GROUP BY \n",
    "    Sales.employee_id;\n",
    "\"\"\"\n",
    "\n",
    "cur.execute(query) # query = 質問\n",
    "total_sales = cur.fetchall()\n",
    "\n",
    "for employee_id, total_sales in total_sales:\n",
    "    print(f\"The employee ID: {employee_id} / The total sales: {total_sales}\")"
   ]
  },
  {
   "cell_type": "code",
   "execution_count": null,
   "metadata": {},
   "outputs": [],
   "source": [
    "# 5. Find the average MSRP of all cars grouped by their color. # MSRP = Manufacturer's Suggested Retail Price\n",
    "\n",
    "query = \"\"\"\n",
    "SELECT\n",
    "    Cars.color,\n",
    "    AVG(Cars.msrp) AS average_msrp\n",
    "FROM\n",
    "    Cars\n",
    "GROUP BY\n",
    "    Cars.color;\n",
    "\"\"\"\n",
    "\n",
    "cur.execute(query)\n",
    "\n",
    "average_msrp_by_color = cur.fetchall()\n",
    "\n",
    "for color, average_msrp in average_msrp_by_color:\n",
    "    print(f\"The average msrp for {color} is: {average_msrp}\")"
   ]
  },
  {
   "cell_type": "code",
   "execution_count": 9,
   "metadata": {},
   "outputs": [
    {
     "name": "stdout",
     "output_type": "stream",
     "text": [
      "The customer ID 1134 has spent the most on the car, with a total of 445830.0\n"
     ]
    }
   ],
   "source": [
    "# 6. Identify the customer (use customer ID) who has spent the most on car purchases.]\n",
    "\n",
    "query = \"\"\"\n",
    "SELECT\n",
    "    Sales.customer_id,\n",
    "    SUM(Sales.price) AS total_sales\n",
    "FROM\n",
    "    Sales\n",
    "GROUP BY\n",
    "    Sales.customer_id\n",
    "ORDER BY\n",
    "    total_sales DESC\n",
    "LIMIT 1;\n",
    "\"\"\"\n",
    "\n",
    "cur.execute(query)\n",
    "spend_the_most = cur.fetchone()\n",
    "\n",
    "# for customer_id, total_sales in spend_the_most:\n",
    "print(f\"The customer ID {spend_the_most[0]} has spent the most on the car, with a total of {spend_the_most[1]}\")"
   ]
  },
  {
   "cell_type": "code",
   "execution_count": 34,
   "metadata": {},
   "outputs": [
    {
     "name": "stdout",
     "output_type": "stream",
     "text": [
      "☆The detail of the most expensive car sold☆\n",
      "ID: 8453\n",
      "Made by: Porsche\n",
      "Type: SUV\n",
      "Year: 2017\n",
      "Color is: Black\n",
      "MSRP is: 222100.0\n",
      "Employee ID 4 sold this car\n"
     ]
    }
   ],
   "source": [
    "# 7. List the details of the most expensive car sold in terms of list price.\n",
    "\n",
    "query = \"\"\"\n",
    "SELECT\n",
    "    Cars.*,\n",
    "    Sales.list_price\n",
    "FROM\n",
    "    Cars\n",
    "JOIN\n",
    "    Sales ON Cars.id = Sales.car_id\n",
    "ORDER BY\n",
    "    Sales.price DESC\n",
    "LIMIT 1;\n",
    "\"\"\"\n",
    "\n",
    "cur.execute(query)\n",
    "most_expensive_car = cur.fetchone()\n",
    "\n",
    "# F-stringは下記のように書くと、コード閲覧時に見やすくなる！\n",
    "print(\n",
    "    f\"☆The detail of the most expensive car sold☆\\n\"\n",
    "    f\"ID: {most_expensive_car[0]}\\n\"\n",
    "    f\"Made by: {most_expensive_car[1]}\\n\"\n",
    "    f\"Type: {most_expensive_car[2]}\\n\"\n",
    "    f\"Year: {most_expensive_car[3]}\\n\"\n",
    "    f\"Color is: {most_expensive_car[4]}\\n\"\n",
    "    f\"MSRP is: {most_expensive_car[5]}\\n\"\n",
    "    f\"Employee ID {most_expensive_car[6]} sold this car\"\n",
    ")\n",
    "\n",
    "# print(f\"The detail of the most expensive car sold is:\\nID: {most_expensive_car[0]}\\nMade by: {most_expensive_car[1]}\\nType: {most_expensive_car[2]}\\nYear: {most_expensive_car[3]}\\nColor: {most_expensive_car[4]}\\nMSRP (Manufacturer's Suggested Retail Price): {most_expensive_car[5]}\\nEmployee ID: {most_expensive_car[6]} sold this car\")"
   ]
  },
  {
   "cell_type": "code",
   "execution_count": null,
   "metadata": {},
   "outputs": [],
   "source": [
    "# 8. How many cars of each make have been sold?\n",
    "\n",
    "query = \"\"\"\n",
    "SELECT\n",
    "    Cars.make,\n",
    "    COUNT(Sales.car_id) AS number_of_cars_sold\n",
    "FROM\n",
    "    Sales\n",
    "JOIN\n",
    "     Cars ON Sales.car_id = Cars.id\n",
    "GROUP BY\n",
    "    Cars.make;\n",
    "\"\"\"\n",
    "\n",
    "# JOINを使用すると、複数のテーブルからのデータを組み合わせて、関連する情報を一つの結果セットとして取得することができます。\n",
    "\n",
    "cur.execute(query)\n",
    "\n",
    "each_car_sold = cur.fetchall()\n",
    "print(each_car_sold)"
   ]
  },
  {
   "cell_type": "code",
   "execution_count": 48,
   "metadata": {},
   "outputs": [
    {
     "name": "stdout",
     "output_type": "stream",
     "text": [
      "The average salary for admin is: 85425.00\n",
      "The average salary for sales is: 107866.67\n",
      "The average salary for service is: 65844.44\n"
     ]
    }
   ],
   "source": [
    "# 9. What is the average salary of employees in each department?\n",
    "\n",
    "query = \"\"\"\n",
    "SELECT\n",
    "    Employees.department,\n",
    "    AVG(salary) AS average_salary\n",
    "FROM\n",
    "    Employees\n",
    "GROUP BY\n",
    "    department;\n",
    "\"\"\"\n",
    "\n",
    "cur.execute(query)\n",
    "\n",
    "average_salary = cur.fetchall()\n",
    "\n",
    "\n",
    "print(\n",
    "    f\"The average salary for admin is: {average_salary[0][1]:.2f}\\n\"\n",
    "    f\"The average salary for sales is: {average_salary[1][1]:.2f}\\n\"\n",
    "    f\"The average salary for service is: {average_salary[2][1]:.2f}\"\n",
    ")\n",
    "\n",
    "# print(\n",
    "#     f\"The average salary for admin is: {average_salary[0]}\\n\"\n",
    "#     f\"The average salary for sales is: {average_salary[1]}\\n\"\n",
    "#     f\"The average salary for service is: {average_salary[2]}\"\n",
    "# )"
   ]
  },
  {
   "cell_type": "code",
   "execution_count": null,
   "metadata": {},
   "outputs": [],
   "source": [
    "# 10. List all sales (include Sale ID, Customer First Name, Car Make, and Sale Price) that were below the list price.\n",
    "\n",
    "query = \"\"\"\n",
    "SELECT\n",
    "    Sales.id AS Sale_ID,\n",
    "    Customers.first_name AS Customer_First_Name,\n",
    "    Cars.make AS Car_Make,\n",
    "    Sales.price AS Sale_Price\n",
    "\n",
    "FROM\n",
    "    Sales\n",
    "JOIN\n",
    "    Customers ON Sales.customer_id = Customers.id\n",
    "JOIN\n",
    "    Cars ON Sales.car_id = Cars.id\n",
    "WHERE\n",
    "    Sales.price < Sales.list_price;\n",
    "\"\"\"\n",
    "\n",
    "cur.execute(query)\n",
    "\n",
    "sales_below_list_price = cur.fetchall()\n",
    "\n",
    "print(sales_below_list_price)"
   ]
  }
 ],
 "metadata": {
  "kernelspec": {
   "display_name": "Python 3",
   "language": "python",
   "name": "python3"
  },
  "language_info": {
   "codemirror_mode": {
    "name": "ipython",
    "version": 3
   },
   "file_extension": ".py",
   "mimetype": "text/x-python",
   "name": "python",
   "nbconvert_exporter": "python",
   "pygments_lexer": "ipython3",
   "version": "3.11.2"
  }
 },
 "nbformat": 4,
 "nbformat_minor": 2
}
