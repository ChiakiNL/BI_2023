{
 "cells": [
  {
   "cell_type": "markdown",
   "id": "8c8465f3",
   "metadata": {
    "slideshow": {
     "slide_type": "slide"
    }
   },
   "source": [
    "# SQL with Python\n",
    "\n",
    "## Programming and Data Management (EDI 3400)\n",
    "\n",
    "### *Vegard H. Larsen (Department of Data Science and Analytics)*"
   ]
  },
  {
   "cell_type": "markdown",
   "id": "ff47e723",
   "metadata": {
    "slideshow": {
     "slide_type": "slide"
    }
   },
   "source": [
    "# 1.  Intro to `sqlite3`\n",
    "\n",
    "SQLite is a lightweight, serverless, and self-contained relational database system, and `sqlite3` is its accompanying module in the Python Standard Library, enabling seamless interaction with SQLite databases. With `sqlite3`, we can create, connect to, and query SQLite databases directly from Python. Unlike more complex database systems, SQLite doesn't require setup or administration, making it an ideal starting point to grasp fundamental database operations and concepts."
   ]
  },
  {
   "cell_type": "code",
   "execution_count": 1,
   "id": "4f10e03d",
   "metadata": {
    "slideshow": {
     "slide_type": "slide"
    }
   },
   "outputs": [],
   "source": [
    "# sqlite3 is part of the Standard Library\n",
    "\n",
    "import sqlite3"
   ]
  },
  {
   "cell_type": "code",
   "execution_count": 2,
   "id": "5bfa9c1f",
   "metadata": {
    "slideshow": {
     "slide_type": "fragment"
    }
   },
   "outputs": [],
   "source": [
    "# We can connect to our database\n",
    "# Make sure the database is stored in the same folder as the notebook\n",
    "\n",
    "con = sqlite3.connect(\"auto_dealership_database.db\")"
   ]
  },
  {
   "cell_type": "code",
   "execution_count": 3,
   "id": "8c50c146",
   "metadata": {
    "slideshow": {
     "slide_type": "fragment"
    }
   },
   "outputs": [],
   "source": [
    "# In order to execute SQL statements and fetch results from SQL queries, \n",
    "# we will need to use a database cursor.\n",
    "\n",
    "cur = con.cursor()"
   ]
  },
  {
   "cell_type": "markdown",
   "id": "a6b852f0",
   "metadata": {
    "slideshow": {
     "slide_type": "slide"
    }
   },
   "source": [
    "## Executing a query"
   ]
  },
  {
   "cell_type": "code",
   "execution_count": 4,
   "id": "924095bf",
   "metadata": {
    "slideshow": {
     "slide_type": "-"
    }
   },
   "outputs": [],
   "source": [
    "# Now we are connected to the database and we have a cursor \n",
    "# and we can execute an SQL query\n",
    "\n",
    "res = cur.execute(\"SELECT * FROM Employees\")"
   ]
  },
  {
   "cell_type": "code",
   "execution_count": null,
   "id": "309ca049",
   "metadata": {
    "slideshow": {
     "slide_type": "fragment"
    }
   },
   "outputs": [],
   "source": [
    "# This gives us a cursor object\n",
    "\n",
    "#res.fetchone()"
   ]
  },
  {
   "cell_type": "code",
   "execution_count": 5,
   "id": "40b260f7",
   "metadata": {
    "slideshow": {
     "slide_type": "fragment"
    }
   },
   "outputs": [],
   "source": [
    "# We can get all the information from the query using fetchall\n",
    "\n",
    "employees_table = res.fetchall()"
   ]
  },
  {
   "cell_type": "code",
   "execution_count": null,
   "id": "83a0d374",
   "metadata": {
    "slideshow": {
     "slide_type": "slide"
    }
   },
   "outputs": [],
   "source": [
    "# The data is then stored as a list of tuples\n",
    "\n",
    "employees_table"
   ]
  },
  {
   "cell_type": "markdown",
   "id": "d34c9bb2",
   "metadata": {
    "slideshow": {
     "slide_type": "slide"
    }
   },
   "source": [
    "## Convert the list into a Pandas dataframe"
   ]
  },
  {
   "cell_type": "code",
   "execution_count": 7,
   "id": "4d6564a0",
   "metadata": {
    "scrolled": true,
    "slideshow": {
     "slide_type": "-"
    }
   },
   "outputs": [],
   "source": [
    "import pandas as pd\n",
    "\n",
    "Employees = pd.DataFrame(employees_table)"
   ]
  },
  {
   "cell_type": "code",
   "execution_count": 8,
   "id": "9a85a0a4",
   "metadata": {
    "slideshow": {
     "slide_type": "fragment"
    }
   },
   "outputs": [
    {
     "data": {
      "text/html": [
       "<div>\n",
       "<style scoped>\n",
       "    .dataframe tbody tr th:only-of-type {\n",
       "        vertical-align: middle;\n",
       "    }\n",
       "\n",
       "    .dataframe tbody tr th {\n",
       "        vertical-align: top;\n",
       "    }\n",
       "\n",
       "    .dataframe thead th {\n",
       "        text-align: right;\n",
       "    }\n",
       "</style>\n",
       "<table border=\"1\" class=\"dataframe\">\n",
       "  <thead>\n",
       "    <tr style=\"text-align: right;\">\n",
       "      <th></th>\n",
       "      <th>0</th>\n",
       "      <th>1</th>\n",
       "      <th>2</th>\n",
       "      <th>3</th>\n",
       "      <th>4</th>\n",
       "    </tr>\n",
       "  </thead>\n",
       "  <tbody>\n",
       "    <tr>\n",
       "      <th>0</th>\n",
       "      <td>1</td>\n",
       "      <td>Erik</td>\n",
       "      <td>114100</td>\n",
       "      <td>Bachelor</td>\n",
       "      <td>Sales</td>\n",
       "    </tr>\n",
       "    <tr>\n",
       "      <th>1</th>\n",
       "      <td>2</td>\n",
       "      <td>Sue</td>\n",
       "      <td>116200</td>\n",
       "      <td>Bachelor</td>\n",
       "      <td>Admin</td>\n",
       "    </tr>\n",
       "    <tr>\n",
       "      <th>2</th>\n",
       "      <td>3</td>\n",
       "      <td>Linda</td>\n",
       "      <td>67200</td>\n",
       "      <td>High School</td>\n",
       "      <td>Admin</td>\n",
       "    </tr>\n",
       "    <tr>\n",
       "      <th>3</th>\n",
       "      <td>4</td>\n",
       "      <td>Anne</td>\n",
       "      <td>75900</td>\n",
       "      <td>Master</td>\n",
       "      <td>Service</td>\n",
       "    </tr>\n",
       "    <tr>\n",
       "      <th>4</th>\n",
       "      <td>5</td>\n",
       "      <td>Mary</td>\n",
       "      <td>89100</td>\n",
       "      <td>Bachelor</td>\n",
       "      <td>Service</td>\n",
       "    </tr>\n",
       "  </tbody>\n",
       "</table>\n",
       "</div>"
      ],
      "text/plain": [
       "   0      1       2            3        4\n",
       "0  1   Erik  114100     Bachelor    Sales\n",
       "1  2    Sue  116200     Bachelor    Admin\n",
       "2  3  Linda   67200  High School    Admin\n",
       "3  4   Anne   75900       Master  Service\n",
       "4  5   Mary   89100     Bachelor  Service"
      ]
     },
     "execution_count": 8,
     "metadata": {},
     "output_type": "execute_result"
    }
   ],
   "source": [
    "# Let's inspect the dataframe\n",
    "\n",
    "Employees.head(5)"
   ]
  },
  {
   "cell_type": "markdown",
   "id": "ae556289",
   "metadata": {
    "slideshow": {
     "slide_type": "slide"
    }
   },
   "source": [
    "## Let's set the column names"
   ]
  },
  {
   "cell_type": "code",
   "execution_count": 9,
   "id": "88ed676e",
   "metadata": {},
   "outputs": [],
   "source": [
    "# Get the column names from the Employees table \n",
    "\n",
    "tmp = cur.execute(\"SELECT name FROM PRAGMA_TABLE_INFO('Employees')\").fetchall() #tmp is a list of tuples"
   ]
  },
  {
   "cell_type": "code",
   "execution_count": 10,
   "id": "30442170",
   "metadata": {
    "slideshow": {
     "slide_type": "fragment"
    }
   },
   "outputs": [
    {
     "data": {
      "text/plain": [
       "[('id',), ('name',), ('salary',), ('education',), ('department',)]"
      ]
     },
     "execution_count": 10,
     "metadata": {},
     "output_type": "execute_result"
    }
   ],
   "source": [
    "# Let's inspect the result from the query\n",
    "\n",
    "tmp"
   ]
  },
  {
   "cell_type": "code",
   "execution_count": 11,
   "id": "b081cc29",
   "metadata": {
    "slideshow": {
     "slide_type": "fragment"
    }
   },
   "outputs": [
    {
     "data": {
      "text/plain": [
       "['id', 'name', 'salary', 'education', 'department']"
      ]
     },
     "execution_count": 11,
     "metadata": {},
     "output_type": "execute_result"
    }
   ],
   "source": [
    "# Change the list of tuples into a list of strings\n",
    "\n",
    "employees_column_names = [name[0] for name in tmp]\n",
    "employees_column_names"
   ]
  },
  {
   "cell_type": "code",
   "execution_count": 12,
   "id": "a498d21f",
   "metadata": {
    "slideshow": {
     "slide_type": "slide"
    }
   },
   "outputs": [],
   "source": [
    "# Add the column names to the dataframe\n",
    "\n",
    "Employees.columns = employees_column_names"
   ]
  },
  {
   "cell_type": "code",
   "execution_count": 13,
   "id": "67b53952",
   "metadata": {
    "slideshow": {
     "slide_type": "fragment"
    }
   },
   "outputs": [],
   "source": [
    "# We set the id column to be the index column\n",
    "\n",
    "Employees.index = Employees['id']\n",
    "del Employees['id']"
   ]
  },
  {
   "cell_type": "code",
   "execution_count": 15,
   "id": "a7b1c1ad",
   "metadata": {
    "slideshow": {
     "slide_type": "slide"
    }
   },
   "outputs": [
    {
     "data": {
      "text/html": [
       "<div>\n",
       "<style scoped>\n",
       "    .dataframe tbody tr th:only-of-type {\n",
       "        vertical-align: middle;\n",
       "    }\n",
       "\n",
       "    .dataframe tbody tr th {\n",
       "        vertical-align: top;\n",
       "    }\n",
       "\n",
       "    .dataframe thead th {\n",
       "        text-align: right;\n",
       "    }\n",
       "</style>\n",
       "<table border=\"1\" class=\"dataframe\">\n",
       "  <thead>\n",
       "    <tr style=\"text-align: right;\">\n",
       "      <th></th>\n",
       "      <th>name</th>\n",
       "      <th>salary</th>\n",
       "      <th>education</th>\n",
       "      <th>department</th>\n",
       "    </tr>\n",
       "    <tr>\n",
       "      <th>id</th>\n",
       "      <th></th>\n",
       "      <th></th>\n",
       "      <th></th>\n",
       "      <th></th>\n",
       "    </tr>\n",
       "  </thead>\n",
       "  <tbody>\n",
       "    <tr>\n",
       "      <th>1</th>\n",
       "      <td>Erik</td>\n",
       "      <td>114100</td>\n",
       "      <td>Bachelor</td>\n",
       "      <td>Sales</td>\n",
       "    </tr>\n",
       "    <tr>\n",
       "      <th>2</th>\n",
       "      <td>Sue</td>\n",
       "      <td>116200</td>\n",
       "      <td>Bachelor</td>\n",
       "      <td>Admin</td>\n",
       "    </tr>\n",
       "    <tr>\n",
       "      <th>3</th>\n",
       "      <td>Linda</td>\n",
       "      <td>67200</td>\n",
       "      <td>High School</td>\n",
       "      <td>Admin</td>\n",
       "    </tr>\n",
       "    <tr>\n",
       "      <th>4</th>\n",
       "      <td>Anne</td>\n",
       "      <td>75900</td>\n",
       "      <td>Master</td>\n",
       "      <td>Service</td>\n",
       "    </tr>\n",
       "    <tr>\n",
       "      <th>5</th>\n",
       "      <td>Mary</td>\n",
       "      <td>89100</td>\n",
       "      <td>Bachelor</td>\n",
       "      <td>Service</td>\n",
       "    </tr>\n",
       "    <tr>\n",
       "      <th>6</th>\n",
       "      <td>Tom</td>\n",
       "      <td>95900</td>\n",
       "      <td>Bachelor</td>\n",
       "      <td>Sales</td>\n",
       "    </tr>\n",
       "    <tr>\n",
       "      <th>7</th>\n",
       "      <td>John</td>\n",
       "      <td>148200</td>\n",
       "      <td>Bachelor</td>\n",
       "      <td>Sales</td>\n",
       "    </tr>\n",
       "    <tr>\n",
       "      <th>8</th>\n",
       "      <td>Joe</td>\n",
       "      <td>148100</td>\n",
       "      <td>Master</td>\n",
       "      <td>Sales</td>\n",
       "    </tr>\n",
       "    <tr>\n",
       "      <th>9</th>\n",
       "      <td>Sofia</td>\n",
       "      <td>117100</td>\n",
       "      <td>Bachelor</td>\n",
       "      <td>Sales</td>\n",
       "    </tr>\n",
       "    <tr>\n",
       "      <th>10</th>\n",
       "      <td>Marie</td>\n",
       "      <td>79000</td>\n",
       "      <td>Bachelor</td>\n",
       "      <td>Admin</td>\n",
       "    </tr>\n",
       "  </tbody>\n",
       "</table>\n",
       "</div>"
      ],
      "text/plain": [
       "     name  salary    education department\n",
       "id                                       \n",
       "1    Erik  114100     Bachelor      Sales\n",
       "2     Sue  116200     Bachelor      Admin\n",
       "3   Linda   67200  High School      Admin\n",
       "4    Anne   75900       Master    Service\n",
       "5    Mary   89100     Bachelor    Service\n",
       "6     Tom   95900     Bachelor      Sales\n",
       "7    John  148200     Bachelor      Sales\n",
       "8     Joe  148100       Master      Sales\n",
       "9   Sofia  117100     Bachelor      Sales\n",
       "10  Marie   79000     Bachelor      Admin"
      ]
     },
     "execution_count": 15,
     "metadata": {},
     "output_type": "execute_result"
    }
   ],
   "source": [
    "# Let's look at the Employees dataframe\n",
    "\n",
    "Employees.head(10)"
   ]
  },
  {
   "cell_type": "code",
   "execution_count": 14,
   "id": "54bdea6e",
   "metadata": {
    "slideshow": {
     "slide_type": "slide"
    }
   },
   "outputs": [],
   "source": [
    "# Remember to close the connection\n",
    "\n",
    "con.close()"
   ]
  },
  {
   "cell_type": "markdown",
   "id": "962b2c81",
   "metadata": {
    "slideshow": {
     "slide_type": "slide"
    }
   },
   "source": [
    "# 2. SQL queries with Pandas  "
   ]
  },
  {
   "cell_type": "code",
   "execution_count": 15,
   "id": "e93a29c7",
   "metadata": {
    "slideshow": {
     "slide_type": "slide"
    }
   },
   "outputs": [],
   "source": [
    "import sqlite3\n",
    "import pandas as pd\n",
    "\n",
    "con = sqlite3.connect(\"auto_dealership_database.db\")\n",
    "Customers = pd.read_sql(\"SELECT * FROM Customers\", con)\n",
    "con.close()"
   ]
  },
  {
   "cell_type": "code",
   "execution_count": null,
   "id": "5a49e548",
   "metadata": {
    "slideshow": {
     "slide_type": "slide"
    }
   },
   "outputs": [],
   "source": [
    "Customers"
   ]
  },
  {
   "cell_type": "markdown",
   "id": "2880f091",
   "metadata": {
    "slideshow": {
     "slide_type": "slide"
    }
   },
   "source": [
    "## The query is defined within a Python string "
   ]
  },
  {
   "cell_type": "code",
   "execution_count": 19,
   "id": "a48bad0a",
   "metadata": {},
   "outputs": [],
   "source": [
    "query = \"\"\"\n",
    "        SELECT *\n",
    "        FROM Customers\n",
    "        WHERE birth_year = 1995\n",
    "        \"\"\"\n",
    "# SELECT * means select all columns"
   ]
  },
  {
   "cell_type": "code",
   "execution_count": null,
   "id": "271ebde5",
   "metadata": {},
   "outputs": [],
   "source": [
    "print(query)"
   ]
  },
  {
   "cell_type": "code",
   "execution_count": 20,
   "id": "9cdc7f8f",
   "metadata": {
    "slideshow": {
     "slide_type": "fragment"
    }
   },
   "outputs": [],
   "source": [
    "con = sqlite3.connect(\"auto_dealership_database.db\")\n",
    "result = pd.read_sql(query, con)\n",
    "con.close()"
   ]
  },
  {
   "cell_type": "code",
   "execution_count": null,
   "id": "7f7b5511",
   "metadata": {
    "slideshow": {
     "slide_type": "slide"
    }
   },
   "outputs": [],
   "source": [
    "result"
   ]
  },
  {
   "cell_type": "markdown",
   "id": "8648728a",
   "metadata": {
    "slideshow": {
     "slide_type": "slide"
    }
   },
   "source": [
    "# 3. Let us create a database"
   ]
  },
  {
   "cell_type": "markdown",
   "id": "a613293e",
   "metadata": {
    "slideshow": {
     "slide_type": "slide"
    }
   },
   "source": [
    "### Datatypes in SQLite\n",
    "\n",
    "- **NULL**. The value is a NULL value.\n",
    "\n",
    "- **INTEGER**. The value is a signed integer, stored in 0, 1, 2, 3, 4, 6, or 8 bytes depending on the magnitude of the value.\n",
    "\n",
    "- **REAL**. The value is a floating point value, stored as an 8-byte IEEE floating point number.\n",
    "\n",
    "- **TEXT**. The value is a text string, stored using the database encoding (UTF-8, UTF-16BE or UTF-16LE).\n",
    "\n",
    "- **BLOB**. The value is a blob of data, stored exactly as it was input."
   ]
  },
  {
   "cell_type": "code",
   "execution_count": 23,
   "id": "dc1b2eb0",
   "metadata": {
    "slideshow": {
     "slide_type": "slide"
    }
   },
   "outputs": [],
   "source": [
    "## Imports\n",
    "\n",
    "import pandas as pd\n",
    "import sqlite3"
   ]
  },
  {
   "cell_type": "code",
   "execution_count": 24,
   "id": "d82c4138",
   "metadata": {},
   "outputs": [
    {
     "name": "stderr",
     "output_type": "stream",
     "text": [
      "'rm' is not recognized as an internal or external command,\n",
      "operable program or batch file.\n",
      "'ls' is not recognized as an internal or external command,\n",
      "operable program or batch file.\n"
     ]
    }
   ],
   "source": [
    "!rm example_database.db\n",
    "!ls"
   ]
  },
  {
   "cell_type": "code",
   "execution_count": 27,
   "id": "d1553692",
   "metadata": {
    "slideshow": {
     "slide_type": "fragment"
    }
   },
   "outputs": [],
   "source": [
    "con = sqlite3.connect('example_database.db') "
   ]
  },
  {
   "cell_type": "code",
   "execution_count": null,
   "id": "aad2fc51",
   "metadata": {
    "slideshow": {
     "slide_type": "fragment"
    }
   },
   "outputs": [],
   "source": [
    "ls"
   ]
  },
  {
   "cell_type": "code",
   "execution_count": 29,
   "id": "9f4fb388",
   "metadata": {
    "slideshow": {
     "slide_type": "slide"
    }
   },
   "outputs": [],
   "source": [
    "## Create the cursor\n",
    "\n",
    "cursor = con.cursor()"
   ]
  },
  {
   "cell_type": "code",
   "execution_count": null,
   "id": "5bee32e3",
   "metadata": {},
   "outputs": [],
   "source": [
    "cursor.execute?"
   ]
  },
  {
   "cell_type": "code",
   "execution_count": null,
   "id": "28b7e557",
   "metadata": {
    "slideshow": {
     "slide_type": "fragment"
    }
   },
   "outputs": [],
   "source": [
    "cursor.execute('''CREATE TABLE Employees(id INTEGER PRIMARY KEY,\n",
    "                                         name TEXT,\n",
    "                                         salary INTEGER,  \n",
    "                                         education TEXT)''')"
   ]
  },
  {
   "cell_type": "code",
   "execution_count": null,
   "id": "d635e792",
   "metadata": {
    "slideshow": {
     "slide_type": "fragment"
    }
   },
   "outputs": [],
   "source": [
    "sqlite_insert = \"\"\"\n",
    "                INSERT INTO Employees(id, name, salary, education) \n",
    "                VALUES(1, 'Nora', 100000, 'Master')\n",
    "                \"\"\" \n",
    "\n",
    "cursor.execute(sqlite_insert)"
   ]
  },
  {
   "cell_type": "code",
   "execution_count": 33,
   "id": "1a39b14e",
   "metadata": {
    "slideshow": {
     "slide_type": "fragment"
    }
   },
   "outputs": [],
   "source": [
    "# Commit the employees data to the database\n",
    "\n",
    "con.commit()\n",
    "con.close()"
   ]
  },
  {
   "cell_type": "code",
   "execution_count": 34,
   "id": "ce72569f",
   "metadata": {
    "slideshow": {
     "slide_type": "slide"
    }
   },
   "outputs": [
    {
     "data": {
      "text/html": [
       "<div>\n",
       "<style scoped>\n",
       "    .dataframe tbody tr th:only-of-type {\n",
       "        vertical-align: middle;\n",
       "    }\n",
       "\n",
       "    .dataframe tbody tr th {\n",
       "        vertical-align: top;\n",
       "    }\n",
       "\n",
       "    .dataframe thead th {\n",
       "        text-align: right;\n",
       "    }\n",
       "</style>\n",
       "<table border=\"1\" class=\"dataframe\">\n",
       "  <thead>\n",
       "    <tr style=\"text-align: right;\">\n",
       "      <th></th>\n",
       "      <th>id</th>\n",
       "      <th>name</th>\n",
       "      <th>salary</th>\n",
       "      <th>education</th>\n",
       "    </tr>\n",
       "  </thead>\n",
       "  <tbody>\n",
       "    <tr>\n",
       "      <th>0</th>\n",
       "      <td>1</td>\n",
       "      <td>Nora</td>\n",
       "      <td>100000</td>\n",
       "      <td>Master</td>\n",
       "    </tr>\n",
       "  </tbody>\n",
       "</table>\n",
       "</div>"
      ],
      "text/plain": [
       "   id  name  salary education\n",
       "0   1  Nora  100000    Master"
      ]
     },
     "execution_count": 34,
     "metadata": {},
     "output_type": "execute_result"
    }
   ],
   "source": [
    "# Let's look at our newly created table\n",
    "\n",
    "con = sqlite3.connect(\"example_database.db\")\n",
    "Employees2 = pd.read_sql(\"SELECT * FROM Employees\", con)\n",
    "con.close()\n",
    "\n",
    "Employees2"
   ]
  },
  {
   "cell_type": "code",
   "execution_count": null,
   "id": "0eb352c1",
   "metadata": {
    "slideshow": {
     "slide_type": "slide"
    }
   },
   "outputs": [],
   "source": [
    "# We can add another row\n",
    "\n",
    "con = sqlite3.connect('example_database.db') \n",
    "cursor = con.cursor()\n",
    "sqlite_insert = \"\"\"\n",
    "                INSERT INTO Employees(id, name, salary, education) \n",
    "                VALUES(2, 'Ted', 90000, 'High school')\n",
    "                \"\"\" \n",
    "\n",
    "cursor.execute(sqlite_insert)\n",
    "cursor.commit()\n",
    "cursor.close()"
   ]
  },
  {
   "cell_type": "code",
   "execution_count": 35,
   "id": "f723443d",
   "metadata": {
    "slideshow": {
     "slide_type": "slide"
    }
   },
   "outputs": [
    {
     "data": {
      "text/html": [
       "<div>\n",
       "<style scoped>\n",
       "    .dataframe tbody tr th:only-of-type {\n",
       "        vertical-align: middle;\n",
       "    }\n",
       "\n",
       "    .dataframe tbody tr th {\n",
       "        vertical-align: top;\n",
       "    }\n",
       "\n",
       "    .dataframe thead th {\n",
       "        text-align: right;\n",
       "    }\n",
       "</style>\n",
       "<table border=\"1\" class=\"dataframe\">\n",
       "  <thead>\n",
       "    <tr style=\"text-align: right;\">\n",
       "      <th></th>\n",
       "      <th>id</th>\n",
       "      <th>name</th>\n",
       "      <th>salary</th>\n",
       "      <th>education</th>\n",
       "    </tr>\n",
       "  </thead>\n",
       "  <tbody>\n",
       "    <tr>\n",
       "      <th>0</th>\n",
       "      <td>1</td>\n",
       "      <td>Nora</td>\n",
       "      <td>100000</td>\n",
       "      <td>Master</td>\n",
       "    </tr>\n",
       "  </tbody>\n",
       "</table>\n",
       "</div>"
      ],
      "text/plain": [
       "   id  name  salary education\n",
       "0   1  Nora  100000    Master"
      ]
     },
     "execution_count": 35,
     "metadata": {},
     "output_type": "execute_result"
    }
   ],
   "source": [
    "con = sqlite3.connect(\"example_database.db\")\n",
    "Employees2 = pd.read_sql(\"SELECT * FROM Employees\", con)\n",
    "con.close()\n",
    "\n",
    "Employees2"
   ]
  },
  {
   "cell_type": "markdown",
   "id": "a621a474",
   "metadata": {
    "slideshow": {
     "slide_type": "slide"
    }
   },
   "source": [
    "# 4. Adding many rows to a database from Python\n"
   ]
  },
  {
   "cell_type": "code",
   "execution_count": 36,
   "id": "910cdc57",
   "metadata": {
    "slideshow": {
     "slide_type": "slide"
    }
   },
   "outputs": [],
   "source": [
    "# Create some random data\n",
    "\n",
    "import numpy as np\n",
    "\n",
    "ids = np.arange(1, 101)\n",
    "ages = np.random.randint(18, 75, size=100)\n",
    "names = np.random.choice(['John', 'Jane', 'Mary', 'Bob', 'Tom', 'Jack', 'Karl', 'Sue', 'Sally', 'Ida'],\n",
    "                         size=100)"
   ]
  },
  {
   "cell_type": "code",
   "execution_count": null,
   "id": "39cf4103",
   "metadata": {
    "slideshow": {
     "slide_type": "slide"
    }
   },
   "outputs": [],
   "source": [
    "# Create the table in our example database\n",
    "\n",
    "con = sqlite3.connect('example_database.db')\n",
    "cursor = con.cursor()\n",
    "cursor.execute('''CREATE TABLE Customers(id INTEGER PRIMARY KEY,\n",
    "                                         name STRING,\n",
    "                                         age INTEGER)''')"
   ]
  },
  {
   "cell_type": "code",
   "execution_count": 38,
   "id": "f7433702",
   "metadata": {
    "slideshow": {
     "slide_type": "slide"
    }
   },
   "outputs": [],
   "source": [
    "# We use a for loop to add the data\n",
    "# We can use a f-string to change the content of the sql-code for each iteration of the loop\n",
    "\n",
    "for i in range(100):\n",
    "    sqlite_insert = f\"INSERT INTO Customers(id, name, age) VALUES({ids[i]}, '{names[i]}', {ages[i]})\"\n",
    "    con.execute(sqlite_insert)\n",
    "con.commit() # Commit the changes to the database\n",
    "con.close()"
   ]
  },
  {
   "cell_type": "code",
   "execution_count": null,
   "id": "ed9bb8ff",
   "metadata": {
    "slideshow": {
     "slide_type": "slide"
    }
   },
   "outputs": [],
   "source": [
    "# Let's look at the new table\n",
    "\n",
    "con = sqlite3.connect(\"example_database.db\")\n",
    "Customers2 = pd.read_sql(\"SELECT * FROM Customers\", con)\n",
    "con.close()\n",
    "\n",
    "Customers2"
   ]
  }
 ],
 "metadata": {
  "celltoolbar": "Slideshow",
  "kernelspec": {
   "display_name": "Python 3 (ipykernel)",
   "language": "python",
   "name": "python3"
  },
  "language_info": {
   "codemirror_mode": {
    "name": "ipython",
    "version": 3
   },
   "file_extension": ".py",
   "mimetype": "text/x-python",
   "name": "python",
   "nbconvert_exporter": "python",
   "pygments_lexer": "ipython3",
   "version": "3.11.2"
  }
 },
 "nbformat": 4,
 "nbformat_minor": 5
}
