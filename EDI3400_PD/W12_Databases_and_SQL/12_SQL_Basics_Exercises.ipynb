{
 "cells": [
  {
   "cell_type": "markdown",
   "metadata": {},
   "source": [
    "# In class exercises1: Queries on a single table"
   ]
  },
  {
   "cell_type": "code",
   "execution_count": 1,
   "metadata": {},
   "outputs": [
    {
     "name": "stdout",
     "output_type": "stream",
     "text": [
      "[('Erik', 'Sales'), ('Sue', 'Admin'), ('Linda', 'Admin'), ('Anne', 'Service'), ('Mary', 'Service'), ('Tom', 'Sales'), ('John', 'Sales'), ('Joe', 'Sales'), ('Sofia', 'Sales'), ('Marie', 'Admin'), ('Bob', 'Sales'), ('Fred', 'Sales'), ('Sara', 'Sales'), ('Linda', 'Sales'), ('Anne', 'Service'), ('Karl', 'Sales'), ('Sally', 'Service'), ('Tom', 'Admin'), ('Sara', 'Service'), ('Jane', 'Service'), ('Eli', 'Sales'), ('John', 'Service'), ('Chris', 'Sales'), ('Nora', 'Sales'), ('Mary', 'Sales'), ('Fredrik', 'Service'), ('Ina', 'Sales'), ('Sofia', 'Service')]\n"
     ]
    }
   ],
   "source": [
    "# %load_ext isqlite3\n",
    "# %sql_open auto_dealership_database.db\n",
    "\n",
    "import sqlite3\n",
    "con = sqlite3.connect(\"auto_dealership_database.db\")\n",
    "cur = con.cursor()\n",
    "\n",
    "# 1.Select the name and the department for all the employees\n",
    "\n",
    "cur.execute(\"SELECT name, department FROM Employees\")\n",
    "name_department_employees = cur.fetchall()\n",
    "\n",
    "print(name_department_employees)\n",
    "\n",
    "# cur.close()\n",
    "# con.close()"
   ]
  },
  {
   "cell_type": "code",
   "execution_count": 2,
   "metadata": {},
   "outputs": [
    {
     "name": "stdout",
     "output_type": "stream",
     "text": [
      "[('Anne',), ('Anne',), ('Bob',), ('Chris',), ('Eli',), ('Erik',), ('Fred',), ('Fredrik',), ('Ina',), ('Jane',), ('Joe',), ('John',), ('John',), ('Karl',), ('Linda',), ('Linda',), ('Marie',), ('Mary',), ('Mary',), ('Nora',), ('Sally',), ('Sara',), ('Sara',), ('Sofia',), ('Sofia',), ('Sue',), ('Tom',), ('Tom',)]\n"
     ]
    }
   ],
   "source": [
    "# 2.Select all the names of the employees in alphabetical order\n",
    "\n",
    "import sqlite3\n",
    "con = sqlite3.connect(\"auto_dealership_database.db\")\n",
    "cur = con.cursor()\n",
    "\n",
    "cur.execute(\"SELECT name FROM Employees ORDER BY name ASC\")\n",
    "names_employee_alphabetical_order = cur.fetchall()\n",
    "\n",
    "print(names_employee_alphabetical_order)\n",
    "\n",
    "# cur.close()\n",
    "# con.close()"
   ]
  },
  {
   "cell_type": "code",
   "execution_count": 3,
   "metadata": {},
   "outputs": [
    {
     "name": "stdout",
     "output_type": "stream",
     "text": [
      "[(21, 'Eli', 176500, 'Master', 'Sales'), (7, 'John', 148200, 'Bachelor', 'Sales'), (8, 'Joe', 148100, 'Master', 'Sales'), (16, 'Karl', 136100, 'Master', 'Sales'), (9, 'Sofia', 117100, 'Bachelor', 'Sales'), (14, 'Linda', 116300, 'Bachelor', 'Sales'), (2, 'Sue', 116200, 'Bachelor', 'Admin'), (1, 'Erik', 114100, 'Bachelor', 'Sales'), (26, 'Fredrik', 105700, 'Master', 'Service'), (25, 'Mary', 104600, 'Master', 'Sales'), (12, 'Fred', 102000, 'High School', 'Sales'), (6, 'Tom', 95900, 'Bachelor', 'Sales'), (5, 'Mary', 89100, 'Bachelor', 'Service'), (17, 'Sally', 84100, 'Bachelor', 'Service'), (27, 'Ina', 81200, 'High School', 'Sales'), (18, 'Tom', 79300, 'High School', 'Admin'), (10, 'Marie', 79000, 'Bachelor', 'Admin'), (24, 'Nora', 77300, 'High School', 'Sales'), (4, 'Anne', 75900, 'Master', 'Service'), (11, 'Bob', 72200, 'High School', 'Sales'), (23, 'Chris', 68800, 'High School', 'Sales'), (3, 'Linda', 67200, 'High School', 'Admin'), (19, 'Sara', 67200, 'High School', 'Service'), (13, 'Sara', 59600, 'High School', 'Sales'), (15, 'Anne', 45600, 'Bachelor', 'Service'), (22, 'John', 44900, 'High School', 'Service'), (20, 'Jane', 42300, 'High School', 'Service'), (28, 'Sofia', 37800, 'High School', 'Service')]\n"
     ]
    }
   ],
   "source": [
    "# 3.Select all data on employees (from the Employees table) where the salaries are sorted from high to low\n",
    "\n",
    "import sqlite3\n",
    "con = sqlite3.connect(\"auto_dealership_database.db\")\n",
    "cur = con.cursor()\n",
    "\n",
    "cur.execute(\"SELECT * FROM Employees ORDER BY salary DESC\")\n",
    "high_to_low_salaries = cur.fetchall()\n",
    "\n",
    "print(high_to_low_salaries)\n",
    "\n",
    "# cur.close()\n",
    "# con.close()"
   ]
  },
  {
   "cell_type": "code",
   "execution_count": 5,
   "metadata": {},
   "outputs": [
    {
     "name": "stdout",
     "output_type": "stream",
     "text": [
      "[('Bachelor',), ('High School',), ('Master',)]\n"
     ]
    }
   ],
   "source": [
    "# 4.Use SELECT DISTINCT to select all distinct education levels in the Employees table\n",
    "\n",
    "import sqlite3\n",
    "con = sqlite3.connect(\"auto_dealership_database.db\")\n",
    "cur = con.cursor()\n",
    "\n",
    "cur.execute(\"SELECT DISTINCT education FROM Employees\")\n",
    "distinct_education_levels = cur.fetchall()\n",
    "\n",
    "print(distinct_education_levels)\n",
    "\n",
    "# cur.close()\n",
    "# con.close()"
   ]
  },
  {
   "cell_type": "code",
   "execution_count": 6,
   "metadata": {},
   "outputs": [
    {
     "name": "stdout",
     "output_type": "stream",
     "text": [
      "[(5066, 'Porsche', 'SUV', 2017, 'Blue', 244900.0, 26), (1068, 'Porsche', 'SUV', 2016, 'Brown', 223400.0, 22), (6501, 'Mercedes', 'Coupe', 2022, 'Purple', 222200.0, 5), (8453, 'Porsche', 'SUV', 2017, 'Black', 222100.0, 4), (8208, 'Porsche', 'Coupe', 2010, 'Blue', 217500.0, 26), (10056, 'Porsche', 'SUV', 2017, 'Yellow', 216800.0, 19), (9195, 'Porsche', 'Coupe', 2017, 'Black', 216400.0, 19), (5250, 'Porsche', 'SUV', 2012, 'Black', 209900.0, 5), (8314, 'Porsche', 'Coupe', 2009, 'Black', 208200.0, 28), (8050, 'Porsche', 'SUV', 2020, 'Blue', 207500.0, 19)]\n"
     ]
    }
   ],
   "source": [
    "# 5.Select all the columns in the Cars table for the 10 most expensive cars (highest mrsp)\n",
    "\n",
    "import sqlite3\n",
    "con = sqlite3.connect(\"auto_dealership_database.db\")\n",
    "cur = con.cursor()\n",
    "\n",
    "cur.execute(\"SELECT * FROM Cars ORDER BY msrp DESC LIMIT 10\")\n",
    "most_expensive_cars = cur.fetchall()\n",
    "\n",
    "print(most_expensive_cars)\n",
    "\n",
    "# cur.close()\n",
    "# con.close()"
   ]
  },
  {
   "cell_type": "code",
   "execution_count": 7,
   "metadata": {},
   "outputs": [
    {
     "name": "stdout",
     "output_type": "stream",
     "text": [
      "[(2, 'Sue', 116200, 'Bachelor', 'Admin'), (3, 'Linda', 67200, 'High School', 'Admin'), (10, 'Marie', 79000, 'Bachelor', 'Admin'), (18, 'Tom', 79300, 'High School', 'Admin')]\n"
     ]
    }
   ],
   "source": [
    "# 6.Select all the employees working in the Admin department\n",
    "\n",
    "import sqlite3\n",
    "con = sqlite3.connect(\"auto_dealership_database.db\")\n",
    "cur = con.cursor()\n",
    "\n",
    "cur.execute(\"SELECT * FROM Employees WHERE department = 'Admin'\")\n",
    "admin_employees = cur.fetchall()\n",
    "\n",
    "print(admin_employees)\n",
    "\n",
    "# cur.close()\n",
    "# con.close()"
   ]
  },
  {
   "cell_type": "markdown",
   "metadata": {},
   "source": [
    "# In class exercises2 : Queries involving several tables"
   ]
  },
  {
   "cell_type": "code",
   "execution_count": 2,
   "metadata": {},
   "outputs": [],
   "source": [
    "# %load_ext isqlite3\n",
    "# %sql_open auto_dealership_database.db\n",
    "\n",
    "import sqlite3\n",
    "con = sqlite3.connect(\"auto_dealership_database.db\")\n",
    "cur = con.cursor()\n",
    "\n",
    "# 1.Select all the columns from the Cars table together with the price from the Sales table where Sales.car_id = Cars.id\n",
    "\n",
    "sql_query = \"\"\"\n",
    "SELECT Cars.*, Sales.price\n",
    "FROM Cars\n",
    "JOIN Sales ON Sales.car_id = Cars.id;\n",
    "\"\"\"\n",
    "\n",
    "cur.execute(sql_query)\n",
    "joined_data = cur.fetchall()\n",
    "# print(joined_data) # Too much data to show the output\n",
    "\n",
    "# cur.close()\n",
    "# con.close()"
   ]
  },
  {
   "cell_type": "code",
   "execution_count": 7,
   "metadata": {},
   "outputs": [],
   "source": [
    "# 2.Create a new column that is the difference between the list_price and the price. You can create a new column as: Sales.list_price - Sales.price AS price_diff\n",
    "\n",
    "import sqlite3\n",
    "con = sqlite3.connect(\"auto_dealership_database.db\")\n",
    "cur = con.cursor()\n",
    "\n",
    "sql_query = \"\"\"\n",
    "SELECT *, Sales.list_price - Sales.price AS price_diff\n",
    "FROM Sales;\n",
    "\"\"\"\n",
    "\n",
    "cur.execute(sql_query)\n",
    "result_data_1 = cur.fetchall()\n",
    "# print(result_data_1) # Too much data to show the output\n",
    "\n",
    "# cur.close()\n",
    "# con.close()"
   ]
  },
  {
   "cell_type": "code",
   "execution_count": 6,
   "metadata": {},
   "outputs": [],
   "source": [
    "# 3.Create a new column that is the difference between the msrp and the price.\n",
    "\n",
    "import sqlite3\n",
    "con = sqlite3.connect(\"auto_dealership_database.db\")\n",
    "cur = con.cursor()\n",
    "\n",
    "sql_query = \"\"\"\n",
    "SELECT *, Cars.msrp - Sales.price AS price_diff\n",
    "FROM Cars\n",
    "JOIN Sales ON Cars.id = Sales.car_id;\n",
    "\"\"\"\n",
    "\n",
    "cur.execute(sql_query)\n",
    "result_data_2 = cur.fetchall()\n",
    "# print(result_data_2) # Too much data to show the output\n",
    "\n",
    "# cur.close()\n",
    "# con.close()"
   ]
  },
  {
   "cell_type": "code",
   "execution_count": 12,
   "metadata": {},
   "outputs": [
    {
     "name": "stdout",
     "output_type": "stream",
     "text": [
      "('Bob', 222400.0)\n"
     ]
    }
   ],
   "source": [
    "# 4.What employee sold the most expensive car?\n",
    "\n",
    "import sqlite3\n",
    "con = sqlite3.connect(\"auto_dealership_database.db\")\n",
    "cur = con.cursor()\n",
    "\n",
    "sql_query = \"\"\"\n",
    "SELECT Employees.name, MAX(Sales.price) AS highest_price\n",
    "FROM Employees\n",
    "JOIN Sales ON Employees.id = Sales.employee_id\n",
    "GROUP BY Employees.id\n",
    "ORDER BY highest_price DESC\n",
    "LIMIT 1;\n",
    "\"\"\"\n",
    "cur.execute(sql_query)\n",
    "result_data_3 = cur.fetchone() # fetchone() because we only want the first row\n",
    "print(result_data_3)\n",
    "\n",
    "# cur.close()\n",
    "# con.close()"
   ]
  },
  {
   "cell_type": "markdown",
   "metadata": {},
   "source": [
    "# In class exercises3 : Queries involving grouping and aggregates"
   ]
  },
  {
   "cell_type": "code",
   "execution_count": 14,
   "metadata": {},
   "outputs": [
    {
     "name": "stdout",
     "output_type": "stream",
     "text": [
      "(222400.0,)\n"
     ]
    }
   ],
   "source": [
    "# 1. Select the maximum sales price from the Sales table\n",
    "\n",
    "#################### Jupyter notebook solution ####################\n",
    "\n",
    "# %load_ext isqlite3\n",
    "# %sql_open auto_dealership_database.db\n",
    "\n",
    "# %%sql\n",
    "# -- Solution 1\n",
    "\n",
    "# SELECT max(Sales.price) AS max_price\n",
    "# FROM Sales\n",
    "\n",
    "#################### Python solution ####################\n",
    "\n",
    "import sqlite3\n",
    "con = sqlite3.connect(\"auto_dealership_database.db\")\n",
    "cur = con.cursor()\n",
    "\n",
    "sql_query = \"SELECT MAX(price) AS max_price FROM Sales;\"\n",
    "cur.execute(sql_query)\n",
    "result_data_1 = cur.fetchone()\n",
    "print(result_data_1)\n",
    "\n",
    "# cur.close()\n",
    "# con.close()"
   ]
  },
  {
   "cell_type": "code",
   "execution_count": 15,
   "metadata": {},
   "outputs": [
    {
     "name": "stdout",
     "output_type": "stream",
     "text": [
      "(10148,)\n"
     ]
    }
   ],
   "source": [
    "# 2. How many cars are in the Cars table (you can use the function `count(*)`)\n",
    "\n",
    "#################### Jupyter notebook solution ####################\n",
    "\n",
    "# %load_ext isqlite3\n",
    "# %sql_open auto_dealership_database.db\n",
    "\n",
    "# %%sql\n",
    "# -- Solution 2\n",
    "\n",
    "# SELECT count(*) AS total_number_of_cars\n",
    "# FROM Cars\n",
    "\n",
    "#################### Python solution ####################\n",
    "\n",
    "import sqlite3\n",
    "con = sqlite3.connect(\"auto_dealership_database.db\")\n",
    "cur = con.cursor()\n",
    "\n",
    "sql_query = \"SELECT COUNT(*) AS total_number_of_cars FROM Cars;\"\n",
    "cur.execute(sql_query)\n",
    "result_data_2 = cur.fetchone()\n",
    "print(result_data_2)\n",
    "\n",
    "# cur.close()\n",
    "# con.close()"
   ]
  },
  {
   "cell_type": "code",
   "execution_count": 16,
   "metadata": {},
   "outputs": [
    {
     "name": "stdout",
     "output_type": "stream",
     "text": [
      "('Toyota', 20937.0)\n"
     ]
    }
   ],
   "source": [
    "# 3. What is the average price of all the Toyotas sold (try to use `round()` to round the answer)\n",
    "\n",
    "#################### Juptyer notebook solution ####################\n",
    "\n",
    "# %load_ext isqlite3\n",
    "# %sql_open auto_dealership_database.db\n",
    "\n",
    "# %%sql \n",
    "# -- Solution 3\n",
    "\n",
    "# SELECT Cars.make, round(avg(Sales.price)) AS average_price\n",
    "# FROM Sales, Cars\n",
    "# WHERE Sales.car_id = Cars.id\n",
    "#     AND Cars.make = 'Toyota'\n",
    "\n",
    "#################### Python solution ####################\n",
    "\n",
    "import sqlite3\n",
    "con = sqlite3.connect(\"auto_dealership_database.db\")\n",
    "cur = con.cursor()\n",
    "\n",
    "sql_query = \"\"\"SELECT Cars.make, ROUND(AVG(Sales.price)) AS average_price\n",
    "               FROM Sales, Cars\n",
    "               WHERE Sales.car_id = Cars.id AND Cars.make = 'Toyota';\"\"\"\n",
    "\n",
    "cur.execute(sql_query)\n",
    "result_data_3 = cur.fetchone()\n",
    "print(result_data_3)\n",
    "\n",
    "# cur.close()\n",
    "# con.close()"
   ]
  },
  {
   "cell_type": "code",
   "execution_count": 17,
   "metadata": {},
   "outputs": [
    {
     "name": "stdout",
     "output_type": "stream",
     "text": [
      "(591,)\n"
     ]
    }
   ],
   "source": [
    "# 4. How many cars in the database are from 2006\n",
    "\n",
    "#################### Juptyer notebook solution ####################\n",
    "\n",
    "# %load_ext isqlite3\n",
    "# %sql_open auto_dealership_database.db\n",
    "\n",
    "# %%sql\n",
    "\n",
    "# SELECT count(*) AS number_of_cars_in_2006\n",
    "# FROM Cars\n",
    "# WHERE Cars.year = 2006\n",
    "\n",
    "\n",
    "#################### Python solution ####################\n",
    "\n",
    "import sqlite3\n",
    "con = sqlite3.connect(\"auto_dealership_database.db\")\n",
    "cur = con.cursor()\n",
    "\n",
    "sql_query = \"SELECT COUNT(*) AS number_of_cars_in_2006 FROM Cars WHERE Cars.year = 2006;\"\n",
    "cur.execute(sql_query)\n",
    "\n",
    "result_data_4 = cur.fetchone()\n",
    "\n",
    "print(result_data_4)\n",
    "\n",
    "# cur.close()\n",
    "# con.close()"
   ]
  }
 ],
 "metadata": {
  "kernelspec": {
   "display_name": "Python 3",
   "language": "python",
   "name": "python3"
  },
  "language_info": {
   "codemirror_mode": {
    "name": "ipython",
    "version": 3
   },
   "file_extension": ".py",
   "mimetype": "text/x-python",
   "name": "python",
   "nbconvert_exporter": "python",
   "pygments_lexer": "ipython3",
   "version": "3.11.2"
  }
 },
 "nbformat": 4,
 "nbformat_minor": 2
}
