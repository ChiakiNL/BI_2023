{
 "cells": [
  {
   "cell_type": "code",
   "execution_count": 1,
   "metadata": {},
   "outputs": [
    {
     "name": "stdout",
     "output_type": "stream",
     "text": [
      "[ 5 10 15 20 25 30 35 40 45 50]\n"
     ]
    }
   ],
   "source": [
    "# In class exercise 1: Basic Array Creation\n",
    "# Create a NumPy array of 10 integers starting from 5 and ending at 50 (inclusive) with equal intervals. You can use the np.linspace built in method. \n",
    "\n",
    "# Expected Output:\n",
    "\n",
    "# array([ 5, 10, 15, 20, 25, 30, 35, 40, 45, 50])\n",
    "\n",
    "import numpy as np\n",
    "\n",
    "array = np.linspace(5, 50, 10, dtype=int) #linspaceとは、指定した範囲内で、指定した数の等間隔な数値を返す関数\n",
    "print(array)"
   ]
  },
  {
   "cell_type": "code",
   "execution_count": 3,
   "metadata": {},
   "outputs": [
    {
     "name": "stdout",
     "output_type": "stream",
     "text": [
      "[[ 1  2  3  4]\n",
      " [ 5  6  7  8]\n",
      " [ 9 10 11 12]]\n"
     ]
    }
   ],
   "source": [
    "# In class exercise 2: Array Reshaping\n",
    "# Given the following NumPy array:\n",
    "\n",
    "# arr = np.array([1, 2, 3, 4, 5, 6, 7, 8, 9, 10, 11, 12])\n",
    "# Reshape it into a 3x4 matrix.\n",
    "\n",
    "# Expected Output:\n",
    "\n",
    "# array([[ 1, 2, 3, 4], \n",
    "#        [ 5, 6, 7, 8], \n",
    "#        [ 9, 10, 11, 12]])\n",
    "\n",
    "import numpy as np\n",
    "\n",
    "array = np.array([1, 2, 3, 4, 5, 6, 7, 8, 9, 10, 11, 12])\n",
    "reshaped_array = array.reshape(3, 4)\n",
    "\n",
    "print(reshaped_array)"
   ]
  },
  {
   "cell_type": "code",
   "execution_count": 5,
   "metadata": {},
   "outputs": [
    {
     "name": "stdout",
     "output_type": "stream",
     "text": [
      "Middle row: [4 5 6]\n",
      "Middle element of the middle row: 5\n"
     ]
    }
   ],
   "source": [
    "# In class exercise 3: Array Indexing\n",
    "# Given the following 2D NumPy array:\n",
    "\n",
    "# arr_2d = np.array([[1, 2, 3], [4, 5, 6], [7, 8, 9]])\n",
    "# Extract the middle row and the middle element of that row.\n",
    "\n",
    "# Expected Output:\n",
    "\n",
    "# Middle row: [4, 5, 6] \n",
    "# Middle element of the middle row: 5\n",
    "\n",
    "import numpy as np\n",
    "\n",
    "array_2d = np.array([[1, 2, 3], [4, 5, 6], [7, 8, 9]])\n",
    "middle_row = array_2d[1]\n",
    "middle_element = array_2d[1][1]\n",
    "\n",
    "print(\"Middle row:\", middle_row)\n",
    "print(\"Middle element of the middle row:\", middle_element)"
   ]
  },
  {
   "cell_type": "code",
   "execution_count": 6,
   "metadata": {},
   "outputs": [
    {
     "name": "stdout",
     "output_type": "stream",
     "text": [
      "32\n"
     ]
    }
   ],
   "source": [
    "# In class exercise 4: Basic Array Operations\n",
    "# Create two NumPy arrays a and b:\n",
    "\n",
    "# a = np.array([1, 2, 3]) \n",
    "# b = np.array([4, 5, 6])\n",
    "# Compute the dot product of a and b.\n",
    "\n",
    "# Expected Output:\n",
    "\n",
    "# 32\n",
    "\n",
    "import numpy as np\n",
    "\n",
    "a = np.array([1, 2, 3])\n",
    "b = np.array([4, 5, 6])\n",
    "\n",
    "dot_product = np.dot(a, b) # dot product = 内積\n",
    "\n",
    "print(dot_product)"
   ]
  },
  {
   "cell_type": "code",
   "execution_count": 20,
   "metadata": {},
   "outputs": [
    {
     "name": "stdout",
     "output_type": "stream",
     "text": [
      "array[65 70 85 90]\n"
     ]
    }
   ],
   "source": [
    "# In class exercise 5: Array Filtering\n",
    "# Given the following NumPy array:\n",
    "\n",
    "# arr = np.array([10, 25, 30, 45, 50, 65, 70, 85, 90, 105])\n",
    "# Create a new array that only contains values greater than 50 and less than 100.\n",
    "\n",
    "# Expected Output:\n",
    "\n",
    "# array([65, 70, 85, 90])\n",
    "\n",
    "import numpy as np\n",
    "\n",
    "arr = np.array([10, 25, 30, 45, 50, 65, 70, 85, 90, 105])\n",
    "new_arr = arr[(arr > 50) & (arr < 100)]\n",
    "\n",
    "print(f\"array{new_arr}\")"
   ]
  },
  {
   "cell_type": "code",
   "execution_count": 13,
   "metadata": {},
   "outputs": [
    {
     "name": "stdout",
     "output_type": "stream",
     "text": [
      "[[0. 0. 0.]\n",
      " [0. 0. 0.]\n",
      " [0. 0. 0.]]\n",
      "[[1. 1.]\n",
      " [1. 1.]]\n"
     ]
    }
   ],
   "source": [
    "# In class exercise 6: Zeroes and Ones\n",
    "# Create a 3x3 NumPy array filled with zeroes, and another 2x2 NumPy array filled with ones.\n",
    "\n",
    "import numpy as np\n",
    "\n",
    "zero_array = np.zeros((3, 3)) #zeros = 0で埋める\n",
    "one_array = np.ones((2, 2)) # ones = 1で埋める\n",
    "\n",
    "print(zero_array)\n",
    "print(one_array)"
   ]
  },
  {
   "cell_type": "code",
   "execution_count": 14,
   "metadata": {},
   "outputs": [
    {
     "name": "stdout",
     "output_type": "stream",
     "text": [
      "[[1. 0. 0. 0.]\n",
      " [0. 1. 0. 0.]\n",
      " [0. 0. 1. 0.]\n",
      " [0. 0. 0. 1.]]\n"
     ]
    }
   ],
   "source": [
    "# In class exercise 7: Diagonal Array\n",
    "# Create a 4x4 identity matrix (a square matrix in which all the elements of the principal diagonal are ones, and all other elements are zeros).\n",
    "\n",
    "import numpy as np\n",
    "\n",
    "identity_matrix = np.eye(4) #eye = 単位行列を作る\n",
    "print(identity_matrix)"
   ]
  },
  {
   "cell_type": "code",
   "execution_count": 17,
   "metadata": {},
   "outputs": [
    {
     "name": "stdout",
     "output_type": "stream",
     "text": [
      "[[ 5 12]\n",
      " [21 32]]\n",
      "[[ 5. 12.]\n",
      " [21. 32.]]\n"
     ]
    }
   ],
   "source": [
    "# In class exercise 8: Element-wise Multiplication\n",
    "# Given two arrays:\n",
    "\n",
    "# a = np.array([[1, 2], [3, 4]]) \n",
    "# b = np.array([[5, 6], [7, 8]])\n",
    "# Multiply them element-wise.\n",
    "\n",
    "# Hint: To multiply the two given arrays element-wise, you simply use the * operator. This will perform element-by-element multiplication rather than matrix multiplication (which is done with np.dot() or the @ operator in Python).\n",
    "\n",
    "# Complication: Do the element-wise multiplication using for loops.\n",
    "\n",
    "# However, it's important to note that using explicit loops in Python, especially with NumPy arrays, is often slower than using built-in vectorized operations.\n",
    "# The beauty of NumPy lies in its ability to perform operations on entire arrays at once without the need for explicit loops.\n",
    "# The loop-based method is mainly for understanding and is not recommended for large datasets or performance-sensitive tasks.\n",
    "\n",
    "# ---NumPy's Built-in Capabilities---\n",
    "\n",
    "import numpy as np\n",
    "\n",
    "a = np.array([[1, 2], [3, 4]])\n",
    "b = np.array([[5, 6], [7, 8]])\n",
    "\n",
    "element_wise_multiplication = a * b\n",
    "\n",
    "print(element_wise_multiplication)\n",
    "\n",
    "# ---Using for loops---\n",
    "\n",
    "import numpy as np\n",
    "\n",
    "rows, cols = a.shape\n",
    "result_loop = np.zeros((rows, cols))\n",
    "\n",
    "for i in range(rows):\n",
    "    for j in range(cols):\n",
    "        result_loop[i][j] = a[i][j] * b[i][j]\n",
    "\n",
    "print(result_loop)"
   ]
  },
  {
   "cell_type": "code",
   "execution_count": 18,
   "metadata": {},
   "outputs": [
    {
     "name": "stdout",
     "output_type": "stream",
     "text": [
      "[[1 4]\n",
      " [2 5]\n",
      " [3 6]]\n"
     ]
    }
   ],
   "source": [
    "# In class exercise 9: Array Transposition\n",
    "# Given the following array:\n",
    "\n",
    "# arr = np.array([[1, 2, 3],\n",
    "#                 [4, 5, 6]])\n",
    "# Transpose the array.\n",
    "\n",
    "import numpy as np\n",
    "\n",
    "array = np.array([[1, 2, 3],\n",
    "                  [4, 5, 6]])\n",
    "transposed_array = array.T #T = 転置行列\n",
    "\n",
    "print(transposed_array)"
   ]
  }
 ],
 "metadata": {
  "kernelspec": {
   "display_name": "Python 3",
   "language": "python",
   "name": "python3"
  },
  "language_info": {
   "codemirror_mode": {
    "name": "ipython",
    "version": 3
   },
   "file_extension": ".py",
   "mimetype": "text/x-python",
   "name": "python",
   "nbconvert_exporter": "python",
   "pygments_lexer": "ipython3",
   "version": "3.11.2"
  }
 },
 "nbformat": 4,
 "nbformat_minor": 2
}
