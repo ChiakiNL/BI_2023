{
 "cells": [
  {
   "cell_type": "markdown",
   "metadata": {},
   "source": [
    "## Command-promt/terminal/system-commands\n",
    "\n",
    "- `pwd` is a command that can be used to print the directory where you are currently standing\n",
    "- `ls` lists the content of the working directory\n",
    "- `less` show the content of a file\n",
    "\n",
    "**Note:** *These commands are not Python code but 'system'-commands. You may have to run them in a code cell with no other input on the first line in the cell. You can run all types of 'system'-commands if you start a line with the !-symbol. Windows and Unix have different system commands, but some standard Unix commands like 'pwd', 'ls' and 'less' is built into the Jupyter Notebook.*"
   ]
  },
  {
   "cell_type": "markdown",
   "metadata": {},
   "source": [
    "### The built in function `open()`\n",
    "\n",
    "- Open a file and return a corresponding file object that allow us to iteract with the content in the file\n",
    "- Syntax: `f = open('file', mode='rt')`\n",
    "- Some possible values of mode:\n",
    "    - `w` - open for writing\n",
    "    - `r` - open for reading (default)\n",
    "    - `b` - binary mode\n",
    "    - `t` - text mode (default)"
   ]
  },
  {
   "cell_type": "code",
   "execution_count": 6,
   "metadata": {},
   "outputs": [
    {
     "data": {
      "text/plain": [
       "'c:\\\\Users\\\\Chiaki Nishihara\\\\Documents\\\\GitHub\\\\Note\\\\EDI3400_PD\\\\W05_Opening_and_Writing_to_Files'"
      ]
     },
     "execution_count": 6,
     "metadata": {},
     "output_type": "execute_result"
    }
   ],
   "source": [
    "pwd"
   ]
  },
  {
   "cell_type": "code",
   "execution_count": 5,
   "metadata": {},
   "outputs": [
    {
     "name": "stdout",
     "output_type": "stream",
     "text": [
      "Hello, my name is Chiaki\n",
      "I hope you manage to see this text file."
     ]
    }
   ],
   "source": [
    "less test1.txt"
   ]
  },
  {
   "cell_type": "markdown",
   "metadata": {},
   "source": [
    "### Using \"with\" method and always close the opened file :)"
   ]
  },
  {
   "cell_type": "code",
   "execution_count": 2,
   "metadata": {},
   "outputs": [
    {
     "name": "stdout",
     "output_type": "stream",
     "text": [
      "Hello, my name is Chiaki\n",
      "I hope you manage to see this text file.\n"
     ]
    }
   ],
   "source": [
    "with open(\"test1.txt\") as file:\n",
    "    contents = file.read()\n",
    "    print(contents)"
   ]
  },
  {
   "cell_type": "markdown",
   "metadata": {},
   "source": [
    "### Add a new text in the existing file\n",
    "mode = \"a\" means append\n",
    "\n",
    "mode = \"w\" means write (delete the existing text and rewrite)"
   ]
  },
  {
   "cell_type": "code",
   "execution_count": 29,
   "metadata": {},
   "outputs": [],
   "source": [
    "with open(\"test1.txt\", mode = \"a\") as file:\n",
    "    file.write(\"\\nI am adding a new line again\") # Adding \\n (改行)自由選択"
   ]
  },
  {
   "cell_type": "markdown",
   "metadata": {},
   "source": [
    "### How to delete the previous line"
   ]
  },
  {
   "cell_type": "code",
   "execution_count": 28,
   "metadata": {},
   "outputs": [],
   "source": [
    "# Open the file in read mode and read its contents into a list\n",
    "with open(\"test1.txt\", mode=\"r\") as file:\n",
    "    lines = file.readlines()\n",
    "\n",
    "# Remove the last line (the one you want to delete) pop = delete\n",
    "lines.pop()\n",
    "\n",
    "# Open the file again in write mode to truncate and rewrite its contents\n",
    "with open(\"test1.txt\", mode=\"w\") as file:\n",
    "    # Write the remaining lines back to the file\n",
    "    file.writelines(lines)"
   ]
  },
  {
   "cell_type": "code",
   "execution_count": 30,
   "metadata": {},
   "outputs": [
    {
     "name": "stdout",
     "output_type": "stream",
     "text": [
      " Volume in drive C has no label.\n",
      " Volume Serial Number is 38B3-95C4\n",
      "\n",
      " Directory of c:\\Users\\Chiaki Nishihara\\Documents\\GitHub\\Note\\EDI3400_PD\\W05_Opening_and_Writing_to_Files\n",
      "\n",
      "09/20/2023  11:11 AM    <DIR>          .\n",
      "09/20/2023  11:11 AM    <DIR>          ..\n",
      "09/20/2023  12:05 PM                54 test1.txt\n",
      "09/19/2023  09:26 PM                21 testscript.py\n",
      "09/20/2023  12:05 PM             4,196 W05_Opening_and_Writing_to_Files.ipynb\n",
      "               3 File(s)          4,271 bytes\n",
      "               2 Dir(s)  65,911,189,504 bytes free\n"
     ]
    }
   ],
   "source": [
    "ls"
   ]
  },
  {
   "cell_type": "markdown",
   "metadata": {},
   "source": [
    "## Exercise 1: Write to File\n",
    "Objective: Write a Python program that asks the user for their name and age, and then writes this information to a text file called user_info.txt.\n",
    "\n",
    "Example Output in user_info.txt:\n",
    "\n",
    "Name: Alice\n",
    "\n",
    "Age: 30"
   ]
  },
  {
   "cell_type": "code",
   "execution_count": 32,
   "metadata": {},
   "outputs": [
    {
     "name": "stdout",
     "output_type": "stream",
     "text": [
      "Name: Chiaki\n",
      "Age: 27 \n"
     ]
    }
   ],
   "source": [
    "user_name = str(input(\"What is your name? \"))\n",
    "user_age = int(input(\"What is your age? \"))\n",
    "\n",
    "with open(\"user_info.txt\", mode = \"w\") as file:\n",
    "    file.write(f\"Name: {user_name}\\nAge: {user_age} \")\n",
    "\n",
    "with open(\"user_info.txt\") as file:\n",
    "    contents = file.read()\n",
    "    print(contents)"
   ]
  }
 ],
 "metadata": {
  "kernelspec": {
   "display_name": "Python 3",
   "language": "python",
   "name": "python3"
  },
  "language_info": {
   "codemirror_mode": {
    "name": "ipython",
    "version": 3
   },
   "file_extension": ".py",
   "mimetype": "text/x-python",
   "name": "python",
   "nbconvert_exporter": "python",
   "pygments_lexer": "ipython3",
   "version": "3.11.2"
  },
  "orig_nbformat": 4
 },
 "nbformat": 4,
 "nbformat_minor": 2
}
