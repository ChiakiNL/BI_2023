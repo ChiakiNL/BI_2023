{
 "cells": [
  {
   "cell_type": "code",
   "execution_count": 3,
   "metadata": {},
   "outputs": [
    {
     "name": "stdout",
     "output_type": "stream",
     "text": [
      "      Name  Age           City\n",
      "0    Alice   25       New York\n",
      "1      Bob   30  San Francisco\n",
      "2  Charlie   35    Los Angeles\n",
      "3    David   40        Chicago\n"
     ]
    }
   ],
   "source": [
    "# Exercise1\n",
    "# Create a pandas DataFrame from the following data:\n",
    "\n",
    "# data = {\n",
    "#     'Name': ['Alice', 'Bob', 'Charlie', 'David'],\n",
    "#     'Age': [25, 30, 35, 40],\n",
    "#     'City': ['New York', 'San Francisco', 'Los Angeles', 'Chicago']\n",
    "# }\n",
    "# Print the dataframe.\n",
    "\n",
    "import pandas as pd\n",
    "\n",
    "dataframe = pd.DataFrame({\n",
    "    'Name' : ['Alice', 'Bob', 'Charlie', 'David'],\n",
    "    'Age' : [25, 30, 35, 40],\n",
    "    'City' : ['New York', 'San Francisco', 'Los Angeles', 'Chicago']\n",
    "})\n",
    "print(dataframe)"
   ]
  },
  {
   "cell_type": "code",
   "execution_count": null,
   "metadata": {},
   "outputs": [],
   "source": [
    "# Exercise2\n",
    "# In class exercise 2: Indexing and Selection\n",
    "# Create the same dataframe as in exercise 1 and select the 'Age' column and the row corresponding to 'Charlie'.\n",
    "\n",
    "import pandas as pd\n",
    "\n",
    "\n"
   ]
  }
 ],
 "metadata": {
  "kernelspec": {
   "display_name": "Python 3",
   "language": "python",
   "name": "python3"
  },
  "language_info": {
   "codemirror_mode": {
    "name": "ipython",
    "version": 3
   },
   "file_extension": ".py",
   "mimetype": "text/x-python",
   "name": "python",
   "nbconvert_exporter": "python",
   "pygments_lexer": "ipython3",
   "version": "3.11.2"
  }
 },
 "nbformat": 4,
 "nbformat_minor": 2
}
