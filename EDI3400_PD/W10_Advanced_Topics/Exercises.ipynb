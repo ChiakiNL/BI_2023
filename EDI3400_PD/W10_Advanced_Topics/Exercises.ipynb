{
 "cells": [
  {
   "cell_type": "markdown",
   "metadata": {},
   "source": [
    "# In class exercise1 : Life expectancy\n",
    "Use the 'healthexp' dataset:"
   ]
  },
  {
   "cell_type": "code",
   "execution_count": 3,
   "metadata": {},
   "outputs": [],
   "source": [
    "import seaborn as sns\n",
    "healthexp = sns.load_dataset('healthexp')"
   ]
  },
  {
   "cell_type": "markdown",
   "metadata": {},
   "source": [
    "Alternatively:"
   ]
  },
  {
   "cell_type": "code",
   "execution_count": 7,
   "metadata": {},
   "outputs": [],
   "source": [
    "import pandas as pd\n",
    "healthexp = pd.read_csv('healthexp.csv')"
   ]
  },
  {
   "cell_type": "markdown",
   "metadata": {},
   "source": [
    "And answer the following questions:\n",
    "\n",
    "- What is the mean life expectancy in the US?\n",
    "\n",
    "- What about Japan?\n",
    "\n",
    "- Plot the development in health care spending for the US and Japan over time\n",
    "\n",
    "- Plot the development in life expectancy for the US and Japan over time\n",
    "\n",
    "- List all the unique countries in the data set. Rank them according to mean life expectancy and the mean health care spending\n",
    "\n",
    "- Calculate the absolute (and percentage) change for health care spending and life expectancy from 1970 to 2020 for all countries (There is no data available for Canada in 1970)"
   ]
  },
  {
   "cell_type": "code",
   "execution_count": 10,
   "metadata": {},
   "outputs": [
    {
     "ename": "NameError",
     "evalue": "name 'df' is not defined",
     "output_type": "error",
     "traceback": [
      "\u001b[1;31m---------------------------------------------------------------------------\u001b[0m",
      "\u001b[1;31mNameError\u001b[0m                                 Traceback (most recent call last)",
      "\u001b[1;32mc:\\Users\\Chiaki Nishihara\\Documents\\GitHub\\Note\\EDI3400_PD\\W10_Advanced_Topics\\Exercises.ipynb Cell 6\u001b[0m line \u001b[0;36m4\n\u001b[0;32m      <a href='vscode-notebook-cell:/c%3A/Users/Chiaki%20Nishihara/Documents/GitHub/Note/EDI3400_PD/W10_Advanced_Topics/Exercises.ipynb#X15sZmlsZQ%3D%3D?line=0'>1</a>\u001b[0m \u001b[39mimport\u001b[39;00m \u001b[39mmatplotlib\u001b[39;00m\u001b[39m.\u001b[39;00m\u001b[39mpyplot\u001b[39;00m \u001b[39mas\u001b[39;00m \u001b[39mplt\u001b[39;00m\n\u001b[0;32m      <a href='vscode-notebook-cell:/c%3A/Users/Chiaki%20Nishihara/Documents/GitHub/Note/EDI3400_PD/W10_Advanced_Topics/Exercises.ipynb#X15sZmlsZQ%3D%3D?line=2'>3</a>\u001b[0m \u001b[39m# USA Life expectancy \u001b[39;00m\n\u001b[1;32m----> <a href='vscode-notebook-cell:/c%3A/Users/Chiaki%20Nishihara/Documents/GitHub/Note/EDI3400_PD/W10_Advanced_Topics/Exercises.ipynb#X15sZmlsZQ%3D%3D?line=3'>4</a>\u001b[0m mean_life_exp_us \u001b[39m=\u001b[39m df[df[\u001b[39m'\u001b[39m\u001b[39mCountry\u001b[39m\u001b[39m'\u001b[39m] \u001b[39m==\u001b[39m \u001b[39m'\u001b[39m\u001b[39mUSA\u001b[39m\u001b[39m'\u001b[39m][\u001b[39m'\u001b[39m\u001b[39mLife_Expectancy\u001b[39m\u001b[39m'\u001b[39m]\u001b[39m.\u001b[39mmean()\n\u001b[0;32m      <a href='vscode-notebook-cell:/c%3A/Users/Chiaki%20Nishihara/Documents/GitHub/Note/EDI3400_PD/W10_Advanced_Topics/Exercises.ipynb#X15sZmlsZQ%3D%3D?line=5'>6</a>\u001b[0m \u001b[39m# Japan life expectancy\u001b[39;00m\n\u001b[0;32m      <a href='vscode-notebook-cell:/c%3A/Users/Chiaki%20Nishihara/Documents/GitHub/Note/EDI3400_PD/W10_Advanced_Topics/Exercises.ipynb#X15sZmlsZQ%3D%3D?line=6'>7</a>\u001b[0m mean_life_exp_japan \u001b[39m=\u001b[39m df[df[\u001b[39m'\u001b[39m\u001b[39mCountry\u001b[39m\u001b[39m'\u001b[39m] \u001b[39m==\u001b[39m \u001b[39m'\u001b[39m\u001b[39mJapan\u001b[39m\u001b[39m'\u001b[39m][\u001b[39m'\u001b[39m\u001b[39mLife_Expectancy\u001b[39m\u001b[39m'\u001b[39m]\u001b[39m.\u001b[39mmean()\n",
      "\u001b[1;31mNameError\u001b[0m: name 'df' is not defined"
     ]
    }
   ],
   "source": [
    "import matplotlib.pyplot as plt\n",
    "\n",
    "# USA Life expectancy \n",
    "mean_life_exp_us = df[df['Country'] == 'USA']['Life_Expectancy'].mean()\n",
    "\n",
    "# Japan life expectancy\n",
    "mean_life_exp_japan = df[df['Country'] == 'Japan']['Life_Expectancy'].mean()\n"
   ]
  },
  {
   "cell_type": "markdown",
   "metadata": {},
   "source": [
    "# In class exercise2: Penguins dataset\n",
    "## 1: Basic Analysis and Data Overview\n",
    "Load the penguins dataset and display the first 10 rows.\n",
    "\n",
    "Determine the number of rows and columns in the dataset.\n",
    "\n",
    "Check for any missing values in the dataset.\n",
    "\n",
    "## 2: Descriptive Statistics\n",
    "Get the summary statistics for the numerical columns in the dataset.\n",
    "\n",
    "Find the mean bill length of penguins.\n",
    "\n",
    "## 3: Data Visualization\n",
    "Create a histogram of the bill lengths of the penguins.\n",
    "\n",
    "Plot a bar chart showing the number of penguins per species.\n",
    "\n",
    "## 4: Data Filtering\n",
    "Find the number of male penguins in the dataset.\n",
    "\n",
    "Extract the records of penguins with a body mass greater than 4500 grams.\n",
    "\n",
    "## 5: Data Aggregation\n",
    "Find the average bill length for each species of penguin."
   ]
  }
 ],
 "metadata": {
  "kernelspec": {
   "display_name": "Python 3",
   "language": "python",
   "name": "python3"
  },
  "language_info": {
   "codemirror_mode": {
    "name": "ipython",
    "version": 3
   },
   "file_extension": ".py",
   "mimetype": "text/x-python",
   "name": "python",
   "nbconvert_exporter": "python",
   "pygments_lexer": "ipython3",
   "version": "3.11.2"
  }
 },
 "nbformat": 4,
 "nbformat_minor": 2
}
