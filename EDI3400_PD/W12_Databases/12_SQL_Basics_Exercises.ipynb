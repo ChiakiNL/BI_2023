{
 "cells": [
  {
   "cell_type": "code",
   "execution_count": 6,
   "metadata": {},
   "outputs": [
    {
     "name": "stdout",
     "output_type": "stream",
     "text": [
      "[('Employees',), ('Customers',), ('Sales',)]\n"
     ]
    }
   ],
   "source": [
    "# In class exercises1: Queries on a single table\n",
    "\n",
    "%load_ext isqlite3\n",
    "%sql_open auto_dealership_database.db\n",
    "\n",
    "# 1.Select the name and the department for all the employees\n",
    "\n",
    "# 2.Select all the names of the employees in alphabetical order\n",
    "\n",
    "# 3.Select all data on employees (from the Employees table) where the salaries are sorted from high to low\n",
    "\n",
    "# 4.Use SELECT DISTINCT to select all distinct education levels in the Employees table\n",
    "\n",
    "# 5.Select all the columns in the Cars table for the 10 most expensive cars (highest mrsp)\n",
    "\n",
    "# 6.Select all the employees working in the Admin department"
   ]
  },
  {
   "cell_type": "code",
   "execution_count": null,
   "metadata": {},
   "outputs": [],
   "source": [
    "# In class exercises2 : Queries involving several tables\n",
    "\n",
    "%load_ext isqlite3\n",
    "%sql_open auto_dealership_database.db\n",
    "\n",
    "# 1.Select all the columns from the Cars table together with the price from the Sales table where Sales.car_id = Cars.id\n",
    "\n",
    "# 2.Create a new column that is the difference between the list_price and the price. You can create a new column as: Sales.list_price - Sales.price AS price_diff\n",
    "\n",
    "# 3.Create a new column that is the difference between the msrp and the price.\n",
    "\n",
    "# 4.What employee sold the most expensive car?\n"
   ]
  },
  {
   "cell_type": "code",
   "execution_count": null,
   "metadata": {},
   "outputs": [],
   "source": [
    "# In class exercises3 : Queries involving grouping and aggregates\n",
    "\n",
    "%load_ext isqlite3\n",
    "%sql_open auto_dealership_database.db\n",
    "\n",
    "# 1. Select the maximum sales price from the Sales table\n",
    "\n",
    "%%sql\n",
    "-- Solution 1\n",
    "\n",
    "SELECT max(Sales.price) AS max_price\n",
    "FROM Sales\n",
    "\n",
    "# 2. How many cars are in the Cars table (you can use the function `count(*)`)\n",
    "\n",
    "%%sql\n",
    "-- Solution 2\n",
    "\n",
    "SELECT count(*) AS total_number_of_cars\n",
    "FROM Cars\n",
    "\n",
    "\n",
    "# 3. What is the average price of all the Toyotas sold (try to use `round()` to round the answer)\n",
    "\n",
    "%%sql \n",
    "-- Solution 3\n",
    "\n",
    "SELECT Cars.make, round(avg(Sales.price)) AS average_price\n",
    "FROM Sales, Cars\n",
    "WHERE Sales.car_id = Cars.id\n",
    "    AND Cars.make = 'Toyota'\n",
    "\n",
    "\n",
    "# 4. How many cars in the database are from 2006\n",
    "\n",
    "%%sql\n",
    "\n",
    "SELECT count(*) AS number_of_cars_in_2006\n",
    "FROM Cars\n",
    "WHERE Cars.year = 2006"
   ]
  }
 ],
 "metadata": {
  "kernelspec": {
   "display_name": "Python 3",
   "language": "python",
   "name": "python3"
  },
  "language_info": {
   "codemirror_mode": {
    "name": "ipython",
    "version": 3
   },
   "file_extension": ".py",
   "mimetype": "text/x-python",
   "name": "python",
   "nbconvert_exporter": "python",
   "pygments_lexer": "ipython3",
   "version": "3.11.2"
  }
 },
 "nbformat": 4,
 "nbformat_minor": 2
}
