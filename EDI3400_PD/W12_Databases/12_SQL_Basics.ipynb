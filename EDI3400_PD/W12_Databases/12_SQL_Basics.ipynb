{
    "metadata": {
        "kernelspec": {
            "name": "python3",
            "display_name": "Python 3 (ipykernel)",
            "language": "python"
        }
    },
    "nbformat": 4,
    "nbformat_minor": 5,
    "cells": [
        {
            "attachments": {},
            "cell_type": "markdown",
            "metadata": {},
            "source": [
                "# SQL Basics\n",
                "\n",
                "## Course: Programming and Data Management (EDI 3400)\n",
                "\n",
                "### *Vegard H. Larsen (Department of Data Science and Analytics)*"
            ]
        },
        {
            "attachments": {},
            "cell_type": "markdown",
            "metadata": {},
            "source": [
                "# 1. The Auto Dealership Database"
            ]
        },
        {
            "attachments": {},
            "cell_type": "markdown",
            "metadata": {},
            "source": [
                "## Let's look at the database in DB browser for SQLite"
            ]
        },
        {
            "attachments": {},
            "cell_type": "markdown",
            "metadata": {},
            "source": [
                "# 2. Running SQL-code in the Notebook\n",
                "\n",
                "## An SQL-extension\n",
                "\n",
                "- Download the file `isqlite3.py` from Ed \n",
                "- The file `isqlite3.py` must be stored in the same folder as the Notebook\n",
                "- Developed by my colleague Jan Kudlicka\n",
                "- We can now run SQL queries directly in notebook cells "
            ]
        },
        {
            "cell_type": "code",
            "execution_count": 1,
            "metadata": {},
            "outputs": [
                {
                    "name": "stdout",
                    "output_type": "stream",
                    "text": "Done!\n"
                }
            ],
            "source": [
                "%load_ext isqlite3"
            ]
        },
        {
            "cell_type": "code",
            "execution_count": 2,
            "metadata": {},
            "outputs": [
                {
                    "name": "stdout",
                    "output_type": "stream",
                    "text": "Done!\n"
                }
            ],
            "source": [
                "%sql_open files/auto_dealership_database.db"
            ]
        },
        {
            "attachments": {},
            "cell_type": "markdown",
            "metadata": {},
            "source": [
                "## Employees table"
            ]
        },
        {
            "cell_type": "code",
            "execution_count": 3,
            "metadata": {},
            "outputs": [
                {
                    "data": {
                        "text/html": [
                            "\u003ctable\u003e\u003cthead\u003e\u003ctr\u003e\u003cth style=\"text-align: left\"\u003eid\u003c/th\u003e\u003cth style=\"text-align: left\"\u003ename\u003c/th\u003e\u003cth style=\"text-align: left\"\u003esalary\u003c/th\u003e\u003cth style=\"text-align: left\"\u003eeducation\u003c/th\u003e\u003cth style=\"text-align: left\"\u003edepartment\u003c/th\u003e\u003c/tr\u003e\u003c/thead\u003e\u003ctbody\u003e\u003ctr\u003e\u003ctd style=\"text-align: right\"\u003e1\u003c/td\u003e\u003ctd style=\"text-align: left\"\u003eErik\u003c/td\u003e\u003ctd style=\"text-align: right\"\u003e114100\u003c/td\u003e\u003ctd style=\"text-align: left\"\u003eBachelor\u003c/td\u003e\u003ctd style=\"text-align: left\"\u003eSales\u003c/td\u003e\u003c/tr\u003e\u003ctr\u003e\u003ctd style=\"text-align: right\"\u003e2\u003c/td\u003e\u003ctd style=\"text-align: left\"\u003eSue\u003c/td\u003e\u003ctd style=\"text-align: right\"\u003e116200\u003c/td\u003e\u003ctd style=\"text-align: left\"\u003eBachelor\u003c/td\u003e\u003ctd style=\"text-align: left\"\u003eAdmin\u003c/td\u003e\u003c/tr\u003e\u003ctr\u003e\u003ctd style=\"text-align: right\"\u003e3\u003c/td\u003e\u003ctd style=\"text-align: left\"\u003eLinda\u003c/td\u003e\u003ctd style=\"text-align: right\"\u003e67200\u003c/td\u003e\u003ctd style=\"text-align: left\"\u003eHigh School\u003c/td\u003e\u003ctd style=\"text-align: left\"\u003eAdmin\u003c/td\u003e\u003c/tr\u003e\u003ctr\u003e\u003ctd style=\"text-align: right\"\u003e4\u003c/td\u003e\u003ctd style=\"text-align: left\"\u003eAnne\u003c/td\u003e\u003ctd style=\"text-align: right\"\u003e75900\u003c/td\u003e\u003ctd style=\"text-align: left\"\u003eMaster\u003c/td\u003e\u003ctd style=\"text-align: left\"\u003eService\u003c/td\u003e\u003c/tr\u003e\u003ctr\u003e\u003ctd style=\"text-align: right\"\u003e5\u003c/td\u003e\u003ctd style=\"text-align: left\"\u003eMary\u003c/td\u003e\u003ctd style=\"text-align: right\"\u003e89100\u003c/td\u003e\u003ctd style=\"text-align: left\"\u003eBachelor\u003c/td\u003e\u003ctd style=\"text-align: left\"\u003eService\u003c/td\u003e\u003c/tr\u003e\u003ctr\u003e\u003ctd style=\"text-align: right\"\u003e6\u003c/td\u003e\u003ctd style=\"text-align: left\"\u003eTom\u003c/td\u003e\u003ctd style=\"text-align: right\"\u003e95900\u003c/td\u003e\u003ctd style=\"text-align: left\"\u003eBachelor\u003c/td\u003e\u003ctd style=\"text-align: left\"\u003eSales\u003c/td\u003e\u003c/tr\u003e\u003ctr\u003e\u003ctd style=\"text-align: right\"\u003e7\u003c/td\u003e\u003ctd style=\"text-align: left\"\u003eJohn\u003c/td\u003e\u003ctd style=\"text-align: right\"\u003e148200\u003c/td\u003e\u003ctd style=\"text-align: left\"\u003eBachelor\u003c/td\u003e\u003ctd style=\"text-align: left\"\u003eSales\u003c/td\u003e\u003c/tr\u003e\u003ctr\u003e\u003ctd style=\"text-align: right\"\u003e8\u003c/td\u003e\u003ctd style=\"text-align: left\"\u003eJoe\u003c/td\u003e\u003ctd style=\"text-align: right\"\u003e148100\u003c/td\u003e\u003ctd style=\"text-align: left\"\u003eMaster\u003c/td\u003e\u003ctd style=\"text-align: left\"\u003eSales\u003c/td\u003e\u003c/tr\u003e\u003ctr\u003e\u003ctd style=\"text-align: right\"\u003e9\u003c/td\u003e\u003ctd style=\"text-align: left\"\u003eSofia\u003c/td\u003e\u003ctd style=\"text-align: right\"\u003e117100\u003c/td\u003e\u003ctd style=\"text-align: left\"\u003eBachelor\u003c/td\u003e\u003ctd style=\"text-align: left\"\u003eSales\u003c/td\u003e\u003c/tr\u003e\u003ctr\u003e\u003ctd style=\"text-align: right\"\u003e10\u003c/td\u003e\u003ctd style=\"text-align: left\"\u003eMarie\u003c/td\u003e\u003ctd style=\"text-align: right\"\u003e79000\u003c/td\u003e\u003ctd style=\"text-align: left\"\u003eBachelor\u003c/td\u003e\u003ctd style=\"text-align: left\"\u003eAdmin\u003c/td\u003e\u003c/tr\u003e\u003c/tbody\u003e\u003c/table\u003e"
                        ],
                        "text/plain": [
                            "\u003cIPython.core.display.HTML object\u003e"
                        ]
                    },
                    "execution_count": 3,
                    "metadata": {},
                    "output_type": "execute_result"
                }
            ],
            "source": [
                "%%sql\n",
                "\n",
                "SELECT * FROM Employees LIMIT 10"
            ]
        },
        {
            "attachments": {},
            "cell_type": "markdown",
            "metadata": {},
            "source": [
                "## Cars table"
            ]
        },
        {
            "cell_type": "code",
            "execution_count": 4,
            "metadata": {},
            "outputs": [
                {
                    "data": {
                        "text/html": [
                            "\u003ctable\u003e\u003cthead\u003e\u003ctr\u003e\u003cth style=\"text-align: left\"\u003eid\u003c/th\u003e\u003cth style=\"text-align: left\"\u003emake\u003c/th\u003e\u003cth style=\"text-align: left\"\u003etype\u003c/th\u003e\u003cth style=\"text-align: left\"\u003eyear\u003c/th\u003e\u003cth style=\"text-align: left\"\u003ecolor\u003c/th\u003e\u003cth style=\"text-align: left\"\u003emsrp\u003c/th\u003e\u003cth style=\"text-align: left\"\u003eemployee_id\u003c/th\u003e\u003c/tr\u003e\u003c/thead\u003e\u003ctbody\u003e\u003ctr\u003e\u003ctd style=\"text-align: right\"\u003e1\u003c/td\u003e\u003ctd style=\"text-align: left\"\u003eBMW\u003c/td\u003e\u003ctd style=\"text-align: left\"\u003eHatchback\u003c/td\u003e\u003ctd style=\"text-align: right\"\u003e2007\u003c/td\u003e\u003ctd style=\"text-align: left\"\u003eSilver\u003c/td\u003e\u003ctd style=\"text-align: right\"\u003e49400.0\u003c/td\u003e\u003ctd style=\"text-align: right\"\u003e19\u003c/td\u003e\u003c/tr\u003e\u003ctr\u003e\u003ctd style=\"text-align: right\"\u003e2\u003c/td\u003e\u003ctd style=\"text-align: left\"\u003eAudi\u003c/td\u003e\u003ctd style=\"text-align: left\"\u003eSUV\u003c/td\u003e\u003ctd style=\"text-align: right\"\u003e2012\u003c/td\u003e\u003ctd style=\"text-align: left\"\u003eRed\u003c/td\u003e\u003ctd style=\"text-align: right\"\u003e58000.0\u003c/td\u003e\u003ctd style=\"text-align: right\"\u003e17\u003c/td\u003e\u003c/tr\u003e\u003ctr\u003e\u003ctd style=\"text-align: right\"\u003e3\u003c/td\u003e\u003ctd style=\"text-align: left\"\u003eToyota\u003c/td\u003e\u003ctd style=\"text-align: left\"\u003eSUV\u003c/td\u003e\u003ctd style=\"text-align: right\"\u003e2007\u003c/td\u003e\u003ctd style=\"text-align: left\"\u003eSilver\u003c/td\u003e\u003ctd style=\"text-align: right\"\u003e41400.0\u003c/td\u003e\u003ctd style=\"text-align: right\"\u003e4\u003c/td\u003e\u003c/tr\u003e\u003ctr\u003e\u003ctd style=\"text-align: right\"\u003e4\u003c/td\u003e\u003ctd style=\"text-align: left\"\u003eHonda\u003c/td\u003e\u003ctd style=\"text-align: left\"\u003eCoupe\u003c/td\u003e\u003ctd style=\"text-align: right\"\u003e2012\u003c/td\u003e\u003ctd style=\"text-align: left\"\u003eBlue\u003c/td\u003e\u003ctd style=\"text-align: right\"\u003e41100.0\u003c/td\u003e\u003ctd style=\"text-align: right\"\u003e4\u003c/td\u003e\u003c/tr\u003e\u003ctr\u003e\u003ctd style=\"text-align: right\"\u003e5\u003c/td\u003e\u003ctd style=\"text-align: left\"\u003eAudi\u003c/td\u003e\u003ctd style=\"text-align: left\"\u003eSedan\u003c/td\u003e\u003ctd style=\"text-align: right\"\u003e2009\u003c/td\u003e\u003ctd style=\"text-align: left\"\u003eRed\u003c/td\u003e\u003ctd style=\"text-align: right\"\u003e78100.0\u003c/td\u003e\u003ctd style=\"text-align: right\"\u003e4\u003c/td\u003e\u003c/tr\u003e\u003ctr\u003e\u003ctd style=\"text-align: right\"\u003e6\u003c/td\u003e\u003ctd style=\"text-align: left\"\u003eMercedes\u003c/td\u003e\u003ctd style=\"text-align: left\"\u003eEstate\u003c/td\u003e\u003ctd style=\"text-align: right\"\u003e2007\u003c/td\u003e\u003ctd style=\"text-align: left\"\u003eSilver\u003c/td\u003e\u003ctd style=\"text-align: right\"\u003e99300.0\u003c/td\u003e\u003ctd style=\"text-align: right\"\u003e22\u003c/td\u003e\u003c/tr\u003e\u003ctr\u003e\u003ctd style=\"text-align: right\"\u003e7\u003c/td\u003e\u003ctd style=\"text-align: left\"\u003eVolkswagen\u003c/td\u003e\u003ctd style=\"text-align: left\"\u003eHatchback\u003c/td\u003e\u003ctd style=\"text-align: right\"\u003e2013\u003c/td\u003e\u003ctd style=\"text-align: left\"\u003eBlue\u003c/td\u003e\u003ctd style=\"text-align: right\"\u003e28700.0\u003c/td\u003e\u003ctd style=\"text-align: right\"\u003e26\u003c/td\u003e\u003c/tr\u003e\u003ctr\u003e\u003ctd style=\"text-align: right\"\u003e8\u003c/td\u003e\u003ctd style=\"text-align: left\"\u003eToyota\u003c/td\u003e\u003ctd style=\"text-align: left\"\u003eSedan\u003c/td\u003e\u003ctd style=\"text-align: right\"\u003e2019\u003c/td\u003e\u003ctd style=\"text-align: left\"\u003eRed\u003c/td\u003e\u003ctd style=\"text-align: right\"\u003e42300.0\u003c/td\u003e\u003ctd style=\"text-align: right\"\u003e22\u003c/td\u003e\u003c/tr\u003e\u003ctr\u003e\u003ctd style=\"text-align: right\"\u003e9\u003c/td\u003e\u003ctd style=\"text-align: left\"\u003eBMW\u003c/td\u003e\u003ctd style=\"text-align: left\"\u003eSedan\u003c/td\u003e\u003ctd style=\"text-align: right\"\u003e2010\u003c/td\u003e\u003ctd style=\"text-align: left\"\u003eBlack\u003c/td\u003e\u003ctd style=\"text-align: right\"\u003e55700.0\u003c/td\u003e\u003ctd style=\"text-align: right\"\u003e4\u003c/td\u003e\u003c/tr\u003e\u003ctr\u003e\u003ctd style=\"text-align: right\"\u003e10\u003c/td\u003e\u003ctd style=\"text-align: left\"\u003eAudi\u003c/td\u003e\u003ctd style=\"text-align: left\"\u003eSedan\u003c/td\u003e\u003ctd style=\"text-align: right\"\u003e2016\u003c/td\u003e\u003ctd style=\"text-align: left\"\u003eSilver\u003c/td\u003e\u003ctd style=\"text-align: right\"\u003e63700.0\u003c/td\u003e\u003ctd style=\"text-align: right\"\u003e26\u003c/td\u003e\u003c/tr\u003e\u003c/tbody\u003e\u003c/table\u003e"
                        ],
                        "text/plain": [
                            "\u003cIPython.core.display.HTML object\u003e"
                        ]
                    },
                    "execution_count": 4,
                    "metadata": {},
                    "output_type": "execute_result"
                }
            ],
            "source": [
                "%%sql\n",
                "\n",
                "SELECT * \n",
                "FROM Cars \n",
                "LIMIT 10"
            ]
        },
        {
            "attachments": {},
            "cell_type": "markdown",
            "metadata": {},
            "source": [
                "## Sales table"
            ]
        },
        {
            "cell_type": "code",
            "execution_count": 5,
            "metadata": {},
            "outputs": [
                {
                    "data": {
                        "text/html": [
                            "\u003ctable\u003e\u003cthead\u003e\u003ctr\u003e\u003cth style=\"text-align: left\"\u003eid\u003c/th\u003e\u003cth style=\"text-align: left\"\u003edate\u003c/th\u003e\u003cth style=\"text-align: left\"\u003elist_price\u003c/th\u003e\u003cth style=\"text-align: left\"\u003eprice\u003c/th\u003e\u003cth style=\"text-align: left\"\u003ecustomer_id\u003c/th\u003e\u003cth style=\"text-align: left\"\u003ecar_id\u003c/th\u003e\u003cth style=\"text-align: left\"\u003eemployee_id\u003c/th\u003e\u003c/tr\u003e\u003c/thead\u003e\u003ctbody\u003e\u003ctr\u003e\u003ctd style=\"text-align: right\"\u003e1\u003c/td\u003e\u003ctd style=\"text-align: left\"\u003e2017-11-09\u003c/td\u003e\u003ctd style=\"text-align: right\"\u003e12500\u003c/td\u003e\u003ctd style=\"text-align: right\"\u003e12260.0\u003c/td\u003e\u003ctd style=\"text-align: right\"\u003e1555\u003c/td\u003e\u003ctd style=\"text-align: right\"\u003e7464\u003c/td\u003e\u003ctd style=\"text-align: right\"\u003e25\u003c/td\u003e\u003c/tr\u003e\u003ctr\u003e\u003ctd style=\"text-align: right\"\u003e2\u003c/td\u003e\u003ctd style=\"text-align: left\"\u003e2010-05-05\u003c/td\u003e\u003ctd style=\"text-align: right\"\u003e15800\u003c/td\u003e\u003ctd style=\"text-align: right\"\u003e14930.0\u003c/td\u003e\u003ctd style=\"text-align: right\"\u003e2270\u003c/td\u003e\u003ctd style=\"text-align: right\"\u003e4358\u003c/td\u003e\u003ctd style=\"text-align: right\"\u003e7\u003c/td\u003e\u003c/tr\u003e\u003ctr\u003e\u003ctd style=\"text-align: right\"\u003e3\u003c/td\u003e\u003ctd style=\"text-align: left\"\u003e2020-05-07\u003c/td\u003e\u003ctd style=\"text-align: right\"\u003e11800\u003c/td\u003e\u003ctd style=\"text-align: right\"\u003e11070.0\u003c/td\u003e\u003ctd style=\"text-align: right\"\u003e3481\u003c/td\u003e\u003ctd style=\"text-align: right\"\u003e1633\u003c/td\u003e\u003ctd style=\"text-align: right\"\u003e16\u003c/td\u003e\u003c/tr\u003e\u003ctr\u003e\u003ctd style=\"text-align: right\"\u003e4\u003c/td\u003e\u003ctd style=\"text-align: left\"\u003e2020-09-22\u003c/td\u003e\u003ctd style=\"text-align: right\"\u003e30200\u003c/td\u003e\u003ctd style=\"text-align: right\"\u003e30110.0\u003c/td\u003e\u003ctd style=\"text-align: right\"\u003e3465\u003c/td\u003e\u003ctd style=\"text-align: right\"\u003e6161\u003c/td\u003e\u003ctd style=\"text-align: right\"\u003e1\u003c/td\u003e\u003c/tr\u003e\u003ctr\u003e\u003ctd style=\"text-align: right\"\u003e5\u003c/td\u003e\u003ctd style=\"text-align: left\"\u003e2017-07-03\u003c/td\u003e\u003ctd style=\"text-align: right\"\u003e25200\u003c/td\u003e\u003ctd style=\"text-align: right\"\u003e24360.0\u003c/td\u003e\u003ctd style=\"text-align: right\"\u003e834\u003c/td\u003e\u003ctd style=\"text-align: right\"\u003e3811\u003c/td\u003e\u003ctd style=\"text-align: right\"\u003e16\u003c/td\u003e\u003c/tr\u003e\u003ctr\u003e\u003ctd style=\"text-align: right\"\u003e6\u003c/td\u003e\u003ctd style=\"text-align: left\"\u003e2021-04-01\u003c/td\u003e\u003ctd style=\"text-align: right\"\u003e37600\u003c/td\u003e\u003ctd style=\"text-align: right\"\u003e37370.0\u003c/td\u003e\u003ctd style=\"text-align: right\"\u003e1541\u003c/td\u003e\u003ctd style=\"text-align: right\"\u003e4850\u003c/td\u003e\u003ctd style=\"text-align: right\"\u003e8\u003c/td\u003e\u003c/tr\u003e\u003ctr\u003e\u003ctd style=\"text-align: right\"\u003e7\u003c/td\u003e\u003ctd style=\"text-align: left\"\u003e2019-11-29\u003c/td\u003e\u003ctd style=\"text-align: right\"\u003e10300\u003c/td\u003e\u003ctd style=\"text-align: right\"\u003e10230.0\u003c/td\u003e\u003ctd style=\"text-align: right\"\u003e1215\u003c/td\u003e\u003ctd style=\"text-align: right\"\u003e6784\u003c/td\u003e\u003ctd style=\"text-align: right\"\u003e1\u003c/td\u003e\u003c/tr\u003e\u003ctr\u003e\u003ctd style=\"text-align: right\"\u003e8\u003c/td\u003e\u003ctd style=\"text-align: left\"\u003e2021-05-11\u003c/td\u003e\u003ctd style=\"text-align: right\"\u003e19300\u003c/td\u003e\u003ctd style=\"text-align: right\"\u003e19450.0\u003c/td\u003e\u003ctd style=\"text-align: right\"\u003e1914\u003c/td\u003e\u003ctd style=\"text-align: right\"\u003e1110\u003c/td\u003e\u003ctd style=\"text-align: right\"\u003e24\u003c/td\u003e\u003c/tr\u003e\u003ctr\u003e\u003ctd style=\"text-align: right\"\u003e9\u003c/td\u003e\u003ctd style=\"text-align: left\"\u003e2019-11-11\u003c/td\u003e\u003ctd style=\"text-align: right\"\u003e20400\u003c/td\u003e\u003ctd style=\"text-align: right\"\u003e19470.0\u003c/td\u003e\u003ctd style=\"text-align: right\"\u003e711\u003c/td\u003e\u003ctd style=\"text-align: right\"\u003e7882\u003c/td\u003e\u003ctd style=\"text-align: right\"\u003e21\u003c/td\u003e\u003c/tr\u003e\u003ctr\u003e\u003ctd style=\"text-align: right\"\u003e10\u003c/td\u003e\u003ctd style=\"text-align: left\"\u003e2021-07-22\u003c/td\u003e\u003ctd style=\"text-align: right\"\u003e31500\u003c/td\u003e\u003ctd style=\"text-align: right\"\u003e30150.0\u003c/td\u003e\u003ctd style=\"text-align: right\"\u003e1609\u003c/td\u003e\u003ctd style=\"text-align: right\"\u003e1202\u003c/td\u003e\u003ctd style=\"text-align: right\"\u003e16\u003c/td\u003e\u003c/tr\u003e\u003c/tbody\u003e\u003c/table\u003e"
                        ],
                        "text/plain": [
                            "\u003cIPython.core.display.HTML object\u003e"
                        ]
                    },
                    "execution_count": 5,
                    "metadata": {},
                    "output_type": "execute_result"
                }
            ],
            "source": [
                "%%sql\n",
                "\n",
                "SELECT * \n",
                "FROM Sales \n",
                "LIMIT 10"
            ]
        },
        {
            "attachments": {},
            "cell_type": "markdown",
            "metadata": {},
            "source": [
                "# 3. SQL-syntax\n",
                "\n",
                "## The `SELECT` and `FROM` statements:\n",
                "\n",
                "- SQL is not case sensitive (Python is case sensitive) and `select` and `SELECT` is treated the same \n",
                "\n",
                "`SELECT column_name` \n",
                "\n",
                "`FROM table_name`\n",
                "\n",
                "## The `WHERE` clause:\n",
                "\n",
                "`SELECT column_name` \n",
                "\n",
                "`FROM table_name` \n",
                "\n",
                "`WHERE condition`\n",
                "\n",
                "## The `ORDER BY` statement:\n",
                "\n",
                "`SELECT column_name`\n",
                "\n",
                "`FROM table_name`\n",
                "\n",
                "`ORDER BY column_name [ASC or DESC]`"
            ]
        },
        {
            "attachments": {},
            "cell_type": "markdown",
            "metadata": {},
            "source": [
                "## Functions:\n",
                "\n",
                "- `count` used to count rows \n",
                "- `min` used to find the minimum value\n",
                "- `max` used to find the maximum value\n",
                "- `avg` used to calculate the mean\n",
                "\n",
                "## Example\n",
                "\n",
                "`SELECT min(Sales.price)`\n",
                "\n",
                "`FROM Sales`"
            ]
        }
    ]
}
