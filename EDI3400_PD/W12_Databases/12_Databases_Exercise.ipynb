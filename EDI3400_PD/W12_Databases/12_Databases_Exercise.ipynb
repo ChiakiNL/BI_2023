{
 "cells": [
  {
   "cell_type": "code",
   "execution_count": 1,
   "metadata": {},
   "outputs": [
    {
     "data": {
      "text/html": [
       "<div>\n",
       "<style scoped>\n",
       "    .dataframe tbody tr th:only-of-type {\n",
       "        vertical-align: middle;\n",
       "    }\n",
       "\n",
       "    .dataframe tbody tr th {\n",
       "        vertical-align: top;\n",
       "    }\n",
       "\n",
       "    .dataframe thead th {\n",
       "        text-align: right;\n",
       "    }\n",
       "</style>\n",
       "<table border=\"1\" class=\"dataframe\">\n",
       "  <thead>\n",
       "    <tr style=\"text-align: right;\">\n",
       "      <th></th>\n",
       "      <th>0</th>\n",
       "      <th>1</th>\n",
       "      <th>2</th>\n",
       "    </tr>\n",
       "  </thead>\n",
       "  <tbody>\n",
       "    <tr>\n",
       "      <th>0</th>\n",
       "      <td>1</td>\n",
       "      <td>Ted</td>\n",
       "      <td>0.65</td>\n",
       "    </tr>\n",
       "    <tr>\n",
       "      <th>1</th>\n",
       "      <td>2</td>\n",
       "      <td>Lisa</td>\n",
       "      <td>0.68</td>\n",
       "    </tr>\n",
       "    <tr>\n",
       "      <th>2</th>\n",
       "      <td>3</td>\n",
       "      <td>Eric</td>\n",
       "      <td>0.50</td>\n",
       "    </tr>\n",
       "  </tbody>\n",
       "</table>\n",
       "</div>"
      ],
      "text/plain": [
       "   0     1     2\n",
       "0  1   Ted  0.65\n",
       "1  2  Lisa  0.68\n",
       "2  3  Eric  0.50"
      ]
     },
     "execution_count": 1,
     "metadata": {},
     "output_type": "execute_result"
    }
   ],
   "source": [
    "# Accessing a database with Python\n",
    "\n",
    "# sqlite3 is part of the Standard Library\n",
    "\n",
    "import sqlite3\n",
    "\n",
    "# We can connect to our database\n",
    "# Make sure the database is stored in the same folder as the notebook\n",
    "\n",
    "con = sqlite3.connect(\"example_db.db\")\n",
    "\n",
    "# In order to execute SQL statements and fetch results from SQL queries, \n",
    "# we will need to use a database cursor.\n",
    "\n",
    "cur = con.cursor()\n",
    "\n",
    "# Now we are connected to the database and we have a cursor \n",
    "# and we can execute an SQL query\n",
    "\n",
    "res = cur.execute(\"SELECT * FROM Employees\")\n",
    "\n",
    "# We can get all the information from the query using fetchall\n",
    "\n",
    "employees_table = res.fetchall()\n",
    "\n",
    "employees_table\n",
    "\n",
    "import pandas as pd\n",
    "pd.DataFrame(employees_table)"
   ]
  },
  {
   "cell_type": "code",
   "execution_count": 3,
   "metadata": {},
   "outputs": [
    {
     "ename": "SyntaxError",
     "evalue": "invalid syntax (2683722770.py, line 9)",
     "output_type": "error",
     "traceback": [
      "\u001b[1;36m  Cell \u001b[1;32mIn[3], line 9\u001b[1;36m\u001b[0m\n\u001b[1;33m    SELECT * FROM Employees\u001b[0m\n\u001b[1;37m                  ^\u001b[0m\n\u001b[1;31mSyntaxError\u001b[0m\u001b[1;31m:\u001b[0m invalid syntax\n"
     ]
    }
   ],
   "source": [
    "# Accessing a database in a notebook\n",
    "\n",
    "%load_ext isqlite3\n",
    "\n",
    "%sql_open example_db.db\n",
    "\n",
    "%%sql\n",
    "\n",
    "SELECT * FROM Employees"
   ]
  }
 ],
 "metadata": {
  "kernelspec": {
   "display_name": "Python 3",
   "language": "python",
   "name": "python3"
  },
  "language_info": {
   "codemirror_mode": {
    "name": "ipython",
    "version": 3
   },
   "file_extension": ".py",
   "mimetype": "text/x-python",
   "name": "python",
   "nbconvert_exporter": "python",
   "pygments_lexer": "ipython3",
   "version": "3.11.2"
  }
 },
 "nbformat": 4,
 "nbformat_minor": 2
}
