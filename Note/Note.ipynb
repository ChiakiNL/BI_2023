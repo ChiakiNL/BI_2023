{
 "cells": [
  {
   "cell_type": "code",
   "execution_count": 1,
   "metadata": {},
   "outputs": [
    {
     "name": "stdout",
     "output_type": "stream",
     "text": [
      "The IRR is: 5.12%\n"
     ]
    }
   ],
   "source": [
    "# IRRの計算\n",
    "\n",
    "import numpy_financial as npf\n",
    "\n",
    "# キャッシュフローの定義\n",
    "cash_flows = [-160, 10, 10, 10, 10, 160]\n",
    "\n",
    "# IRRの計算\n",
    "irr = npf.irr(cash_flows)\n",
    "print(f\"The IRR is: {irr * 100:.2f}%\")\n"
   ]
  }
 ],
 "metadata": {
  "kernelspec": {
   "display_name": "Python 3",
   "language": "python",
   "name": "python3"
  },
  "language_info": {
   "codemirror_mode": {
    "name": "ipython",
    "version": 3
   },
   "file_extension": ".py",
   "mimetype": "text/x-python",
   "name": "python",
   "nbconvert_exporter": "python",
   "pygments_lexer": "ipython3",
   "version": "3.11.2"
  }
 },
 "nbformat": 4,
 "nbformat_minor": 2
}
